{
 "cells": [
  {
   "cell_type": "code",
   "execution_count": 0,
   "metadata": {
    "application/vnd.databricks.v1+cell": {
     "inputWidgets": {},
     "nuid": "df8bb5bd-3c4d-487d-9f92-3f24ed6153cf",
     "showTitle": false,
     "title": ""
    }
   },
   "outputs": [],
   "source": [
    "##########################################################################################################\n",
    "# VERSION  \tDESARROLLADOR             FECHA        DESCRIPCION\n",
    "# -------------------------------------------------------------\n",
    "#  1        Walter Albites Azarte     15/06/2020   Curso Basico de Databricks - 3 ETL Pysark\n",
    "##########################################################################################################"
   ]
  },
  {
   "cell_type": "markdown",
   "metadata": {
    "application/vnd.databricks.v1+cell": {
     "inputWidgets": {},
     "nuid": "fefdc380-1dde-47d3-8cbb-2340a7c841d2",
     "showTitle": false,
     "title": ""
    }
   },
   "source": [
    "# I Importar Librerias"
   ]
  },
  {
   "cell_type": "markdown",
   "metadata": {
    "application/vnd.databricks.v1+cell": {
     "inputWidgets": {},
     "nuid": "1d1c97e5-d842-4d3b-8dba-4753e9ffadb2",
     "showTitle": false,
     "title": ""
    }
   },
   "source": [
    "## 1.1 ETL con PySpark"
   ]
  },
  {
   "cell_type": "code",
   "execution_count": 0,
   "metadata": {
    "application/vnd.databricks.v1+cell": {
     "inputWidgets": {},
     "nuid": "85f0bf8f-2650-4bca-9acb-6a00272374d7",
     "showTitle": false,
     "title": ""
    }
   },
   "outputs": [],
   "source": [
    "##########################################################################################################\n",
    "# Importar Librerias Necesarias pyspark\n",
    "##########################################################################################################\n",
    "import pyspark.sql.types as T\n",
    "import pyspark.sql.functions as F"
   ]
  },
  {
   "cell_type": "code",
   "execution_count": 0,
   "metadata": {
    "application/vnd.databricks.v1+cell": {
     "inputWidgets": {},
     "nuid": "01bd0876-55c1-4aea-bde2-2d90a5dd06f3",
     "showTitle": false,
     "title": ""
    }
   },
   "outputs": [
    {
     "data": {
      "text/html": [
       "<style scoped>\n",
       "  .table-result-container {\n",
       "    max-height: 300px;\n",
       "    overflow: auto;\n",
       "  }\n",
       "  table, th, td {\n",
       "    border: 1px solid black;\n",
       "    border-collapse: collapse;\n",
       "  }\n",
       "  th, td {\n",
       "    padding: 5px;\n",
       "  }\n",
       "  th {\n",
       "    text-align: left;\n",
       "  }\n",
       "</style><div class='table-result-container'><table class='table-result'><thead style='background-color: white'><tr><th>path</th><th>name</th><th>size</th></tr></thead><tbody><tr><td>dbfs:/FileStore/RDV/</td><td>RDV/</td><td>0</td></tr><tr><td>dbfs:/FileStore/UDV/</td><td>UDV/</td><td>0</td></tr><tr><td>dbfs:/FileStore/import-stage/</td><td>import-stage/</td><td>0</td></tr><tr><td>dbfs:/FileStore/tables/</td><td>tables/</td><td>0</td></tr></tbody></table></div>"
      ]
     },
     "metadata": {
      "application/vnd.databricks.v1+output": {
       "addedWidgets": {},
       "aggData": [],
       "aggError": "",
       "aggOverflow": false,
       "aggSchema": [],
       "aggSeriesLimitReached": false,
       "aggType": "",
       "arguments": {},
       "columnCustomDisplayInfos": {},
       "data": [
        [
         "dbfs:/FileStore/RDV/",
         "RDV/",
         0
        ],
        [
         "dbfs:/FileStore/UDV/",
         "UDV/",
         0
        ],
        [
         "dbfs:/FileStore/import-stage/",
         "import-stage/",
         0
        ],
        [
         "dbfs:/FileStore/tables/",
         "tables/",
         0
        ]
       ],
       "datasetInfos": [],
       "dbfsResultPath": null,
       "isJsonSchema": true,
       "metadata": {},
       "overflow": false,
       "plotOptions": {
        "customPlotOptions": {},
        "displayType": "table",
        "pivotAggregation": null,
        "pivotColumns": null,
        "xColumns": null,
        "yColumns": null
       },
       "removedWidgets": [],
       "schema": [
        {
         "metadata": "{}",
         "name": "path",
         "type": "\"string\""
        },
        {
         "metadata": "{}",
         "name": "name",
         "type": "\"string\""
        },
        {
         "metadata": "{}",
         "name": "size",
         "type": "\"long\""
        }
       ],
       "type": "table"
      }
     },
     "output_type": "display_data"
    }
   ],
   "source": [
    "%fs \n",
    "ls dbfs:/FileStore/"
   ]
  },
  {
   "cell_type": "code",
   "execution_count": 0,
   "metadata": {
    "application/vnd.databricks.v1+cell": {
     "inputWidgets": {},
     "nuid": "b2bebcfd-d521-4249-ba8f-39a43cce799f",
     "showTitle": false,
     "title": ""
    }
   },
   "outputs": [
    {
     "data": {
      "text/html": [
       "<style scoped>\n",
       "  .ansiout {\n",
       "    display: block;\n",
       "    unicode-bidi: embed;\n",
       "    white-space: pre-wrap;\n",
       "    word-wrap: break-word;\n",
       "    word-break: break-all;\n",
       "    font-family: \"Source Code Pro\", \"Menlo\", monospace;;\n",
       "    font-size: 13px;\n",
       "    color: #555;\n",
       "    margin-left: 4px;\n",
       "    line-height: 19px;\n",
       "  }\n",
       "</style>\n",
       "<div class=\"ansiout\">Out[2]: True</div>"
      ]
     },
     "metadata": {
      "application/vnd.databricks.v1+output": {
       "addedWidgets": {},
       "arguments": {},
       "data": "<div class=\"ansiout\">Out[2]: True</div>",
       "datasetInfos": [],
       "metadata": {},
       "removedWidgets": [],
       "type": "html"
      }
     },
     "output_type": "display_data"
    }
   ],
   "source": [
    "##########################################################################################################\n",
    "# Crear el directorio RDV\n",
    "# Mover el archivo csv cargado al directorio RDV\n",
    "##########################################################################################################\n",
    "#dbutils.fs.mkdirs(\"dbfs:/FileStore/RDV\")\n",
    "dbutils.fs.cp(\"dbfs:/FileStore/tables/ubigeo.csv\", \"dbfs:/FileStore/RDV/ubigeo.csv\")"
   ]
  },
  {
   "cell_type": "code",
   "execution_count": 0,
   "metadata": {
    "application/vnd.databricks.v1+cell": {
     "inputWidgets": {},
     "nuid": "b2f459a8-edc0-4c8e-8502-cf0808af05bd",
     "showTitle": false,
     "title": ""
    }
   },
   "outputs": [],
   "source": [
    "##########################################################################################################\n",
    "# Comandos magicos para crear editar mover directorios y archivos\n",
    "##########################################################################################################\n",
    "#dbutils.fs.put(\"dbfs:/FileStore/RDV/leeme.txt\", \"Primer Curso de Databricks\")\n",
    "#dbutils.fs.head(\"dbfs:/FileStore/RDV/leeme.txt\")\n",
    "#dbutils.fs.rm(\"dbfs:/FileStore/RDV/leeme.txt\")\n",
    "#%fs\n",
    "#put \"/FileStore/RDV/leeme.txt\" \"Primer Curso de Databricks\"\n",
    "#rm /FileStore/RDV/leeme.txt\n",
    "#ls /FileStore/RDV/\n",
    "#head /FileStore/RDV/leeme.txt"
   ]
  },
  {
   "cell_type": "code",
   "execution_count": 0,
   "metadata": {
    "application/vnd.databricks.v1+cell": {
     "inputWidgets": {},
     "nuid": "cdb8b138-4c8a-4405-abea-e8c045cc9e29",
     "showTitle": false,
     "title": ""
    }
   },
   "outputs": [],
   "source": [
    "#%fs\n",
    "#ls /FileStore/UDV/ubigeo/"
   ]
  },
  {
   "cell_type": "markdown",
   "metadata": {
    "application/vnd.databricks.v1+cell": {
     "inputWidgets": {},
     "nuid": "0feb497f-7d40-48b4-a904-46d49abdc0c3",
     "showTitle": false,
     "title": ""
    }
   },
   "source": [
    "-sandbox\n",
    "### Our ETL Pipeline\n",
    "\n",
    "pipeline ETL que acabara de construir. En el resto de este curso, trabajará con versiones más complejas de este patrón general.\n",
    "\n",
    "| Code | Stage |\n",
    "|------|-------|\n",
    "| `logDF = (spark`                                                                          | Extract |\n",
    "| &nbsp;&nbsp;&nbsp;&nbsp;`.read`                                                           | Extract |\n",
    "| &nbsp;&nbsp;&nbsp;&nbsp;`.option(\"header\", True)`                                         | Extract |\n",
    "| &nbsp;&nbsp;&nbsp;&nbsp;`.csv(<source>)`                                                  | Extract |\n",
    "| `)`                                                                                       | Extract |\n",
    "| `serverErrorDF = (logDF`                                                                  | Transform |\n",
    "| &nbsp;&nbsp;&nbsp;&nbsp;`.filter((col(\"code\") >= 500) & (col(\"code\") < 600))`             | Transform |\n",
    "| &nbsp;&nbsp;&nbsp;&nbsp;`.select(\"date\", \"time\", \"extention\", \"code\")`                    | Transform |\n",
    "| `)`                                                                                       | Transform |\n",
    "| `(serverErrorDF.write`                                                                 | Load |\n",
    "| &nbsp;&nbsp;&nbsp;&nbsp;`.parquet(<destination>))`                                      | Load |\n",
    "\n",
    "<img alt=\"Side Note\" title=\"Side Note\" style=\"vertical-align: text-bottom; position: relative; height:1.75em; top:0.05em; transform:rotate(15deg)\" src=\"https://files.training.databricks.com/static/images/icon-note.webp\"/> Este es un trabajo distribuido, por lo que puede escalar fácilmente para adaptarse a las demandas de su conjunto de datos."
   ]
  },
  {
   "cell_type": "code",
   "execution_count": 0,
   "metadata": {
    "application/vnd.databricks.v1+cell": {
     "inputWidgets": {},
     "nuid": "d59f6b1a-60af-494c-9ade-9c387aff2e70",
     "showTitle": false,
     "title": ""
    }
   },
   "outputs": [
    {
     "data": {
      "text/html": [
       "<style scoped>\n",
       "  .table-result-container {\n",
       "    max-height: 300px;\n",
       "    overflow: auto;\n",
       "  }\n",
       "  table, th, td {\n",
       "    border: 1px solid black;\n",
       "    border-collapse: collapse;\n",
       "  }\n",
       "  th, td {\n",
       "    padding: 5px;\n",
       "  }\n",
       "  th {\n",
       "    text-align: left;\n",
       "  }\n",
       "</style><div class='table-result-container'><table class='table-result'><thead style='background-color: white'><tr><th>UBIGEO</th><th>DISTRITO</th><th>PROVINCIA</th><th>DEPARTAMENTO</th><th>LATITUD</th><th>LONGITUD</th></tr></thead><tbody><tr><td>060401</td><td>CHOTA</td><td>CHOTA</td><td>CAJAMARCA</td><td>-6.555281874</td><td>-78.64146956</td></tr><tr><td>010302</td><td>CHISQUILLA</td><td>BONGARA</td><td>AMAZONAS</td><td>-5.89320537</td><td>-77.78280858</td></tr><tr><td>120807</td><td>SANTA BARBARA DE CARHUACAYAN</td><td>YAULI</td><td>JUNÍN</td><td>-11.21381302</td><td>-76.42904358</td></tr><tr><td>140304</td><td>JAYANCA</td><td>LAMBAYEQUE</td><td>LAMBAYEQUE</td><td>-6.394345534</td><td>-79.81451536</td></tr><tr><td>200601</td><td>SULLANA</td><td>SULLANA</td><td>PIURA</td><td>-4.898786419</td><td>-80.63618267</td></tr></tbody></table></div>"
      ]
     },
     "metadata": {
      "application/vnd.databricks.v1+output": {
       "addedWidgets": {},
       "aggData": [],
       "aggError": "",
       "aggOverflow": false,
       "aggSchema": [],
       "aggSeriesLimitReached": false,
       "aggType": "",
       "arguments": {},
       "columnCustomDisplayInfos": {},
       "data": [
        [
         "060401",
         "CHOTA",
         "CHOTA",
         "CAJAMARCA",
         "-6.555281874",
         "-78.64146956"
        ],
        [
         "010302",
         "CHISQUILLA",
         "BONGARA",
         "AMAZONAS",
         "-5.89320537",
         "-77.78280858"
        ],
        [
         "120807",
         "SANTA BARBARA DE CARHUACAYAN",
         "YAULI",
         "JUNÍN",
         "-11.21381302",
         "-76.42904358"
        ],
        [
         "140304",
         "JAYANCA",
         "LAMBAYEQUE",
         "LAMBAYEQUE",
         "-6.394345534",
         "-79.81451536"
        ],
        [
         "200601",
         "SULLANA",
         "SULLANA",
         "PIURA",
         "-4.898786419",
         "-80.63618267"
        ]
       ],
       "datasetInfos": [],
       "dbfsResultPath": null,
       "isJsonSchema": true,
       "metadata": {},
       "overflow": false,
       "plotOptions": {
        "customPlotOptions": {},
        "displayType": "table",
        "pivotAggregation": null,
        "pivotColumns": null,
        "xColumns": null,
        "yColumns": null
       },
       "removedWidgets": [],
       "schema": [
        {
         "metadata": "{}",
         "name": "UBIGEO",
         "type": "\"string\""
        },
        {
         "metadata": "{}",
         "name": "DISTRITO",
         "type": "\"string\""
        },
        {
         "metadata": "{}",
         "name": "PROVINCIA",
         "type": "\"string\""
        },
        {
         "metadata": "{}",
         "name": "DEPARTAMENTO",
         "type": "\"string\""
        },
        {
         "metadata": "{}",
         "name": "LATITUD",
         "type": "\"string\""
        },
        {
         "metadata": "{}",
         "name": "LONGITUD",
         "type": "\"string\""
        }
       ],
       "type": "table"
      }
     },
     "output_type": "display_data"
    }
   ],
   "source": [
    "##########################################################################################################\n",
    "# 1 Forma Leer en un Dataframe de Pyspark un CSV\n",
    "##########################################################################################################\n",
    "path = \"/FileStore/RDV/ubigeo.csv\"\n",
    "\n",
    "df_ubigeo = (spark\n",
    "  .read\n",
    "  .options(header=True,encoding=\"utf-8\")\n",
    "  .csv(path)\n",
    "  #.sample(withReplacement=False, fraction=0.3, seed=3) \n",
    "  # El parámetro fraction representa la fracción aproximada del conjunto de datos que se devolverá. Por ejemplo, si lo establece en 0.3 , se devolverá el 30% (3/10) de las filas\n",
    "  # seed semilla indica un valor para indentificar la muestra aleatoria, para la siguiente lectura salgan los mismos valores \n",
    ")\n",
    "\n",
    "display(df_ubigeo.limit(5))"
   ]
  },
  {
   "cell_type": "code",
   "execution_count": 0,
   "metadata": {
    "application/vnd.databricks.v1+cell": {
     "inputWidgets": {},
     "nuid": "5830e812-8d24-4ff6-b2d3-b2dc7e4ceafe",
     "showTitle": false,
     "title": ""
    }
   },
   "outputs": [
    {
     "data": {
      "text/html": [
       "<style scoped>\n",
       "  .ansiout {\n",
       "    display: block;\n",
       "    unicode-bidi: embed;\n",
       "    white-space: pre-wrap;\n",
       "    word-wrap: break-word;\n",
       "    word-break: break-all;\n",
       "    font-family: \"Source Code Pro\", \"Menlo\", monospace;;\n",
       "    font-size: 13px;\n",
       "    color: #555;\n",
       "    margin-left: 4px;\n",
       "    line-height: 19px;\n",
       "  }\n",
       "</style>\n",
       "<div class=\"ansiout\">Out[5]: 1814</div>"
      ]
     },
     "metadata": {
      "application/vnd.databricks.v1+output": {
       "addedWidgets": {},
       "arguments": {},
       "data": "<div class=\"ansiout\">Out[5]: 1814</div>",
       "datasetInfos": [],
       "metadata": {},
       "removedWidgets": [],
       "type": "html"
      }
     },
     "output_type": "display_data"
    }
   ],
   "source": [
    "df_ubigeo.count()"
   ]
  },
  {
   "cell_type": "code",
   "execution_count": 0,
   "metadata": {
    "application/vnd.databricks.v1+cell": {
     "inputWidgets": {},
     "nuid": "1fc398a7-62f3-48e5-8954-5d8e81cd2c03",
     "showTitle": false,
     "title": ""
    }
   },
   "outputs": [
    {
     "data": {
      "text/html": [
       "<style scoped>\n",
       "  .table-result-container {\n",
       "    max-height: 300px;\n",
       "    overflow: auto;\n",
       "  }\n",
       "  table, th, td {\n",
       "    border: 1px solid black;\n",
       "    border-collapse: collapse;\n",
       "  }\n",
       "  th, td {\n",
       "    padding: 5px;\n",
       "  }\n",
       "  th {\n",
       "    text-align: left;\n",
       "  }\n",
       "</style><div class='table-result-container'><table class='table-result'><thead style='background-color: white'><tr><th>UBIGEO</th><th>DISTRITO</th><th>PROVINCIA</th><th>DEPARTAMENTO</th><th>LATITUD</th><th>LONGITUD</th></tr></thead><tbody><tr><td>60401</td><td>CHOTA</td><td>CHOTA</td><td>CAJAMARCA</td><td>-6.555281874</td><td>-78.64146956</td></tr><tr><td>10302</td><td>CHISQUILLA</td><td>BONGARA</td><td>AMAZONAS</td><td>-5.89320537</td><td>-77.78280858</td></tr><tr><td>120807</td><td>SANTA BARBARA DE CARHUACAYAN</td><td>YAULI</td><td>JUNÍN</td><td>-11.21381302</td><td>-76.42904358</td></tr><tr><td>140304</td><td>JAYANCA</td><td>LAMBAYEQUE</td><td>LAMBAYEQUE</td><td>-6.394345534</td><td>-79.81451536</td></tr><tr><td>200601</td><td>SULLANA</td><td>SULLANA</td><td>PIURA</td><td>-4.898786419</td><td>-80.63618267</td></tr></tbody></table></div>"
      ]
     },
     "metadata": {
      "application/vnd.databricks.v1+output": {
       "addedWidgets": {},
       "aggData": [],
       "aggError": "",
       "aggOverflow": false,
       "aggSchema": [],
       "aggSeriesLimitReached": false,
       "aggType": "",
       "arguments": {},
       "columnCustomDisplayInfos": {},
       "data": [
        [
         60401,
         "CHOTA",
         "CHOTA",
         "CAJAMARCA",
         -6.555281874,
         -78.64146956
        ],
        [
         10302,
         "CHISQUILLA",
         "BONGARA",
         "AMAZONAS",
         -5.89320537,
         -77.78280858
        ],
        [
         120807,
         "SANTA BARBARA DE CARHUACAYAN",
         "YAULI",
         "JUNÍN",
         -11.21381302,
         -76.42904358
        ],
        [
         140304,
         "JAYANCA",
         "LAMBAYEQUE",
         "LAMBAYEQUE",
         -6.394345534,
         -79.81451536
        ],
        [
         200601,
         "SULLANA",
         "SULLANA",
         "PIURA",
         -4.898786419,
         -80.63618267
        ]
       ],
       "datasetInfos": [],
       "dbfsResultPath": null,
       "isJsonSchema": true,
       "metadata": {},
       "overflow": false,
       "plotOptions": {
        "customPlotOptions": {},
        "displayType": "table",
        "pivotAggregation": null,
        "pivotColumns": null,
        "xColumns": null,
        "yColumns": null
       },
       "removedWidgets": [],
       "schema": [
        {
         "metadata": "{}",
         "name": "UBIGEO",
         "type": "\"integer\""
        },
        {
         "metadata": "{}",
         "name": "DISTRITO",
         "type": "\"string\""
        },
        {
         "metadata": "{}",
         "name": "PROVINCIA",
         "type": "\"string\""
        },
        {
         "metadata": "{}",
         "name": "DEPARTAMENTO",
         "type": "\"string\""
        },
        {
         "metadata": "{}",
         "name": "LATITUD",
         "type": "\"double\""
        },
        {
         "metadata": "{}",
         "name": "LONGITUD",
         "type": "\"double\""
        }
       ],
       "type": "table"
      }
     },
     "output_type": "display_data"
    }
   ],
   "source": [
    "##########################################################################################################\n",
    "# 2 Forma Leer en un Dataframe de Pyspark un CSV, no lo lee bien falta un cero a proposito para aplicar una transformacion\n",
    "##########################################################################################################\n",
    "df_ubigeo = spark.read.csv(\"/FileStore/RDV/ubigeo.csv\", inferSchema=True, header=True, encoding=\"utf-8\")\n",
    "display(df_ubigeo.limit(5))"
   ]
  },
  {
   "cell_type": "code",
   "execution_count": 0,
   "metadata": {
    "application/vnd.databricks.v1+cell": {
     "inputWidgets": {},
     "nuid": "ae993015-3bc0-4d56-86d7-a0db5cac927d",
     "showTitle": false,
     "title": ""
    }
   },
   "outputs": [],
   "source": [
    "##########################################################################################################\n",
    "# UDF (User Defined Functions) son las funciones de usuario, y son sistemas para definir nuevos métodos SQL que operan sobre las columnas de un DataFrame.\n",
    "# Crear un UDF función definida por el usuario para completar el cero adelante de una columna\n",
    "##########################################################################################################\n",
    "udf_completar_ubigeo = udf(lambda x: str(x).zfill(6), T.StringType())"
   ]
  },
  {
   "cell_type": "code",
   "execution_count": 0,
   "metadata": {
    "application/vnd.databricks.v1+cell": {
     "inputWidgets": {},
     "nuid": "03c5927a-4263-44ab-9475-b845b775e2f0",
     "showTitle": false,
     "title": ""
    }
   },
   "outputs": [],
   "source": [
    "##########################################################################################################\n",
    "# Aplicar la transformacion de la columna aplicando UDF\n",
    "##########################################################################################################\n",
    "df_ubigeo = df_ubigeo.select(udf_completar_ubigeo(F.col(\"UBIGEO\")).alias(\"UBIGEO\"), F.col(\"DEPARTAMENTO\").alias(\"DEP\"), F.col(\"PROVINCIA\").alias(\"PRO\"), F.col(\"DISTRITO\").alias(\"DIS\"), F.col(\"LATITUD\").alias(\"LAT\"), F.col(\"LONGITUD\").alias(\"LON\"))"
   ]
  },
  {
   "cell_type": "code",
   "execution_count": 0,
   "metadata": {
    "application/vnd.databricks.v1+cell": {
     "inputWidgets": {},
     "nuid": "cc9b6b05-21f3-4e16-b396-1b38647715fd",
     "showTitle": false,
     "title": ""
    }
   },
   "outputs": [
    {
     "data": {
      "text/html": [
       "<style scoped>\n",
       "  .table-result-container {\n",
       "    max-height: 300px;\n",
       "    overflow: auto;\n",
       "  }\n",
       "  table, th, td {\n",
       "    border: 1px solid black;\n",
       "    border-collapse: collapse;\n",
       "  }\n",
       "  th, td {\n",
       "    padding: 5px;\n",
       "  }\n",
       "  th {\n",
       "    text-align: left;\n",
       "  }\n",
       "</style><div class='table-result-container'><table class='table-result'><thead style='background-color: white'><tr><th>UBIGEO</th><th>DEP</th><th>PRO</th><th>DIS</th><th>LAT</th><th>LON</th></tr></thead><tbody><tr><td>060401</td><td>CAJAMARCA</td><td>CHOTA</td><td>CHOTA</td><td>-6.555281874</td><td>-78.64146956</td></tr><tr><td>010302</td><td>AMAZONAS</td><td>BONGARA</td><td>CHISQUILLA</td><td>-5.89320537</td><td>-77.78280858</td></tr><tr><td>120807</td><td>JUNÍN</td><td>YAULI</td><td>SANTA BARBARA DE CARHUACAYAN</td><td>-11.21381302</td><td>-76.42904358</td></tr><tr><td>140304</td><td>LAMBAYEQUE</td><td>LAMBAYEQUE</td><td>JAYANCA</td><td>-6.394345534</td><td>-79.81451536</td></tr><tr><td>200601</td><td>PIURA</td><td>SULLANA</td><td>SULLANA</td><td>-4.898786419</td><td>-80.63618267</td></tr></tbody></table></div>"
      ]
     },
     "metadata": {
      "application/vnd.databricks.v1+output": {
       "addedWidgets": {},
       "aggData": [],
       "aggError": "",
       "aggOverflow": false,
       "aggSchema": [],
       "aggSeriesLimitReached": false,
       "aggType": "",
       "arguments": {},
       "columnCustomDisplayInfos": {},
       "data": [
        [
         "060401",
         "CAJAMARCA",
         "CHOTA",
         "CHOTA",
         -6.555281874,
         -78.64146956
        ],
        [
         "010302",
         "AMAZONAS",
         "BONGARA",
         "CHISQUILLA",
         -5.89320537,
         -77.78280858
        ],
        [
         "120807",
         "JUNÍN",
         "YAULI",
         "SANTA BARBARA DE CARHUACAYAN",
         -11.21381302,
         -76.42904358
        ],
        [
         "140304",
         "LAMBAYEQUE",
         "LAMBAYEQUE",
         "JAYANCA",
         -6.394345534,
         -79.81451536
        ],
        [
         "200601",
         "PIURA",
         "SULLANA",
         "SULLANA",
         -4.898786419,
         -80.63618267
        ]
       ],
       "datasetInfos": [],
       "dbfsResultPath": null,
       "isJsonSchema": true,
       "metadata": {},
       "overflow": false,
       "plotOptions": {
        "customPlotOptions": {},
        "displayType": "table",
        "pivotAggregation": null,
        "pivotColumns": null,
        "xColumns": null,
        "yColumns": null
       },
       "removedWidgets": [],
       "schema": [
        {
         "metadata": "{}",
         "name": "UBIGEO",
         "type": "\"string\""
        },
        {
         "metadata": "{}",
         "name": "DEP",
         "type": "\"string\""
        },
        {
         "metadata": "{}",
         "name": "PRO",
         "type": "\"string\""
        },
        {
         "metadata": "{}",
         "name": "DIS",
         "type": "\"string\""
        },
        {
         "metadata": "{}",
         "name": "LAT",
         "type": "\"double\""
        },
        {
         "metadata": "{}",
         "name": "LON",
         "type": "\"double\""
        }
       ],
       "type": "table"
      }
     },
     "output_type": "display_data"
    }
   ],
   "source": [
    "display(df_ubigeo.limit(5))"
   ]
  },
  {
   "cell_type": "code",
   "execution_count": 0,
   "metadata": {
    "application/vnd.databricks.v1+cell": {
     "inputWidgets": {},
     "nuid": "767e1997-9cc6-4a70-824f-c941c70ce7c4",
     "showTitle": false,
     "title": ""
    }
   },
   "outputs": [],
   "source": [
    "##########################################################################################################\n",
    "# Crear el directorio UDV\n",
    "# El objetivo es copiar la data que se necesita a UDV\n",
    "##########################################################################################################\n",
    "dbutils.fs.mkdirs(\"dbfs:/FileStore/UDV\")"
   ]
  },
  {
   "cell_type": "code",
   "execution_count": 0,
   "metadata": {
    "application/vnd.databricks.v1+cell": {
     "inputWidgets": {},
     "nuid": "80e58b54-6e37-4c90-b9a2-a5e0c6186922",
     "showTitle": false,
     "title": ""
    }
   },
   "outputs": [
    {
     "data": {
      "text/html": [
       "<style scoped>\n",
       "  .table-result-container {\n",
       "    max-height: 300px;\n",
       "    overflow: auto;\n",
       "  }\n",
       "  table, th, td {\n",
       "    border: 1px solid black;\n",
       "    border-collapse: collapse;\n",
       "  }\n",
       "  th, td {\n",
       "    padding: 5px;\n",
       "  }\n",
       "  th {\n",
       "    text-align: left;\n",
       "  }\n",
       "</style><div class='table-result-container'><table class='table-result'><thead style='background-color: white'><tr><th>UBIGEO</th><th>DEP</th><th>PRO</th><th>DIS</th><th>LAT</th><th>LON</th></tr></thead><tbody><tr><td>060401</td><td>CAJAMARCA</td><td>CHOTA</td><td>CHOTA</td><td>-6.555281874</td><td>-78.64146956</td></tr><tr><td>061303</td><td>CAJAMARCA</td><td>SANTA CRUZ</td><td>CATACHE</td><td>-6.735890508</td><td>-79.04859161</td></tr><tr><td>061307</td><td>CAJAMARCA</td><td>SANTA CRUZ</td><td>PULAN</td><td>-6.745548677</td><td>-78.92685928</td></tr><tr><td>060504</td><td>CAJAMARCA</td><td>CONTUMAZA</td><td>GUZMANGO</td><td>-7.367974043</td><td>-78.91690445</td></tr><tr><td>060404</td><td>CAJAMARCA</td><td>CHOTA</td><td>CHIGUIRIP</td><td>-6.409399128</td><td>-78.69964905</td></tr></tbody></table></div>"
      ]
     },
     "metadata": {
      "application/vnd.databricks.v1+output": {
       "addedWidgets": {},
       "aggData": [],
       "aggError": "",
       "aggOverflow": false,
       "aggSchema": [],
       "aggSeriesLimitReached": false,
       "aggType": "",
       "arguments": {},
       "columnCustomDisplayInfos": {},
       "data": [
        [
         "060401",
         "CAJAMARCA",
         "CHOTA",
         "CHOTA",
         -6.555281874,
         -78.64146956
        ],
        [
         "061303",
         "CAJAMARCA",
         "SANTA CRUZ",
         "CATACHE",
         -6.735890508,
         -79.04859161
        ],
        [
         "061307",
         "CAJAMARCA",
         "SANTA CRUZ",
         "PULAN",
         -6.745548677,
         -78.92685928
        ],
        [
         "060504",
         "CAJAMARCA",
         "CONTUMAZA",
         "GUZMANGO",
         -7.367974043,
         -78.91690445
        ],
        [
         "060404",
         "CAJAMARCA",
         "CHOTA",
         "CHIGUIRIP",
         -6.409399128,
         -78.69964905
        ]
       ],
       "datasetInfos": [],
       "dbfsResultPath": null,
       "isJsonSchema": true,
       "metadata": {},
       "overflow": false,
       "plotOptions": {
        "customPlotOptions": {},
        "displayType": "table",
        "pivotAggregation": null,
        "pivotColumns": null,
        "xColumns": null,
        "yColumns": null
       },
       "removedWidgets": [],
       "schema": [
        {
         "metadata": "{}",
         "name": "UBIGEO",
         "type": "\"string\""
        },
        {
         "metadata": "{}",
         "name": "DEP",
         "type": "\"string\""
        },
        {
         "metadata": "{}",
         "name": "PRO",
         "type": "\"string\""
        },
        {
         "metadata": "{}",
         "name": "DIS",
         "type": "\"string\""
        },
        {
         "metadata": "{}",
         "name": "LAT",
         "type": "\"double\""
        },
        {
         "metadata": "{}",
         "name": "LON",
         "type": "\"double\""
        }
       ],
       "type": "table"
      }
     },
     "output_type": "display_data"
    }
   ],
   "source": [
    "##########################################################################################################\n",
    "# El objetivo es copiar solo los Ubigeos de Cajamarca en  las nuevas columnas\n",
    "##########################################################################################################\n",
    "from pyspark.sql.functions import col\n",
    "\n",
    "df_ubigeo_lima = (df_ubigeo\n",
    "  .filter(col(\"DEP\") == \"CAJAMARCA\")\n",
    "  .select(udf_completar_ubigeo(\"UBIGEO\").alias(\"UBIGEO\") , \"DEP\", \"PRO\", \"DIS\",\"LAT\",\"LON\")\n",
    ")\n",
    "\n",
    "display(df_ubigeo_lima.limit(5))"
   ]
  },
  {
   "cell_type": "code",
   "execution_count": 0,
   "metadata": {
    "application/vnd.databricks.v1+cell": {
     "inputWidgets": {},
     "nuid": "e0d1086e-1971-4a76-aa80-8f02ff2e35de",
     "showTitle": false,
     "title": ""
    }
   },
   "outputs": [],
   "source": [
    "##########################################################################################################\n",
    "# Escribir en UDV la nueva data \n",
    "##########################################################################################################\n",
    "#df_ubigeo_lima.write.parquet(\"/FileStore/UDV/ubigeo\", mode='overwrite', compression=\"snappy\")\n",
    "\n",
    "targetPath = \"/FileStore/UDV/ubigeo\"\n",
    "\n",
    "(df_ubigeo_lima\n",
    "  .write\n",
    "  .mode(\"overwrite\") # overwrites a file if it already exists\n",
    "  .parquet(targetPath)\n",
    ")\n"
   ]
  },
  {
   "cell_type": "code",
   "execution_count": 0,
   "metadata": {
    "application/vnd.databricks.v1+cell": {
     "inputWidgets": {},
     "nuid": "262682ff-1854-43c8-b8e4-3991fb00e314",
     "showTitle": false,
     "title": ""
    }
   },
   "outputs": [],
   "source": [
    "##########################################################################################################\n",
    "# Crear la base de datos databricks\n",
    "##########################################################################################################"
   ]
  },
  {
   "cell_type": "code",
   "execution_count": 0,
   "metadata": {
    "application/vnd.databricks.v1+cell": {
     "inputWidgets": {},
     "nuid": "6e1dae33-04bc-4802-8a39-17873675a3ce",
     "showTitle": false,
     "title": ""
    }
   },
   "outputs": [
    {
     "data": {
      "text/html": [
       "<style scoped>\n",
       "  .table-result-container {\n",
       "    max-height: 300px;\n",
       "    overflow: auto;\n",
       "  }\n",
       "  table, th, td {\n",
       "    border: 1px solid black;\n",
       "    border-collapse: collapse;\n",
       "  }\n",
       "  th, td {\n",
       "    padding: 5px;\n",
       "  }\n",
       "  th {\n",
       "    text-align: left;\n",
       "  }\n",
       "</style><div class='table-result-container'><table class='table-result'><thead style='background-color: white'><tr></tr></thead><tbody></tbody></table></div>"
      ]
     },
     "metadata": {
      "application/vnd.databricks.v1+output": {
       "addedWidgets": {},
       "aggData": [],
       "aggError": "",
       "aggOverflow": false,
       "aggSchema": [],
       "aggSeriesLimitReached": false,
       "aggType": "",
       "arguments": {},
       "columnCustomDisplayInfos": {},
       "data": [],
       "datasetInfos": [],
       "dbfsResultPath": null,
       "isJsonSchema": true,
       "metadata": {
        "isDbfsCommandResult": false
       },
       "overflow": false,
       "plotOptions": {
        "customPlotOptions": {},
        "displayType": "table",
        "pivotAggregation": null,
        "pivotColumns": null,
        "xColumns": null,
        "yColumns": null
       },
       "removedWidgets": [],
       "schema": [],
       "type": "table"
      }
     },
     "output_type": "display_data"
    }
   ],
   "source": [
    "%sql\n",
    "DROP DATABASE IF EXISTS databricks;\n",
    "CREATE DATABASE IF NOT EXISTS databricks;"
   ]
  },
  {
   "cell_type": "code",
   "execution_count": 0,
   "metadata": {
    "application/vnd.databricks.v1+cell": {
     "inputWidgets": {},
     "nuid": "4b969cc2-fdda-409f-9417-6088215ea8f2",
     "showTitle": false,
     "title": ""
    }
   },
   "outputs": [],
   "source": [
    "##########################################################################################################\n",
    "# Crear la tabla ubigeo en la base de datos databricks\n",
    "##########################################################################################################"
   ]
  },
  {
   "cell_type": "code",
   "execution_count": 0,
   "metadata": {
    "application/vnd.databricks.v1+cell": {
     "inputWidgets": {},
     "nuid": "f6c22df2-1d74-4bf2-9f84-28825e52b869",
     "showTitle": false,
     "title": ""
    }
   },
   "outputs": [
    {
     "data": {
      "text/html": [
       "<style scoped>\n",
       "  .table-result-container {\n",
       "    max-height: 300px;\n",
       "    overflow: auto;\n",
       "  }\n",
       "  table, th, td {\n",
       "    border: 1px solid black;\n",
       "    border-collapse: collapse;\n",
       "  }\n",
       "  th, td {\n",
       "    padding: 5px;\n",
       "  }\n",
       "  th {\n",
       "    text-align: left;\n",
       "  }\n",
       "</style><div class='table-result-container'><table class='table-result'><thead style='background-color: white'><tr></tr></thead><tbody></tbody></table></div>"
      ]
     },
     "metadata": {
      "application/vnd.databricks.v1+output": {
       "addedWidgets": {},
       "aggData": [],
       "aggError": "",
       "aggOverflow": false,
       "aggSchema": [],
       "aggSeriesLimitReached": false,
       "aggType": "",
       "arguments": {},
       "columnCustomDisplayInfos": {},
       "data": [],
       "datasetInfos": [],
       "dbfsResultPath": null,
       "isJsonSchema": true,
       "metadata": {
        "isDbfsCommandResult": false
       },
       "overflow": false,
       "plotOptions": {
        "customPlotOptions": {},
        "displayType": "table",
        "pivotAggregation": null,
        "pivotColumns": null,
        "xColumns": null,
        "yColumns": null
       },
       "removedWidgets": [],
       "schema": [],
       "type": "table"
      }
     },
     "output_type": "display_data"
    }
   ],
   "source": [
    "%sql\n",
    "DROP TABLE IF EXISTS databricks.ubigeo;\n",
    "CREATE TABLE IF NOT EXISTS databricks.ubigeo\n",
    "(\n",
    "UBIGEO STRING,\n",
    "DEP STRING,\n",
    "PRO STRING,\n",
    "DIS STRING,\n",
    "LAT DOUBLE,\n",
    "LON DOUBLE\n",
    ")\n",
    "USING PARQUET\n",
    "OPTIONS ('compression'='snappy')\n",
    "LOCATION 'dbfs:/FileStore/UDV/ubigeo';"
   ]
  },
  {
   "cell_type": "code",
   "execution_count": 0,
   "metadata": {
    "application/vnd.databricks.v1+cell": {
     "inputWidgets": {},
     "nuid": "3edc3d84-9811-4ced-860e-65249a4937b9",
     "showTitle": false,
     "title": ""
    }
   },
   "outputs": [],
   "source": [
    "##########################################################################################################\n",
    "# Leer las tablas con SQL\n",
    "##########################################################################################################"
   ]
  },
  {
   "cell_type": "code",
   "execution_count": 0,
   "metadata": {
    "application/vnd.databricks.v1+cell": {
     "inputWidgets": {},
     "nuid": "a69274f5-89aa-4505-92e6-3a21bcde08a9",
     "showTitle": false,
     "title": ""
    }
   },
   "outputs": [
    {
     "data": {
      "text/html": [
       "<style scoped>\n",
       "  .table-result-container {\n",
       "    max-height: 300px;\n",
       "    overflow: auto;\n",
       "  }\n",
       "  table, th, td {\n",
       "    border: 1px solid black;\n",
       "    border-collapse: collapse;\n",
       "  }\n",
       "  th, td {\n",
       "    padding: 5px;\n",
       "  }\n",
       "  th {\n",
       "    text-align: left;\n",
       "  }\n",
       "</style><div class='table-result-container'><table class='table-result'><thead style='background-color: white'><tr><th>UBIGEO</th><th>DEP</th><th>PRO</th><th>DIS</th><th>LAT</th><th>LON</th></tr></thead><tbody><tr><td>060401</td><td>CAJAMARCA</td><td>CHOTA</td><td>CHOTA</td><td>-6.555281874</td><td>-78.64146956</td></tr><tr><td>061303</td><td>CAJAMARCA</td><td>SANTA CRUZ</td><td>CATACHE</td><td>-6.735890508</td><td>-79.04859161</td></tr><tr><td>061307</td><td>CAJAMARCA</td><td>SANTA CRUZ</td><td>PULAN</td><td>-6.745548677</td><td>-78.92685928</td></tr><tr><td>060504</td><td>CAJAMARCA</td><td>CONTUMAZA</td><td>GUZMANGO</td><td>-7.367974043</td><td>-78.91690445</td></tr><tr><td>060404</td><td>CAJAMARCA</td><td>CHOTA</td><td>CHIGUIRIP</td><td>-6.409399128</td><td>-78.69964905</td></tr></tbody></table></div>"
      ]
     },
     "metadata": {
      "application/vnd.databricks.v1+output": {
       "addedWidgets": {},
       "aggData": [],
       "aggError": "",
       "aggOverflow": false,
       "aggSchema": [],
       "aggSeriesLimitReached": false,
       "aggType": "",
       "arguments": {},
       "columnCustomDisplayInfos": {},
       "data": [
        [
         "060401",
         "CAJAMARCA",
         "CHOTA",
         "CHOTA",
         -6.555281874,
         -78.64146956
        ],
        [
         "061303",
         "CAJAMARCA",
         "SANTA CRUZ",
         "CATACHE",
         -6.735890508,
         -79.04859161
        ],
        [
         "061307",
         "CAJAMARCA",
         "SANTA CRUZ",
         "PULAN",
         -6.745548677,
         -78.92685928
        ],
        [
         "060504",
         "CAJAMARCA",
         "CONTUMAZA",
         "GUZMANGO",
         -7.367974043,
         -78.91690445
        ],
        [
         "060404",
         "CAJAMARCA",
         "CHOTA",
         "CHIGUIRIP",
         -6.409399128,
         -78.69964905
        ]
       ],
       "datasetInfos": [],
       "dbfsResultPath": null,
       "isJsonSchema": true,
       "metadata": {
        "isDbfsCommandResult": false
       },
       "overflow": false,
       "plotOptions": {
        "customPlotOptions": {},
        "displayType": "table",
        "pivotAggregation": null,
        "pivotColumns": null,
        "xColumns": null,
        "yColumns": null
       },
       "removedWidgets": [],
       "schema": [
        {
         "metadata": "{}",
         "name": "UBIGEO",
         "type": "\"string\""
        },
        {
         "metadata": "{}",
         "name": "DEP",
         "type": "\"string\""
        },
        {
         "metadata": "{}",
         "name": "PRO",
         "type": "\"string\""
        },
        {
         "metadata": "{}",
         "name": "DIS",
         "type": "\"string\""
        },
        {
         "metadata": "{}",
         "name": "LAT",
         "type": "\"double\""
        },
        {
         "metadata": "{}",
         "name": "LON",
         "type": "\"double\""
        }
       ],
       "type": "table"
      }
     },
     "output_type": "display_data"
    }
   ],
   "source": [
    "%sql\n",
    "REFRESH TABLE databricks.ubigeo;\n",
    "SELECT * FROM databricks.ubigeo limit 5"
   ]
  },
  {
   "cell_type": "markdown",
   "metadata": {
    "application/vnd.databricks.v1+cell": {
     "inputWidgets": {},
     "nuid": "d9fbc9c0-4fb7-4894-bd21-a0a22570b066",
     "showTitle": false,
     "title": ""
    }
   },
   "source": [
    "## 1.2 ETL con Pandas"
   ]
  },
  {
   "cell_type": "code",
   "execution_count": 0,
   "metadata": {
    "application/vnd.databricks.v1+cell": {
     "inputWidgets": {},
     "nuid": "389c9f49-f9e7-4727-af08-c2d369fc4553",
     "showTitle": false,
     "title": ""
    }
   },
   "outputs": [],
   "source": [
    "import pandas as pd"
   ]
  },
  {
   "cell_type": "code",
   "execution_count": 0,
   "metadata": {
    "application/vnd.databricks.v1+cell": {
     "inputWidgets": {},
     "nuid": "3c350d01-455f-468a-ad2c-a92e9b228604",
     "showTitle": false,
     "title": ""
    }
   },
   "outputs": [],
   "source": [
    "df_ubigeo_udv_pandas=df_ubigeo.toPandas()\n"
   ]
  },
  {
   "cell_type": "code",
   "execution_count": 0,
   "metadata": {
    "application/vnd.databricks.v1+cell": {
     "inputWidgets": {},
     "nuid": "68c0e4a4-45b8-4abd-882a-317ca5fe902a",
     "showTitle": false,
     "title": ""
    }
   },
   "outputs": [],
   "source": [
    "df_ubigeo_udv_pandas[\"UBIGEO\"]=df_ubigeo_udv_pandas.apply(lambda x: str(x[\"UBIGEO\"]).zfill(6),axis=1)"
   ]
  },
  {
   "cell_type": "code",
   "execution_count": 0,
   "metadata": {
    "application/vnd.databricks.v1+cell": {
     "inputWidgets": {},
     "nuid": "dae9af34-6c4e-4c71-a926-d8ab68e98a17",
     "showTitle": false,
     "title": ""
    }
   },
   "outputs": [],
   "source": [
    "df_ubigeo_udv_pandas.sort_values(['UBIGEO'], inplace=True)"
   ]
  },
  {
   "cell_type": "code",
   "execution_count": 0,
   "metadata": {
    "application/vnd.databricks.v1+cell": {
     "inputWidgets": {},
     "nuid": "a816164c-b627-4eb3-810d-03448d01b976",
     "showTitle": false,
     "title": ""
    }
   },
   "outputs": [
    {
     "data": {
      "text/html": [
       "<div>\n",
       "<style scoped>\n",
       "    .dataframe tbody tr th:only-of-type {\n",
       "        vertical-align: middle;\n",
       "    }\n",
       "\n",
       "    .dataframe tbody tr th {\n",
       "        vertical-align: top;\n",
       "    }\n",
       "\n",
       "    .dataframe thead th {\n",
       "        text-align: right;\n",
       "    }\n",
       "</style>\n",
       "<table border=\"1\" class=\"dataframe\">\n",
       "  <thead>\n",
       "    <tr style=\"text-align: right;\">\n",
       "      <th></th>\n",
       "      <th>UBIGEO</th>\n",
       "      <th>DEP</th>\n",
       "      <th>PRO</th>\n",
       "      <th>DIS</th>\n",
       "      <th>LAT</th>\n",
       "      <th>LON</th>\n",
       "    </tr>\n",
       "  </thead>\n",
       "  <tbody>\n",
       "    <tr>\n",
       "      <th>489</th>\n",
       "      <td>010101</td>\n",
       "      <td>AMAZONAS</td>\n",
       "      <td>CHACHAPOYAS</td>\n",
       "      <td>CHACHAPOYAS</td>\n",
       "      <td>-6.251183</td>\n",
       "      <td>-77.881751</td>\n",
       "    </tr>\n",
       "    <tr>\n",
       "      <th>1083</th>\n",
       "      <td>010102</td>\n",
       "      <td>AMAZONAS</td>\n",
       "      <td>CHACHAPOYAS</td>\n",
       "      <td>ASUNCION</td>\n",
       "      <td>-6.031890</td>\n",
       "      <td>-77.712280</td>\n",
       "    </tr>\n",
       "    <tr>\n",
       "      <th>1123</th>\n",
       "      <td>010103</td>\n",
       "      <td>AMAZONAS</td>\n",
       "      <td>CHACHAPOYAS</td>\n",
       "      <td>BALSAS</td>\n",
       "      <td>-6.840230</td>\n",
       "      <td>-78.023975</td>\n",
       "    </tr>\n",
       "    <tr>\n",
       "      <th>982</th>\n",
       "      <td>010104</td>\n",
       "      <td>AMAZONAS</td>\n",
       "      <td>CHACHAPOYAS</td>\n",
       "      <td>CHETO</td>\n",
       "      <td>-6.255578</td>\n",
       "      <td>-77.700378</td>\n",
       "    </tr>\n",
       "    <tr>\n",
       "      <th>535</th>\n",
       "      <td>010105</td>\n",
       "      <td>AMAZONAS</td>\n",
       "      <td>CHACHAPOYAS</td>\n",
       "      <td>CHILIQUIN</td>\n",
       "      <td>-6.073470</td>\n",
       "      <td>-77.778773</td>\n",
       "    </tr>\n",
       "  </tbody>\n",
       "</table>\n",
       "</div>"
      ]
     },
     "metadata": {
      "application/vnd.databricks.v1+output": {
       "addedWidgets": {},
       "arguments": {},
       "data": "<div>\n<style scoped>\n    .dataframe tbody tr th:only-of-type {\n        vertical-align: middle;\n    }\n\n    .dataframe tbody tr th {\n        vertical-align: top;\n    }\n\n    .dataframe thead th {\n        text-align: right;\n    }\n</style>\n<table border=\"1\" class=\"dataframe\">\n  <thead>\n    <tr style=\"text-align: right;\">\n      <th></th>\n      <th>UBIGEO</th>\n      <th>DEP</th>\n      <th>PRO</th>\n      <th>DIS</th>\n      <th>LAT</th>\n      <th>LON</th>\n    </tr>\n  </thead>\n  <tbody>\n    <tr>\n      <th>489</th>\n      <td>010101</td>\n      <td>AMAZONAS</td>\n      <td>CHACHAPOYAS</td>\n      <td>CHACHAPOYAS</td>\n      <td>-6.251183</td>\n      <td>-77.881751</td>\n    </tr>\n    <tr>\n      <th>1083</th>\n      <td>010102</td>\n      <td>AMAZONAS</td>\n      <td>CHACHAPOYAS</td>\n      <td>ASUNCION</td>\n      <td>-6.031890</td>\n      <td>-77.712280</td>\n    </tr>\n    <tr>\n      <th>1123</th>\n      <td>010103</td>\n      <td>AMAZONAS</td>\n      <td>CHACHAPOYAS</td>\n      <td>BALSAS</td>\n      <td>-6.840230</td>\n      <td>-78.023975</td>\n    </tr>\n    <tr>\n      <th>982</th>\n      <td>010104</td>\n      <td>AMAZONAS</td>\n      <td>CHACHAPOYAS</td>\n      <td>CHETO</td>\n      <td>-6.255578</td>\n      <td>-77.700378</td>\n    </tr>\n    <tr>\n      <th>535</th>\n      <td>010105</td>\n      <td>AMAZONAS</td>\n      <td>CHACHAPOYAS</td>\n      <td>CHILIQUIN</td>\n      <td>-6.073470</td>\n      <td>-77.778773</td>\n    </tr>\n  </tbody>\n</table>\n</div>",
       "datasetInfos": [],
       "metadata": {},
       "removedWidgets": [],
       "textData": null,
       "type": "htmlSandbox"
      }
     },
     "output_type": "display_data"
    }
   ],
   "source": [
    "df_ubigeo_udv_pandas.head()"
   ]
  },
  {
   "cell_type": "code",
   "execution_count": 0,
   "metadata": {
    "application/vnd.databricks.v1+cell": {
     "inputWidgets": {},
     "nuid": "23ca0310-ea6b-4c4e-90be-85cf77e8d3ee",
     "showTitle": false,
     "title": ""
    }
   },
   "outputs": [
    {
     "data": {
      "text/html": [
       "<style scoped>\n",
       "  .table-result-container {\n",
       "    max-height: 300px;\n",
       "    overflow: auto;\n",
       "  }\n",
       "  table, th, td {\n",
       "    border: 1px solid black;\n",
       "    border-collapse: collapse;\n",
       "  }\n",
       "  th, td {\n",
       "    padding: 5px;\n",
       "  }\n",
       "  th {\n",
       "    text-align: left;\n",
       "  }\n",
       "</style><div class='table-result-container'><table class='table-result'><thead style='background-color: white'><tr></tr></thead><tbody></tbody></table></div>"
      ]
     },
     "metadata": {
      "application/vnd.databricks.v1+output": {
       "addedWidgets": {},
       "aggData": [],
       "aggError": "",
       "aggOverflow": false,
       "aggSchema": [],
       "aggSeriesLimitReached": false,
       "aggType": "",
       "arguments": {},
       "columnCustomDisplayInfos": {},
       "data": [],
       "datasetInfos": [],
       "dbfsResultPath": null,
       "isJsonSchema": true,
       "metadata": {},
       "overflow": false,
       "plotOptions": {
        "customPlotOptions": {},
        "displayType": "table",
        "pivotAggregation": null,
        "pivotColumns": null,
        "xColumns": null,
        "yColumns": null
       },
       "removedWidgets": [],
       "schema": [],
       "type": "table"
      }
     },
     "output_type": "display_data"
    }
   ],
   "source": [
    "%sql\n",
    "DROP TABLE IF EXISTS databricks.ubigeo;\n",
    "CREATE TABLE IF NOT EXISTS databricks.ubigeo\n",
    "(\n",
    "UBIGEO STRING,\n",
    "DEP STRING,\n",
    "PRO STRING,\n",
    "DIS STRING,\n",
    "LAT DOUBLE,\n",
    "LON DOUBLE\n",
    ")\n",
    "USING PARQUET\n",
    "OPTIONS ('compression'='snappy')\n",
    "LOCATION 'dbfs:/FileStore/UDV/ubigeo';"
   ]
  },
  {
   "cell_type": "code",
   "execution_count": 0,
   "metadata": {
    "application/vnd.databricks.v1+cell": {
     "inputWidgets": {},
     "nuid": "501a4988-922e-4fcf-bd77-ce0bf2becc0a",
     "showTitle": false,
     "title": ""
    }
   },
   "outputs": [
    {
     "data": {
      "text/html": [
       "<style scoped>\n",
       "  .table-result-container {\n",
       "    max-height: 300px;\n",
       "    overflow: auto;\n",
       "  }\n",
       "  table, th, td {\n",
       "    border: 1px solid black;\n",
       "    border-collapse: collapse;\n",
       "  }\n",
       "  th, td {\n",
       "    padding: 5px;\n",
       "  }\n",
       "  th {\n",
       "    text-align: left;\n",
       "  }\n",
       "</style><div class='table-result-container'><table class='table-result'><thead style='background-color: white'><tr><th>UBIGEO</th><th>DEP</th><th>PRO</th><th>DIS</th><th>LAT</th><th>LON</th></tr></thead><tbody><tr><td>060401</td><td>CAJAMARCA</td><td>CHOTA</td><td>CHOTA</td><td>-6.555281874</td><td>-78.64146956</td></tr><tr><td>061303</td><td>CAJAMARCA</td><td>SANTA CRUZ</td><td>CATACHE</td><td>-6.735890508</td><td>-79.04859161</td></tr><tr><td>061307</td><td>CAJAMARCA</td><td>SANTA CRUZ</td><td>PULAN</td><td>-6.745548677</td><td>-78.92685928</td></tr><tr><td>060504</td><td>CAJAMARCA</td><td>CONTUMAZA</td><td>GUZMANGO</td><td>-7.367974043</td><td>-78.91690445</td></tr><tr><td>060404</td><td>CAJAMARCA</td><td>CHOTA</td><td>CHIGUIRIP</td><td>-6.409399128</td><td>-78.69964905</td></tr></tbody></table></div>"
      ]
     },
     "metadata": {
      "application/vnd.databricks.v1+output": {
       "addedWidgets": {},
       "aggData": [],
       "aggError": "",
       "aggOverflow": false,
       "aggSchema": [],
       "aggSeriesLimitReached": false,
       "aggType": "",
       "arguments": {},
       "columnCustomDisplayInfos": {},
       "data": [
        [
         "060401",
         "CAJAMARCA",
         "CHOTA",
         "CHOTA",
         -6.555281874,
         -78.64146956
        ],
        [
         "061303",
         "CAJAMARCA",
         "SANTA CRUZ",
         "CATACHE",
         -6.735890508,
         -79.04859161
        ],
        [
         "061307",
         "CAJAMARCA",
         "SANTA CRUZ",
         "PULAN",
         -6.745548677,
         -78.92685928
        ],
        [
         "060504",
         "CAJAMARCA",
         "CONTUMAZA",
         "GUZMANGO",
         -7.367974043,
         -78.91690445
        ],
        [
         "060404",
         "CAJAMARCA",
         "CHOTA",
         "CHIGUIRIP",
         -6.409399128,
         -78.69964905
        ]
       ],
       "datasetInfos": [],
       "dbfsResultPath": null,
       "isJsonSchema": true,
       "metadata": {
        "isDbfsCommandResult": false
       },
       "overflow": false,
       "plotOptions": {
        "customPlotOptions": {},
        "displayType": "table",
        "pivotAggregation": null,
        "pivotColumns": null,
        "xColumns": null,
        "yColumns": null
       },
       "removedWidgets": [],
       "schema": [
        {
         "metadata": "{}",
         "name": "UBIGEO",
         "type": "\"string\""
        },
        {
         "metadata": "{}",
         "name": "DEP",
         "type": "\"string\""
        },
        {
         "metadata": "{}",
         "name": "PRO",
         "type": "\"string\""
        },
        {
         "metadata": "{}",
         "name": "DIS",
         "type": "\"string\""
        },
        {
         "metadata": "{}",
         "name": "LAT",
         "type": "\"double\""
        },
        {
         "metadata": "{}",
         "name": "LON",
         "type": "\"double\""
        }
       ],
       "type": "table"
      }
     },
     "output_type": "display_data"
    }
   ],
   "source": [
    "%sql\n",
    "REFRESH TABLE databricks.ubigeo;\n",
    "SELECT * FROM databricks.ubigeo limit 5"
   ]
  },
  {
   "cell_type": "code",
   "execution_count": 0,
   "metadata": {
    "application/vnd.databricks.v1+cell": {
     "inputWidgets": {},
     "nuid": "8fcd11d9-c54a-4f21-a737-06f9f44c6046",
     "showTitle": false,
     "title": ""
    }
   },
   "outputs": [
    {
     "data": {
      "text/html": [
       "<style scoped>\n",
       "  .ansiout {\n",
       "    display: block;\n",
       "    unicode-bidi: embed;\n",
       "    white-space: pre-wrap;\n",
       "    word-wrap: break-word;\n",
       "    word-break: break-all;\n",
       "    font-family: \"Source Code Pro\", \"Menlo\", monospace;;\n",
       "    font-size: 13px;\n",
       "    color: #555;\n",
       "    margin-left: 4px;\n",
       "    line-height: 19px;\n",
       "  }\n",
       "</style>\n",
       "<div class=\"ansiout\"></div>"
      ]
     },
     "metadata": {
      "application/vnd.databricks.v1+output": {
       "addedWidgets": {},
       "arguments": {},
       "data": "<div class=\"ansiout\"></div>",
       "datasetInfos": [
        {
         "name": "df_ubigeo_udv_tabla",
         "schema": {
          "fields": [
           {
            "metadata": {},
            "name": "UBIGEO",
            "nullable": true,
            "type": "string"
           },
           {
            "metadata": {},
            "name": "DEP",
            "nullable": true,
            "type": "string"
           },
           {
            "metadata": {},
            "name": "PRO",
            "nullable": true,
            "type": "string"
           },
           {
            "metadata": {},
            "name": "DIS",
            "nullable": true,
            "type": "string"
           },
           {
            "metadata": {},
            "name": "LAT",
            "nullable": true,
            "type": "double"
           },
           {
            "metadata": {},
            "name": "LON",
            "nullable": true,
            "type": "double"
           }
          ],
          "type": "struct"
         },
         "tableIdentifier": null,
         "typeStr": "pyspark.sql.dataframe.DataFrame"
        }
       ],
       "metadata": {},
       "removedWidgets": [],
       "type": "html"
      }
     },
     "output_type": "display_data"
    }
   ],
   "source": [
    "df_ubigeo_udv_tabla=spark.createDataFrame(df_ubigeo_udv_pandas)"
   ]
  },
  {
   "cell_type": "code",
   "execution_count": 0,
   "metadata": {
    "application/vnd.databricks.v1+cell": {
     "inputWidgets": {},
     "nuid": "89df2bf6-3cd9-456f-b80a-1e6bc737463b",
     "showTitle": false,
     "title": ""
    }
   },
   "outputs": [
    {
     "data": {
      "text/html": [
       "<style scoped>\n",
       "  .ansiout {\n",
       "    display: block;\n",
       "    unicode-bidi: embed;\n",
       "    white-space: pre-wrap;\n",
       "    word-wrap: break-word;\n",
       "    word-break: break-all;\n",
       "    font-family: \"Source Code Pro\", \"Menlo\", monospace;;\n",
       "    font-size: 13px;\n",
       "    color: #555;\n",
       "    margin-left: 4px;\n",
       "    line-height: 19px;\n",
       "  }\n",
       "</style>\n",
       "<div class=\"ansiout\"></div>"
      ]
     },
     "metadata": {
      "application/vnd.databricks.v1+output": {
       "addedWidgets": {},
       "arguments": {},
       "data": "<div class=\"ansiout\"></div>",
       "datasetInfos": [],
       "metadata": {},
       "removedWidgets": [],
       "type": "html"
      }
     },
     "output_type": "display_data"
    }
   ],
   "source": [
    "df_ubigeo_udv_tabla.write.parquet(\"/FileStore/UDV/ubigeo\", mode='overwrite', compression=\"snappy\")"
   ]
  },
  {
   "cell_type": "code",
   "execution_count": 0,
   "metadata": {
    "application/vnd.databricks.v1+cell": {
     "inputWidgets": {},
     "nuid": "61dabcd1-5079-4757-a0f5-97d17affd318",
     "showTitle": false,
     "title": ""
    }
   },
   "outputs": [
    {
     "data": {
      "text/html": [
       "<style scoped>\n",
       "  .table-result-container {\n",
       "    max-height: 300px;\n",
       "    overflow: auto;\n",
       "  }\n",
       "  table, th, td {\n",
       "    border: 1px solid black;\n",
       "    border-collapse: collapse;\n",
       "  }\n",
       "  th, td {\n",
       "    padding: 5px;\n",
       "  }\n",
       "  th {\n",
       "    text-align: left;\n",
       "  }\n",
       "</style><div class='table-result-container'><table class='table-result'><thead style='background-color: white'><tr><th>UBIGEO</th><th>DEP</th><th>PRO</th><th>DIS</th><th>LAT</th><th>LON</th></tr></thead><tbody><tr><td>060401</td><td>CAJAMARCA</td><td>CHOTA</td><td>CHOTA</td><td>-6.555281874</td><td>-78.64146956</td></tr><tr><td>061303</td><td>CAJAMARCA</td><td>SANTA CRUZ</td><td>CATACHE</td><td>-6.735890508</td><td>-79.04859161</td></tr><tr><td>061307</td><td>CAJAMARCA</td><td>SANTA CRUZ</td><td>PULAN</td><td>-6.745548677</td><td>-78.92685928</td></tr><tr><td>060504</td><td>CAJAMARCA</td><td>CONTUMAZA</td><td>GUZMANGO</td><td>-7.367974043</td><td>-78.91690445</td></tr><tr><td>060404</td><td>CAJAMARCA</td><td>CHOTA</td><td>CHIGUIRIP</td><td>-6.409399128</td><td>-78.69964905</td></tr></tbody></table></div>"
      ]
     },
     "metadata": {
      "application/vnd.databricks.v1+output": {
       "addedWidgets": {},
       "aggData": [],
       "aggError": "",
       "aggOverflow": false,
       "aggSchema": [],
       "aggSeriesLimitReached": false,
       "aggType": "",
       "arguments": {},
       "columnCustomDisplayInfos": {},
       "data": [
        [
         "060401",
         "CAJAMARCA",
         "CHOTA",
         "CHOTA",
         -6.555281874,
         -78.64146956
        ],
        [
         "061303",
         "CAJAMARCA",
         "SANTA CRUZ",
         "CATACHE",
         -6.735890508,
         -79.04859161
        ],
        [
         "061307",
         "CAJAMARCA",
         "SANTA CRUZ",
         "PULAN",
         -6.745548677,
         -78.92685928
        ],
        [
         "060504",
         "CAJAMARCA",
         "CONTUMAZA",
         "GUZMANGO",
         -7.367974043,
         -78.91690445
        ],
        [
         "060404",
         "CAJAMARCA",
         "CHOTA",
         "CHIGUIRIP",
         -6.409399128,
         -78.69964905
        ]
       ],
       "datasetInfos": [],
       "dbfsResultPath": null,
       "isJsonSchema": true,
       "metadata": {
        "isDbfsCommandResult": false
       },
       "overflow": false,
       "plotOptions": {
        "customPlotOptions": {},
        "displayType": "table",
        "pivotAggregation": null,
        "pivotColumns": null,
        "xColumns": null,
        "yColumns": null
       },
       "removedWidgets": [],
       "schema": [
        {
         "metadata": "{}",
         "name": "UBIGEO",
         "type": "\"string\""
        },
        {
         "metadata": "{}",
         "name": "DEP",
         "type": "\"string\""
        },
        {
         "metadata": "{}",
         "name": "PRO",
         "type": "\"string\""
        },
        {
         "metadata": "{}",
         "name": "DIS",
         "type": "\"string\""
        },
        {
         "metadata": "{}",
         "name": "LAT",
         "type": "\"double\""
        },
        {
         "metadata": "{}",
         "name": "LON",
         "type": "\"double\""
        }
       ],
       "type": "table"
      }
     },
     "output_type": "display_data"
    }
   ],
   "source": [
    "%sql\n",
    "REFRESH TABLE databricks.ubigeo;\n",
    "SELECT * FROM databricks.ubigeo limit 5"
   ]
  }
 ],
 "metadata": {
  "application/vnd.databricks.v1+notebook": {
   "dashboards": [
    {
     "elements": [
      {
       "elementNUID": "cc9b6b05-21f3-4e16-b396-1b38647715fd",
       "elementType": "command",
       "guid": "e138df44-0dfe-43a9-aa25-396c872d76ac",
       "options": null,
       "position": {
        "height": 6,
        "width": 12,
        "x": 0,
        "y": 0,
        "z": null
       }
      }
     ],
     "globalVars": {},
     "guid": "93754728-8aa7-4da8-9f2b-391cfe18a285",
     "layoutOption": {
      "grid": true,
      "stack": true
     },
     "nuid": "c92a6015-36a8-454e-a706-964ab8e72974",
     "origId": 2221170683706241,
     "title": "Untitled",
     "version": "DashboardViewV1",
     "width": 1024
    }
   ],
   "language": "python",
   "notebookMetadata": {
    "pythonIndentUnit": 2
   },
   "notebookName": "3-ETL-Ubigeo",
   "notebookOrigID": 3583256976180956,
   "widgets": {}
  },
  "kernelspec": {
   "display_name": "Python 3 (ipykernel)",
   "language": "python",
   "name": "python3"
  },
  "language_info": {
   "codemirror_mode": {
    "name": "ipython",
    "version": 3
   },
   "file_extension": ".py",
   "mimetype": "text/x-python",
   "name": "python",
   "nbconvert_exporter": "python",
   "pygments_lexer": "ipython3",
   "version": "3.9.7"
  }
 },
 "nbformat": 4,
 "nbformat_minor": 1
}
