{
 "cells": [
  {
   "cell_type": "code",
   "execution_count": 0,
   "metadata": {
    "application/vnd.databricks.v1+cell": {
     "inputWidgets": {},
     "nuid": "a6255303-85d1-4393-9ead-6cc19bb13863",
     "showTitle": false,
     "title": ""
    }
   },
   "outputs": [
    {
     "data": {
      "text/html": [
       "<style scoped>\n",
       "  .ansiout {\n",
       "    display: block;\n",
       "    unicode-bidi: embed;\n",
       "    white-space: pre-wrap;\n",
       "    word-wrap: break-word;\n",
       "    word-break: break-all;\n",
       "    font-family: \"Source Code Pro\", \"Menlo\", monospace;;\n",
       "    font-size: 13px;\n",
       "    color: #555;\n",
       "    margin-left: 4px;\n",
       "    line-height: 19px;\n",
       "  }\n",
       "</style>"
      ]
     },
     "metadata": {
      "application/vnd.databricks.v1+output": {
       "arguments": {},
       "data": "",
       "errorSummary": "",
       "errorTraceType": null,
       "metadata": {},
       "type": "ipynbError"
      }
     },
     "output_type": "display_data"
    }
   ],
   "source": [
    "##########################################################################################################\n",
    "# VERSION  \tDESARROLLADOR             FECHA        DESCRIPCION\n",
    "# ------------------------------------------------------\n",
    "#  1        Walter Albites Azarte     15/06/2020   Curso Basico de Databricks - 2 Load File\n",
    "##########################################################################################################"
   ]
  },
  {
   "cell_type": "markdown",
   "metadata": {
    "application/vnd.databricks.v1+cell": {
     "inputWidgets": {},
     "nuid": "ceef63a2-9209-4225-987c-00234d6106bc",
     "showTitle": false,
     "title": ""
    }
   },
   "source": [
    "<img src=\"https://docs.databricks.com/_static/databricks-logo-mobile.png\" style=\"float: left: margin: 20px\"/>\n",
    "# Curso Básico de Databricks\n",
    "##I. Create Running Cluster"
   ]
  },
  {
   "cell_type": "markdown",
   "metadata": {
    "application/vnd.databricks.v1+cell": {
     "inputWidgets": {},
     "nuid": "2e6260a6-3f39-42b8-a5b0-eca6cea992ca",
     "showTitle": false,
     "title": ""
    }
   },
   "source": [
    "#### 1.1. Paso 1\n",
    "Seleccionar el menu Clusters\n",
    "\n",
    "<img src=\"https://webxstudio.net/cursos/databricks/basico/imagenes/databricks-0.jpg\" style=\"float: left: margin: 20px\"/>"
   ]
  },
  {
   "cell_type": "markdown",
   "metadata": {
    "application/vnd.databricks.v1+cell": {
     "inputWidgets": {},
     "nuid": "52c92a68-b8e7-417c-a7e5-b291129137e2",
     "showTitle": false,
     "title": ""
    }
   },
   "source": [
    "#### 1.2. Paso 2\n",
    "Ingresar el nombre del cluster, como estamos en el community que es limitado seleccionamos Databricks Runtime Version 6.4\n",
    "\n",
    "<img src=\"https://webxstudio.net/cursos/databricks/basico/imagenes/databricks-0-1.jpg\" style=\"float: left: margin: 20px\"/>"
   ]
  },
  {
   "cell_type": "markdown",
   "metadata": {
    "application/vnd.databricks.v1+cell": {
     "inputWidgets": {},
     "nuid": "99b3871e-b7e1-4f15-b33e-925cadb32f5f",
     "showTitle": false,
     "title": ""
    }
   },
   "source": [
    "#### 1.3. Paso 3\n",
    "Autmaticamente se va iniciar el cluster, como estamos en el community que es limitado, tenemos que esperar hasta que el estado este en iniciado.\n",
    "Solo deben quedarse con un cluster, cuando tengamos uno de pago se puede crear n cluster para varios propositos por ejemplo una de procesamiento y otra para realtime\n",
    "\n",
    "<img src=\"https://webxstudio.net/cursos/databricks/basico/imagenes/databricks-0-2.jpg\" style=\"float: left: margin: 20px\"/>"
   ]
  },
  {
   "cell_type": "markdown",
   "metadata": {
    "application/vnd.databricks.v1+cell": {
     "inputWidgets": {},
     "nuid": "96e1215d-1723-40f9-90d4-423f0d2ca406",
     "showTitle": false,
     "title": ""
    }
   },
   "source": [
    "#### 1.4. Paso 4\n",
    "Autmaticamente se va iniciar el cluster, como estamos en el community que es limitado, tenemos que esperar hasta que el estado este en Running.\n",
    "Solo deben quedarse con un cluster, cuando tengamos uno de pago se puede crear n cluster y tener acceso a los botones de acciones como ejecutar, stop, etc. La idea es tener varios cluster para diferentes propositos o tareas por ejemplo una de procesamiento y otra para realtime\n",
    "\n",
    "<img src=\"https://webxstudio.net/cursos/databricks/basico/imagenes/databricks-0-3.jpg\" style=\"float: left: margin: 20px\"/>"
   ]
  },
  {
   "cell_type": "markdown",
   "metadata": {
    "application/vnd.databricks.v1+cell": {
     "inputWidgets": {},
     "nuid": "653e05d2-4f58-4172-95b3-a06114559379",
     "showTitle": false,
     "title": ""
    }
   },
   "source": [
    "##II. Load File en DBFS\n",
    "#### 2.1. Paso 1\n",
    "Seleccionar la base de datos <b>default</b> (por defecto se crea la base de datos) seleccionamos Add Data\n",
    "Mas adelante crearemos la base de datos databricks\n",
    "\n",
    "<img src=\"https://webxstudio.net/cursos/databricks/basico/imagenes/databricks-1.jpg\" style=\"float: left: margin: 20px\"/>"
   ]
  },
  {
   "cell_type": "markdown",
   "metadata": {
    "application/vnd.databricks.v1+cell": {
     "inputWidgets": {},
     "nuid": "50b75172-7751-48ad-a8c4-d904bd1568cd",
     "showTitle": false,
     "title": ""
    }
   },
   "source": [
    "#### 2.2. Paso 2\n",
    "Seleccionar upload file y click en browse se abrira una ventana para seleccionar el archivo\n",
    "\n",
    "<img src=\"https://webxstudio.net/cursos/databricks/basico/imagenes/databricks-2.jpg\" style=\"float: left: margin: 20px\"/>"
   ]
  },
  {
   "cell_type": "markdown",
   "metadata": {
    "application/vnd.databricks.v1+cell": {
     "inputWidgets": {},
     "nuid": "ec2007b3-6314-4a6d-83a1-88dc3555ccc8",
     "showTitle": false,
     "title": ""
    }
   },
   "source": [
    "#### 2.3. Paso 3\n",
    "Seleccionar el archivo csv en el explorador de windows\n",
    "\n",
    "<img src=\"https://webxstudio.net/cursos/databricks/basico/imagenes/databricks-3.jpg\" style=\"float: left: margin: 20px\"/>"
   ]
  },
  {
   "cell_type": "markdown",
   "metadata": {
    "application/vnd.databricks.v1+cell": {
     "inputWidgets": {},
     "nuid": "e2c57582-3603-402e-a159-8b5be1817cbc",
     "showTitle": false,
     "title": ""
    }
   },
   "source": [
    "#### 2.4. Paso 4\n",
    "Se muestra el archivo cargado\n",
    "\n",
    "<img src=\"https://webxstudio.net/cursos/databricks/basico/imagenes/databricks-4.jpg\" style=\"float: left: margin: 20px\"/>"
   ]
  },
  {
   "cell_type": "markdown",
   "metadata": {
    "application/vnd.databricks.v1+cell": {
     "inputWidgets": {},
     "nuid": "3b1cfce4-d8e0-4ed0-9b90-db60dca70294",
     "showTitle": false,
     "title": ""
    }
   },
   "source": [
    "##III. Verify File uploaded to DBFS\n",
    "#### 3.1. Paso 1\n",
    "Antes de crear nuestro notebook para tener un mejor orden debemos de crear nuestras carpetas\n",
    "\n",
    "<img src=\"https://webxstudio.net/cursos/databricks/basico/imagenes/databricks-5.jpg\" style=\"float: left: margin: 20px\"/>"
   ]
  },
  {
   "cell_type": "markdown",
   "metadata": {
    "application/vnd.databricks.v1+cell": {
     "inputWidgets": {},
     "nuid": "a6628af7-f4ac-49d2-b7d7-e1c30e3f0d87",
     "showTitle": false,
     "title": ""
    }
   },
   "source": [
    "#### 3.2. Paso 2\n",
    "Dentro de la carpeta crear nuestro notebook\n",
    "\n",
    "<img src=\"https://webxstudio.net/cursos/databricks/basico/imagenes/databricks-6.jpg\" style=\"float: left: margin: 20px\"/>"
   ]
  },
  {
   "cell_type": "markdown",
   "metadata": {
    "application/vnd.databricks.v1+cell": {
     "inputWidgets": {},
     "nuid": "56680655-0abb-41b6-ae45-ecba1d987bda",
     "showTitle": false,
     "title": ""
    }
   },
   "source": [
    "#### 3.3. Paso 3\n",
    "Colocamos un nombre al notebook, y seleccionamos languaje Python luego pulsamos Create\n",
    "\n",
    "<img src=\"https://webxstudio.net/cursos/databricks/basico/imagenes/databricks-7.jpg\" style=\"float: left: margin: 20px\"/>"
   ]
  },
  {
   "cell_type": "markdown",
   "metadata": {
    "application/vnd.databricks.v1+cell": {
     "inputWidgets": {},
     "nuid": "1548c03a-3fa6-4b5b-a958-feff3b82a6e1",
     "showTitle": false,
     "title": ""
    }
   },
   "source": [
    "#### 3.4. Paso 4\n",
    "Listar los archivos del DBFS para verificar el archivo cargado, para eso se tine que crear una celda y colocar el script siguiente:\n",
    "\n",
    "<img alt=\"Side Note\" title=\"Side Note\" style=\"vertical-align: text-bottom; position: relative; height:1.75em; top:0.05em; transform:rotate(15deg)\" src=\"https://files.training.databricks.com/static/images/icon-note.webp\"/>\n",
    "Databricks File System (DBFS) es un sistema de archivos distribuido montado en un espacio de trabajo de Databricks."
   ]
  },
  {
   "cell_type": "code",
   "execution_count": 0,
   "metadata": {
    "application/vnd.databricks.v1+cell": {
     "inputWidgets": {},
     "nuid": "5eb3a2b3-34d8-4354-873f-f55c82011445",
     "showTitle": false,
     "title": ""
    }
   },
   "outputs": [
    {
     "data": {
      "text/html": [
       "<style scoped>\n",
       "  .table-result-container {\n",
       "    max-height: 300px;\n",
       "    overflow: auto;\n",
       "  }\n",
       "  table, th, td {\n",
       "    border: 1px solid black;\n",
       "    border-collapse: collapse;\n",
       "  }\n",
       "  th, td {\n",
       "    padding: 5px;\n",
       "  }\n",
       "  th {\n",
       "    text-align: left;\n",
       "  }\n",
       "</style><div class='table-result-container'><table class='table-result'><thead style='background-color: white'><tr><th>path</th><th>name</th><th>size</th></tr></thead><tbody><tr><td>dbfs:/FileStore/tables/DE_CATEGORY/</td><td>DE_CATEGORY/</td><td>0</td></tr><tr><td>dbfs:/FileStore/tables/DE_CATEGORY.csv</td><td>DE_CATEGORY.csv</td><td>2609</td></tr><tr><td>dbfs:/FileStore/tables/de_categoria/</td><td>de_categoria/</td><td>0</td></tr><tr><td>dbfs:/FileStore/tables/state_income-9f7c5.csv</td><td>state_income-9f7c5.csv</td><td>2412</td></tr><tr><td>dbfs:/FileStore/tables/ubigeo.csv</td><td>ubigeo.csv</td><td>109495</td></tr></tbody></table></div>"
      ]
     },
     "metadata": {
      "application/vnd.databricks.v1+output": {
       "addedWidgets": {},
       "aggData": [],
       "aggError": "",
       "aggOverflow": false,
       "aggSchema": [],
       "aggSeriesLimitReached": false,
       "aggType": "",
       "arguments": {},
       "columnCustomDisplayInfos": {},
       "data": [
        [
         "dbfs:/FileStore/tables/DE_CATEGORY/",
         "DE_CATEGORY/",
         0
        ],
        [
         "dbfs:/FileStore/tables/DE_CATEGORY.csv",
         "DE_CATEGORY.csv",
         2609
        ],
        [
         "dbfs:/FileStore/tables/de_categoria/",
         "de_categoria/",
         0
        ],
        [
         "dbfs:/FileStore/tables/state_income-9f7c5.csv",
         "state_income-9f7c5.csv",
         2412
        ],
        [
         "dbfs:/FileStore/tables/ubigeo.csv",
         "ubigeo.csv",
         109495
        ]
       ],
       "datasetInfos": [],
       "dbfsResultPath": null,
       "isJsonSchema": true,
       "metadata": {},
       "overflow": false,
       "plotOptions": {
        "customPlotOptions": {},
        "displayType": "table",
        "pivotAggregation": null,
        "pivotColumns": null,
        "xColumns": null,
        "yColumns": null
       },
       "removedWidgets": [],
       "schema": [
        {
         "metadata": "{}",
         "name": "path",
         "type": "\"string\""
        },
        {
         "metadata": "{}",
         "name": "name",
         "type": "\"string\""
        },
        {
         "metadata": "{}",
         "name": "size",
         "type": "\"long\""
        }
       ],
       "type": "table"
      }
     },
     "output_type": "display_data"
    }
   ],
   "source": [
    "%fs ls dbfs:/FileStore/tables/"
   ]
  },
  {
   "cell_type": "markdown",
   "metadata": {
    "application/vnd.databricks.v1+cell": {
     "inputWidgets": {},
     "nuid": "2b7db460-a3cd-4a7c-ab09-0cc6f9c79662",
     "showTitle": false,
     "title": ""
    }
   },
   "source": [
    "#### 3.5. Paso 5\n",
    "Leer el archivo csv en un dataframe, con eso comprobamos que la data esta en el cluster, para eso se tine que crear una celda y colocar el script siguiente:\n",
    "\n",
    "<img alt=\"Side Note\" title=\"Side Note\" style=\"vertical-align: text-bottom; position: relative; height:1.75em; top:0.05em; transform:rotate(15deg)\" src=\"https://files.training.databricks.com/static/images/icon-note.webp\"/>\n",
    "Para completar o ayuda de comandos presionar la tecla TAB -->."
   ]
  },
  {
   "cell_type": "code",
   "execution_count": 0,
   "metadata": {
    "application/vnd.databricks.v1+cell": {
     "inputWidgets": {},
     "nuid": "e2a9638d-a1fe-4baa-b172-c2f0bd920868",
     "showTitle": false,
     "title": ""
    }
   },
   "outputs": [
    {
     "data": {
      "text/html": [
       "<style scoped>\n",
       "  .ansiout {\n",
       "    display: block;\n",
       "    unicode-bidi: embed;\n",
       "    white-space: pre-wrap;\n",
       "    word-wrap: break-word;\n",
       "    word-break: break-all;\n",
       "    font-family: \"Source Code Pro\", \"Menlo\", monospace;;\n",
       "    font-size: 13px;\n",
       "    color: #555;\n",
       "    margin-left: 4px;\n",
       "    line-height: 19px;\n",
       "  }\n",
       "</style>\n",
       "<div class=\"ansiout\"></div>"
      ]
     },
     "metadata": {
      "application/vnd.databricks.v1+output": {
       "addedWidgets": {},
       "arguments": {},
       "data": "<div class=\"ansiout\"></div>",
       "datasetInfos": [
        {
         "name": "df_ubigeo",
         "schema": {
          "fields": [
           {
            "metadata": {},
            "name": "UBIGEO",
            "nullable": true,
            "type": "integer"
           },
           {
            "metadata": {},
            "name": "DISTRITO",
            "nullable": true,
            "type": "string"
           },
           {
            "metadata": {},
            "name": "PROVINCIA",
            "nullable": true,
            "type": "string"
           },
           {
            "metadata": {},
            "name": "DEPARTAMENTO",
            "nullable": true,
            "type": "string"
           },
           {
            "metadata": {},
            "name": "LATITUD",
            "nullable": true,
            "type": "double"
           },
           {
            "metadata": {},
            "name": "LONGITUD",
            "nullable": true,
            "type": "double"
           }
          ],
          "type": "struct"
         },
         "tableIdentifier": null,
         "typeStr": "pyspark.sql.dataframe.DataFrame"
        }
       ],
       "metadata": {},
       "removedWidgets": [],
       "type": "html"
      }
     },
     "output_type": "display_data"
    }
   ],
   "source": [
    "df_ubigeo = spark.read.csv(\"/FileStore/tables/ubigeo.csv\", inferSchema=True, header=True, encoding=\"utf-8\")"
   ]
  },
  {
   "cell_type": "markdown",
   "metadata": {
    "application/vnd.databricks.v1+cell": {
     "inputWidgets": {},
     "nuid": "350887e3-9c8e-4667-b14b-2220c7047344",
     "showTitle": false,
     "title": ""
    }
   },
   "source": [
    "#### 3.6. Paso 6\n",
    "Para poder visualizar el dataframe, para eso se tine que crear una celda y colocar el script siguiente"
   ]
  },
  {
   "cell_type": "code",
   "execution_count": 0,
   "metadata": {
    "application/vnd.databricks.v1+cell": {
     "inputWidgets": {},
     "nuid": "8a307feb-7d11-4911-a81e-3c702f51b3b1",
     "showTitle": false,
     "title": ""
    }
   },
   "outputs": [
    {
     "data": {
      "text/html": [
       "<style scoped>\n",
       "  .table-result-container {\n",
       "    max-height: 300px;\n",
       "    overflow: auto;\n",
       "  }\n",
       "  table, th, td {\n",
       "    border: 1px solid black;\n",
       "    border-collapse: collapse;\n",
       "  }\n",
       "  th, td {\n",
       "    padding: 5px;\n",
       "  }\n",
       "  th {\n",
       "    text-align: left;\n",
       "  }\n",
       "</style><div class='table-result-container'><table class='table-result'><thead style='background-color: white'><tr><th>UBIGEO</th><th>DISTRITO</th><th>PROVINCIA</th><th>DEPARTAMENTO</th><th>LATITUD</th><th>LONGITUD</th></tr></thead><tbody><tr><td>60401</td><td>CHOTA</td><td>CHOTA</td><td>CAJAMARCA</td><td>-6.555281874</td><td>-78.64146956</td></tr><tr><td>10302</td><td>CHISQUILLA</td><td>BONGARA</td><td>AMAZONAS</td><td>-5.89320537</td><td>-77.78280858</td></tr><tr><td>120807</td><td>SANTA BARBARA DE CARHUACAYAN</td><td>YAULI</td><td>JUNÍN</td><td>-11.21381302</td><td>-76.42904358</td></tr><tr><td>140304</td><td>JAYANCA</td><td>LAMBAYEQUE</td><td>LAMBAYEQUE</td><td>-6.394345534</td><td>-79.81451536</td></tr><tr><td>200601</td><td>SULLANA</td><td>SULLANA</td><td>PIURA</td><td>-4.898786419</td><td>-80.63618267</td></tr><tr><td>61303</td><td>CATACHE</td><td>SANTA CRUZ</td><td>CAJAMARCA</td><td>-6.735890508</td><td>-79.04859161</td></tr><tr><td>61307</td><td>PULAN</td><td>SANTA CRUZ</td><td>CAJAMARCA</td><td>-6.745548677</td><td>-78.92685928</td></tr><tr><td>80102</td><td>CCORCA</td><td>CUSCO</td><td>CUSCO</td><td>-13.58823633</td><td>-72.0648791</td></tr><tr><td>180207</td><td>MATALAQUE</td><td>GENERAL SANCHEZ CERRO</td><td>MOQUEGUA</td><td>-16.48359776</td><td>-70.8257103</td></tr><tr><td>140105</td><td>JOSE LEONARDO ORTIZ</td><td>CHICLAYO</td><td>LAMBAYEQUE</td><td>-6.736405277</td><td>-79.84175568</td></tr><tr><td>150407</td><td>SANTA ROSA DE QUIVES</td><td>CANTA</td><td>LIMA</td><td>-11.69496209</td><td>-76.89434487</td></tr><tr><td>81304</td><td>MACHUPICCHU</td><td>URUBAMBA</td><td>CUSCO</td><td>-13.14503057</td><td>-72.56898717</td></tr><tr><td>120121</td><td>HUAYUCACHI</td><td>HUANCAYO</td><td>JUNÍN</td><td>-12.13321972</td><td>-75.22483635</td></tr><tr><td>220605</td><td>PAJARILLO</td><td>MARISCAL CACERES</td><td>SAN MARTÍN</td><td>-7.194322722</td><td>-76.70233263</td></tr><tr><td>80602</td><td>CHECACUPE</td><td>CANCHIS</td><td>CUSCO</td><td>-14.00506551</td><td>-71.46907152</td></tr><tr><td>40507</td><td>HUAMBO</td><td>CAYLLOMA</td><td>AREQUIPA</td><td>-15.73044682</td><td>-72.10810089</td></tr><tr><td>50410</td><td>UCHURACCAY</td><td>HUANTA</td><td>AYACUCHO</td><td>-12.77389463</td><td>-74.08262126</td></tr><tr><td>60504</td><td>GUZMANGO</td><td>CONTUMAZA</td><td>CAJAMARCA</td><td>-7.367974043</td><td>-78.91690445</td></tr><tr><td>211204</td><td>PATAMBUCO</td><td>SANDIA</td><td>PUNO</td><td>-14.37179661</td><td>-69.6435318</td></tr><tr><td>131003</td><td>CACHICADAN</td><td>SANTIAGO DE CHUCO</td><td>LA LIBERTAD</td><td>-8.001379013</td><td>-78.11535899</td></tr><tr><td>90111</td><td>MARISCAL CACERES</td><td>HUANCAVELICA</td><td>HUANCAVELICA</td><td>-12.53571033</td><td>-74.93383789</td></tr><tr><td>50201</td><td>CANGALLO</td><td>CANGALLO</td><td>AYACUCHO</td><td>-13.60683026</td><td>-74.13445686</td></tr><tr><td>150601</td><td>HUARAL</td><td>HUARAL</td><td>LIMA</td><td>-11.49022421</td><td>-77.20913506</td></tr><tr><td>190205</td><td>SAN PEDRO DE PILLAO</td><td>DANIEL ALCIDES CARRION</td><td>PASCO</td><td>-10.43005413</td><td>-76.5000479</td></tr><tr><td>130902</td><td>CHUGAY</td><td>SANCHEZ CARRION</td><td>LA LIBERTAD</td><td>-7.842595074</td><td>-77.78980806</td></tr><tr><td>60404</td><td>CHIGUIRIP</td><td>CHOTA</td><td>CAJAMARCA</td><td>-6.409399128</td><td>-78.69964905</td></tr><tr><td>160303</td><td>TIGRE</td><td>LORETO</td><td>LORETO</td><td>-3.371831226</td><td>-74.87382965</td></tr><tr><td>250203</td><td>TAHUANIA</td><td>ATALAYA</td><td>UCAYALI</td><td>-9.970402082</td><td>-74.03464762</td></tr><tr><td>80604</td><td>MARANGANI</td><td>CANCHIS</td><td>CUSCO</td><td>-14.38292432</td><td>-71.14769363</td></tr><tr><td>50202</td><td>CHUSCHI</td><td>CANGALLO</td><td>AYACUCHO</td><td>-13.57239926</td><td>-74.34210636</td></tr><tr><td>120504</td><td>ULCUMAYO</td><td>JUNÍN</td><td>JUNÍN</td><td>-10.90910888</td><td>-75.80611038</td></tr><tr><td>90504</td><td>EL CARMEN</td><td>CHURCAMPA</td><td>HUANCAVELICA</td><td>-12.7340547</td><td>-74.48499189</td></tr><tr><td>40206</td><td>OCOÑA</td><td>CAMANA</td><td>AREQUIPA</td><td>-16.4333477</td><td>-73.10736084</td></tr><tr><td>100510</td><td>SINGA</td><td>HUAMALIES</td><td>HUÁNUCO</td><td>-9.394723415</td><td>-76.80223751</td></tr><tr><td>250106</td><td>NUEVA REQUENA</td><td>CORONEL PORTILLO</td><td>UCAYALI</td><td>-8.306165695</td><td>-74.86537933</td></tr><tr><td>151025</td><td>QUINOCAY</td><td>YAUYOS</td><td>LIMA</td><td>-12.34476233</td><td>-76.25241852</td></tr><tr><td>151002</td><td>ALIS</td><td>YAUYOS</td><td>LIMA</td><td>-12.29855967</td><td>-75.75381088</td></tr><tr><td>220710</td><td>TRES UNIDOS</td><td>PICOTA</td><td>SAN MARTÍN</td><td>-6.806466579</td><td>-76.23116302</td></tr><tr><td>61006</td><td>JOSE MANUEL QUIROZ</td><td>SAN MARCOS</td><td>CAJAMARCA</td><td>-7.350089312</td><td>-78.03548908</td></tr><tr><td>120410</td><td>HUERTAS</td><td>JAUJA</td><td>JUNÍN</td><td>-11.76725215</td><td>-75.4726572</td></tr><tr><td>150301</td><td>CAJATAMBO</td><td>CAJATAMBO</td><td>LIMA</td><td>-10.47623014</td><td>-76.99631119</td></tr><tr><td>80204</td><td>MOSOC LLACTA</td><td>ACOMAYO</td><td>CUSCO</td><td>-14.10099196</td><td>-71.45519765</td></tr><tr><td>200304</td><td>HUARMACA</td><td>HUANCABAMBA</td><td>PIURA</td><td>-5.594134041</td><td>-79.53971699</td></tr><tr><td>140307</td><td>MOTUPE</td><td>LAMBAYEQUE</td><td>LAMBAYEQUE</td><td>-6.174137609</td><td>-79.71799251</td></tr><tr><td>220914</td><td>SHAPAJA</td><td>SAN MARTÍN</td><td>SAN MARTÍN</td><td>-6.588686307</td><td>-76.23044332</td></tr><tr><td>120305</td><td>SAN RAMON</td><td>CHANCHAMAYO</td><td>JUNÍN</td><td>-11.11921686</td><td>-75.35176341</td></tr><tr><td>200401</td><td>CHULUCANAS</td><td>MORROPON</td><td>PIURA</td><td>-5.088161131</td><td>-80.16302999</td></tr><tr><td>180303</td><td>PACOCHA</td><td>ILO</td><td>MOQUEGUA</td><td>-17.55708408</td><td>-71.32822418</td></tr><tr><td>160502</td><td>ALTO TAPICHE</td><td>REQUENA</td><td>LORETO</td><td>-6.025769234</td><td>-74.09093475</td></tr><tr><td>130402</td><td>PACANGA</td><td>CHEPEN</td><td>LA LIBERTAD</td><td>-7.173699951</td><td>-79.46181793</td></tr><tr><td>140115</td><td>SAÑA</td><td>CHICLAYO</td><td>LAMBAYEQUE</td><td>-6.893958668</td><td>-79.60014216</td></tr><tr><td>130811</td><td>SANTIAGO DE CHALLAS</td><td>PATAZ</td><td>LA LIBERTAD</td><td>-8.439019203</td><td>-77.32389832</td></tr><tr><td>70105</td><td>LA PUNTA</td><td>CALLAO</td><td>CALLAO</td><td>-12.07264328</td><td>-77.16425323</td></tr><tr><td>210201</td><td>AZANGARO</td><td>AZANGARO</td><td>PUNO</td><td>-14.88409386</td><td>-70.16939624</td></tr><tr><td>200202</td><td>FRIAS</td><td>AYABACA</td><td>PIURA</td><td>-4.952757263</td><td>-79.94461594</td></tr><tr><td>220911</td><td>PAPAPLAYA</td><td>SAN MARTÍN</td><td>SAN MARTÍN</td><td>-6.276810074</td><td>-75.74256744</td></tr><tr><td>200301</td><td>HUANCABAMBA</td><td>HUANCABAMBA</td><td>PIURA</td><td>-5.223232764</td><td>-79.47124188</td></tr><tr><td>140312</td><td>TUCUME</td><td>LAMBAYEQUE</td><td>LAMBAYEQUE</td><td>-6.496917709</td><td>-79.85189565</td></tr><tr><td>240105</td><td>SAN JACINTO</td><td>TUMBES</td><td>TUMBES</td><td>-3.68411833</td><td>-80.45515823</td></tr><tr><td>120413</td><td>LEONOR ORDOÑEZ</td><td>JAUJA</td><td>JUNÍN</td><td>-11.85753584</td><td>-75.42011388</td></tr><tr><td>22007</td><td>SHUPLUY</td><td>YUNGAY</td><td>ANCASH</td><td>-9.237276713</td><td>-77.71197001</td></tr><tr><td>220405</td><td>SACANCHE</td><td>HUALLAGA</td><td>SAN MARTÍN</td><td>-7.081334352</td><td>-76.77443695</td></tr><tr><td>120705</td><td>LA UNION</td><td>TARMA</td><td>JUNÍN</td><td>-11.62497044</td><td>-75.66336823</td></tr><tr><td>70103</td><td>CARMEN DE LA LEGUA REYNOSO</td><td>CALLAO</td><td>CALLAO</td><td>-12.05354023</td><td>-77.09801483</td></tr><tr><td>151003</td><td>ALLAUCA</td><td>YAUYOS</td><td>LIMA</td><td>-12.65706778</td><td>-75.99522018</td></tr><tr><td>150707</td><td>HUACHUPAMPA</td><td>HUAROCHIRI</td><td>LIMA</td><td>-11.71631622</td><td>-76.59506989</td></tr><tr><td>110203</td><td>CHAVIN</td><td>CHINCHA</td><td>ICA</td><td>-13.12603378</td><td>-75.92898178</td></tr><tr><td>120208</td><td>MANZANARES</td><td>CONCEPCION</td><td>JUNÍN</td><td>-12.01810455</td><td>-75.35600281</td></tr><tr><td>90118</td><td>ASCENSION</td><td>HUANCAVELICA</td><td>HUANCAVELICA</td><td>-12.78423023</td><td>-74.98058319</td></tr><tr><td>21201</td><td>CARAZ</td><td>HUAYLAS</td><td>ANCASH</td><td>-9.045125961</td><td>-77.80959254</td></tr><tr><td>221005</td><td>UCHIZA</td><td>TOCACHE</td><td>SAN MARTÍN</td><td>-8.386094268</td><td>-76.40265142</td></tr><tr><td>130501</td><td>JULCAN</td><td>JULCAN</td><td>LA LIBERTAD</td><td>-8.045143178</td><td>-78.46032514</td></tr><tr><td>90117</td><td>YAULI</td><td>HUANCAVELICA</td><td>HUANCAVELICA</td><td>-12.78368958</td><td>-74.81208216</td></tr><tr><td>140306</td><td>MORROPE</td><td>LAMBAYEQUE</td><td>LAMBAYEQUE</td><td>-6.525872799</td><td>-79.97918353</td></tr><tr><td>220703</td><td>CASPISAPA</td><td>PICOTA</td><td>SAN MARTÍN</td><td>-6.942096301</td><td>-76.40285274</td></tr><tr><td>160401</td><td>RAMON CASTILLA</td><td>MARISCAL RAMON CASTILLA</td><td>LORETO</td><td>-3.939032435</td><td>-70.51027107</td></tr><tr><td>160107</td><td>NAPO</td><td>MAYNAS</td><td>LORETO</td><td>-2.526782811</td><td>-73.64191818</td></tr><tr><td>200506</td><td>TAMARINDO</td><td>PAITA</td><td>PIURA</td><td>-4.878240395</td><td>-80.98135223</td></tr><tr><td>130802</td><td>BULDIBUYO</td><td>PATAZ</td><td>LA LIBERTAD</td><td>-8.136188507</td><td>-77.39508057</td></tr><tr><td>20103</td><td>COLCABAMBA</td><td>HUARAZ</td><td>ANCASH</td><td>-9.595740318</td><td>-77.81091309</td></tr><tr><td>150725</td><td>SAN PEDRO DE HUANCAYRE</td><td>HUAROCHIRI</td><td>LIMA</td><td>-12.1303978</td><td>-76.21650696</td></tr><tr><td>110208</td><td>SAN JUAN DE YANAC</td><td>CHINCHA</td><td>ICA</td><td>-13.2111721</td><td>-75.78621674</td></tr><tr><td>151026</td><td>SAN JOAQUIN</td><td>YAUYOS</td><td>LIMA</td><td>-12.28413105</td><td>-76.14685059</td></tr><tr><td>120125</td><td>PILCOMAYO</td><td>HUANCAYO</td><td>JUNÍN</td><td>-12.0499897</td><td>-75.25302124</td></tr><tr><td>100803</td><td>MOLINO</td><td>PACHITEA</td><td>HUÁNUCO</td><td>-9.964585796</td><td>-76.03525289</td></tr><tr><td>140113</td><td>REQUE</td><td>CHICLAYO</td><td>LAMBAYEQUE</td><td>-6.863737447</td><td>-79.80581992</td></tr><tr><td>20101</td><td>HUARAZ</td><td>HUARAZ</td><td>ANCASH</td><td>-9.555093181</td><td>-77.51324266</td></tr><tr><td>120503</td><td>ONDORES</td><td>JUNÍN</td><td>JUNÍN</td><td>-11.03692315</td><td>-76.1853173</td></tr><tr><td>130107</td><td>MOCHE</td><td>TRUJILLO</td><td>LA LIBERTAD</td><td>-8.159642685</td><td>-79.00390904</td></tr><tr><td>150114</td><td>LA MOLINA</td><td>LIMA</td><td>LIMA</td><td>-12.08761883</td><td>-76.93390656</td></tr><tr><td>210309</td><td>SAN GABAN</td><td>CARABAYA</td><td>PUNO</td><td>-13.42096825</td><td>-70.38032074</td></tr><tr><td>50910</td><td>SANTIAGO DE PAUCARAY</td><td>SUCRE</td><td>AYACUCHO</td><td>-14.07601643</td><td>-73.64289474</td></tr><tr><td>250303</td><td>CURIMANA</td><td>PADRE ABAD</td><td>UCAYALI</td><td>-8.437082291</td><td>-75.15934753</td></tr><tr><td>150120</td><td>MAGDALENA DEL MAR</td><td>LIMA</td><td>LIMA</td><td>-12.09693909</td><td>-77.07473755</td></tr><tr><td>100702</td><td>CHOLON</td><td>MARAÑON</td><td>HUÁNUCO</td><td>-8.631921768</td><td>-76.47909164</td></tr><tr><td>40310</td><td>JAQUI</td><td>CARAVELI</td><td>AREQUIPA</td><td>-15.47751713</td><td>-74.44233704</td></tr><tr><td>21205</td><td>MATO</td><td>HUAYLAS</td><td>ANCASH</td><td>-8.944651604</td><td>-77.87904358</td></tr><tr><td>21009</td><td>MASIN</td><td>HUARI</td><td>ANCASH</td><td>-9.360032082</td><td>-77.08666611</td></tr><tr><td>50401</td><td>HUANTA</td><td>HUANTA</td><td>AYACUCHO</td><td>-12.93972363</td><td>-74.241675</td></tr><tr><td>210110</td><td>PAUCARCOLLA</td><td>PUNO</td><td>PUNO</td><td>-15.72212219</td><td>-70.05937943</td></tr><tr><td>150516</td><td>ZUÑIGA</td><td>CAÑETE</td><td>LIMA</td><td>-12.85173289</td><td>-76.01387533</td></tr><tr><td>60507</td><td>TANTARICA</td><td>CONTUMAZA</td><td>CAJAMARCA</td><td>-7.256635454</td><td>-78.93357086</td></tr><tr><td>240103</td><td>LA CRUZ</td><td>TUMBES</td><td>TUMBES</td><td>-3.632097324</td><td>-80.57624563</td></tr><tr><td>120802</td><td>CHACAPALPA</td><td>YAULI</td><td>JUNÍN</td><td>-11.72387552</td><td>-75.77438736</td></tr><tr><td>230404</td><td>ESTIQUE-PAMPA</td><td>TARATA</td><td>TACNA</td><td>-17.56395721</td><td>-70.06825765</td></tr><tr><td>21307</td><td>LUCMA</td><td>MARISCAL LUZURIAGA</td><td>ANCASH</td><td>-8.923310007</td><td>-77.38659995</td></tr><tr><td>50304</td><td>SANTIAGO DE LUCANAMARCA</td><td>HUANCA SANCOS</td><td>AYACUCHO</td><td>-13.83523273</td><td>-74.37886429</td></tr><tr><td>40602</td><td>ANDARAY</td><td>CONDESUYOS</td><td>AREQUIPA</td><td>-15.80919099</td><td>-72.86105919</td></tr><tr><td>100703</td><td>SAN BUENAVENTURA</td><td>MARAÑON</td><td>HUÁNUCO</td><td>-8.768058777</td><td>-77.18688965</td></tr><tr><td>40113</td><td>POCSI</td><td>AREQUIPA</td><td>AREQUIPA</td><td>-16.51726913</td><td>-71.39268494</td></tr><tr><td>40112</td><td>PAUCARPATA</td><td>AREQUIPA</td><td>AREQUIPA</td><td>-16.42352867</td><td>-71.50840759</td></tr><tr><td>50112</td><td>SOCOS</td><td>HUAMANGA</td><td>AYACUCHO</td><td>-13.22256978</td><td>-74.29836273</td></tr><tr><td>60906</td><td>SAN JOSE DE LOURDES</td><td>SAN IGNACIO</td><td>CAJAMARCA</td><td>-5.071372491</td><td>-78.90761764</td></tr><tr><td>190104</td><td>HUAYLLAY</td><td>PASCO</td><td>PASCO</td><td>-10.997287</td><td>-76.40694682</td></tr><tr><td>21804</td><td>MACATE</td><td>SANTA</td><td>ANCASH</td><td>-8.779547977</td><td>-78.12047577</td></tr><tr><td>10506</td><td>INGUILPATA</td><td>LUYA</td><td>AMAZONAS</td><td>-6.258934402</td><td>-77.98439636</td></tr><tr><td>200201</td><td>AYABACA</td><td>AYABACA</td><td>PIURA</td><td>-4.64317368</td><td>-79.64958572</td></tr><tr><td>220203</td><td>BAJO BIAVO</td><td>BELLAVISTA</td><td>SAN MARTÍN</td><td>-7.142977953</td><td>-76.40442113</td></tr><tr><td>60608</td><td>SAN ANDRES DE CUTERVO</td><td>CUTERVO</td><td>CAJAMARCA</td><td>-6.210576296</td><td>-78.7261734</td></tr><tr><td>21802</td><td>CACERES DEL PERU</td><td>SANTA</td><td>ANCASH</td><td>-8.955920537</td><td>-78.08523051</td></tr><tr><td>220912</td><td>SAN ANTONIO</td><td>SAN MARTÍN</td><td>SAN MARTÍN</td><td>-6.433520317</td><td>-76.39979935</td></tr><tr><td>150731</td><td>SANTO DOMINGO DE LOS OLLEROS</td><td>HUAROCHIRI</td><td>LIMA</td><td>-12.21827316</td><td>-76.51426697</td></tr><tr><td>130306</td><td>UCUNCHA</td><td>BOLIVAR</td><td>LA LIBERTAD</td><td>-7.165800571</td><td>-77.86174011</td></tr><tr><td>210704</td><td>NICASIO</td><td>LAMPA</td><td>PUNO</td><td>-15.23539734</td><td>-70.26085663</td></tr><tr><td>90206</td><td>PAUCARA</td><td>ACOBAMBA</td><td>HUANCAVELICA</td><td>-12.74978621</td><td>-74.71024457</td></tr><tr><td>90609</td><td>QUITO-ARMA</td><td>HUAYTARA</td><td>HUANCAVELICA</td><td>-13.52868761</td><td>-75.34169442</td></tr><tr><td>40803</td><td>CHARCANA</td><td>LA UNION</td><td>AREQUIPA</td><td>-15.24061203</td><td>-73.07044983</td></tr><tr><td>210304</td><td>COASA</td><td>CARABAYA</td><td>PUNO</td><td>-13.96388397</td><td>-70.02799301</td></tr><tr><td>100903</td><td>HONORIA</td><td>PUERTO INCA</td><td>HUÁNUCO</td><td>-8.745028257</td><td>-74.74830627</td></tr><tr><td>60103</td><td>CHETILLA</td><td>CAJAMARCA</td><td>CAJAMARCA</td><td>-7.146188736</td><td>-78.67160034</td></tr><tr><td>60604</td><td>CUJILLO</td><td>CUTERVO</td><td>CAJAMARCA</td><td>-6.107028484</td><td>-78.59699249</td></tr><tr><td>80303</td><td>CACHIMAYO</td><td>ANTA</td><td>CUSCO</td><td>-13.48330477</td><td>-72.06207699</td></tr><tr><td>40607</td><td>SALAMANCA</td><td>CONDESUYOS</td><td>AREQUIPA</td><td>-15.5047493</td><td>-72.83421326</td></tr><tr><td>210214</td><td>SANTIAGO DE PUPUJA</td><td>AZANGARO</td><td>PUNO</td><td>-15.11277167</td><td>-70.22443899</td></tr><tr><td>90713</td><td>QUISHUAR</td><td>TAYACAJA</td><td>HUANCAVELICA</td><td>-12.24095535</td><td>-74.77940369</td></tr><tr><td>90112</td><td>MOYA</td><td>HUANCAVELICA</td><td>HUANCAVELICA</td><td>-12.42397738</td><td>-75.15340424</td></tr><tr><td>230202</td><td>CAIRANI</td><td>CANDARAVE</td><td>TACNA</td><td>-17.28569984</td><td>-70.36328888</td></tr><tr><td>211203</td><td>LIMBANI</td><td>SANDIA</td><td>PUNO</td><td>-14.09007597</td><td>-69.66556168</td></tr><tr><td>80207</td><td>SANGARARA</td><td>ACOMAYO</td><td>CUSCO</td><td>-13.96119634</td><td>-71.57181594</td></tr><tr><td>210806</td><td>NUÑOA</td><td>MELGAR</td><td>PUNO</td><td>-14.48759576</td><td>-70.61913902</td></tr><tr><td>131004</td><td>MOLLEBAMBA</td><td>SANTIAGO DE CHUCO</td><td>LA LIBERTAD</td><td>-8.154143135</td><td>-77.98642317</td></tr><tr><td>210101</td><td>PUNO</td><td>PUNO</td><td>PUNO</td><td>-15.82690987</td><td>-69.9878192</td></tr><tr><td>50806</td><td>OYOLO</td><td>PAUCAR DEL SARA SARA</td><td>AYACUCHO</td><td>-15.17386712</td><td>-73.18754917</td></tr><tr><td>90709</td><td>HUARIBAMBA</td><td>TAYACAJA</td><td>HUANCAVELICA</td><td>-12.24435377</td><td>-74.91477299</td></tr><tr><td>250302</td><td>IRAZOLA</td><td>PADRE ABAD</td><td>UCAYALI</td><td>-8.76024658</td><td>-75.06832539</td></tr><tr><td>120703</td><td>HUARICOLCA</td><td>TARMA</td><td>JUNÍN</td><td>-11.51083056</td><td>-75.59468079</td></tr><tr><td>160206</td><td>LAGUNAS</td><td>ALTO AMAZONAS</td><td>LORETO</td><td>-5.270565271</td><td>-75.70129776</td></tr><tr><td>101006</td><td>SAN FRANCISCO DE ASIS</td><td>LAURICOCHA</td><td>HUÁNUCO</td><td>-9.963666916</td><td>-76.64689255</td></tr><tr><td>21104</td><td>HUAYAN</td><td>HUARMEY</td><td>ANCASH</td><td>-9.876310349</td><td>-77.70822906</td></tr><tr><td>21409</td><td>SAN PEDRO</td><td>OCROS</td><td>ANCASH</td><td>-10.37076473</td><td>-77.48754883</td></tr><tr><td>120430</td><td>SAUSA</td><td>JAUJA</td><td>JUNÍN</td><td>-11.79519367</td><td>-75.49133301</td></tr><tr><td>200604</td><td>LANCONES</td><td>SULLANA</td><td>PIURA</td><td>-4.592715263</td><td>-80.45914023</td></tr><tr><td>211103</td><td>CABANILLAS</td><td>SAN ROMAN</td><td>PUNO</td><td>-15.69494759</td><td>-70.4123445</td></tr><tr><td>180204</td><td>ICHUÑA</td><td>GENERAL SANCHEZ CERRO</td><td>MOQUEGUA</td><td>-16.13584874</td><td>-70.54179738</td></tr><tr><td>21008</td><td>HUANTAR</td><td>HUARI</td><td>ANCASH</td><td>-9.461972952</td><td>-77.18288326</td></tr><tr><td>21704</td><td>HUAYLLAPAMPA</td><td>RECUAY</td><td>ANCASH</td><td>-10.06973156</td><td>-77.5349619</td></tr><tr><td>160501</td><td>REQUENA</td><td>REQUENA</td><td>LORETO</td><td>-5.043006556</td><td>-73.86095864</td></tr><tr><td>210505</td><td>CONDURIRI</td><td>EL COLLAO</td><td>PUNO</td><td>-16.61056573</td><td>-69.70429121</td></tr><tr><td>20513</td><td>PACLLON</td><td>BOLOGNESI</td><td>ANCASH</td><td>-10.23914146</td><td>-77.06551361</td></tr><tr><td>150404</td><td>HUAROS</td><td>CANTA</td><td>LIMA</td><td>-11.4045701</td><td>-76.55167389</td></tr><tr><td>100110</td><td>YARUMAYO</td><td>HUÁNUCO</td><td>HUÁNUCO</td><td>-9.996231556</td><td>-76.47602463</td></tr><tr><td>220406</td><td>TINGO DE SAPOSOA</td><td>HUALLAGA</td><td>SAN MARTÍN</td><td>-7.093853474</td><td>-76.64170074</td></tr><tr><td>61203</td><td>SAN LUIS</td><td>SAN PABLO</td><td>CAJAMARCA</td><td>-7.194120884</td><td>-78.90463257</td></tr><tr><td>10109</td><td>LA JALCA</td><td>CHACHAPOYAS</td><td>AMAZONAS</td><td>-6.494380988</td><td>-77.81444726</td></tr><tr><td>10519</td><td>SAN JUAN DE LOPECANCHA</td><td>LUYA</td><td>AMAZONAS</td><td>-6.505552496</td><td>-77.87023054</td></tr><tr><td>120206</td><td>COMAS</td><td>CONCEPCION</td><td>JUNÍN</td><td>-11.73912201</td><td>-75.05985718</td></tr><tr><td>30404</td><td>CHAPIMARCA</td><td>AYMARAES</td><td>APURÍMAC</td><td>-14.01232679</td><td>-73.12211663</td></tr><tr><td>10110</td><td>LEIMEBAMBA</td><td>CHACHAPOYAS</td><td>AMAZONAS</td><td>-6.689430658</td><td>-77.80252659</td></tr><tr><td>220403</td><td>EL ESLABON</td><td>HUALLAGA</td><td>SAN MARTÍN</td><td>-7.006530815</td><td>-76.74337006</td></tr><tr><td>20503</td><td>ANTONIO RAYMONDI</td><td>BOLOGNESI</td><td>ANCASH</td><td>-10.16896963</td><td>-77.46996117</td></tr><tr><td>40301</td><td>CARAVELI</td><td>CARAVELI</td><td>AREQUIPA</td><td>-15.7664032</td><td>-73.36596298</td></tr><tr><td>60602</td><td>CALLAYUC</td><td>CUTERVO</td><td>CAJAMARCA</td><td>-6.112096582</td><td>-78.93849073</td></tr><tr><td>151031</td><td>TUPE</td><td>YAUYOS</td><td>LIMA</td><td>-12.74136257</td><td>-75.80941772</td></tr><tr><td>150609</td><td>SAN MIGUEL DE ACOS</td><td>HUARAL</td><td>LIMA</td><td>-11.27406216</td><td>-76.82061005</td></tr><tr><td>60202</td><td>CACHACHI</td><td>CAJABAMBA</td><td>CAJAMARCA</td><td>-7.580915719</td><td>-78.20311133</td></tr><tr><td>160201</td><td>YURIMAGUAS</td><td>ALTO AMAZONAS</td><td>LORETO</td><td>-5.896868201</td><td>-76.13019292</td></tr><tr><td>100103</td><td>CHINCHAO</td><td>HUÁNUCO</td><td>HUÁNUCO</td><td>-9.759504682</td><td>-76.0140152</td></tr><tr><td>110401</td><td>PALPA</td><td>PALPA</td><td>ICA</td><td>-14.52685502</td><td>-75.17608575</td></tr><tr><td>30213</td><td>SAN JERONIMO</td><td>ANDAHUAYLAS</td><td>APURÍMAC</td><td>-13.66282976</td><td>-73.3286656</td></tr><tr><td>50113</td><td>TAMBILLO</td><td>HUAMANGA</td><td>AYACUCHO</td><td>-13.17705711</td><td>-74.17673111</td></tr><tr><td>211003</td><td>PEDRO VILCA APAZA</td><td>SAN ANTONIO DE PUTINA</td><td>PUNO</td><td>-15.01634121</td><td>-69.89122009</td></tr><tr><td>211202</td><td>CUYOCUYO</td><td>SANDIA</td><td>PUNO</td><td>-14.49943225</td><td>-69.56985219</td></tr><tr><td>40118</td><td>SAN JUAN DE SIGUAS</td><td>AREQUIPA</td><td>AREQUIPA</td><td>-16.36796618</td><td>-72.14589691</td></tr><tr><td>200207</td><td>PAIMAS</td><td>AYABACA</td><td>PIURA</td><td>-4.628934669</td><td>-79.96791229</td></tr><tr><td>160205</td><td>JEBEROS</td><td>ALTO AMAZONAS</td><td>LORETO</td><td>-5.286255836</td><td>-76.3021965</td></tr><tr><td>220804</td><td>NUEVA CAJAMARCA</td><td>RIOJA</td><td>SAN MARTÍN</td><td>-5.909934878</td><td>-77.34228488</td></tr><tr><td>211104</td><td>CARACOTO</td><td>SAN ROMAN</td><td>PUNO</td><td>-15.55410534</td><td>-70.08917006</td></tr><tr><td>21904</td><td>CASHAPAMPA</td><td>SIHUAS</td><td>ANCASH</td><td>-8.564348757</td><td>-77.64799833</td></tr><tr><td>140203</td><td>INCAHUASI</td><td>FERREÑAFE</td><td>LAMBAYEQUE</td><td>-6.223427773</td><td>-79.35817413</td></tr><tr><td>100301</td><td>LA UNION</td><td>DOS DE MAYO</td><td>HUÁNUCO</td><td>-9.840626308</td><td>-76.79696873</td></tr><tr><td>140303</td><td>ILLIMO</td><td>LAMBAYEQUE</td><td>LAMBAYEQUE</td><td>-6.46587583</td><td>-79.85828291</td></tr><tr><td>130103</td><td>FLORENCIA DE MORA</td><td>TRUJILLO</td><td>LA LIBERTAD</td><td>-8.08094883</td><td>-79.02365875</td></tr><tr><td>160704</td><td>MORONA</td><td>DATEM DEL MARAÑON</td><td>LORETO</td><td>-4.526191473</td><td>-77.13729477</td></tr><tr><td>30505</td><td>MARA</td><td>COTABAMBAS</td><td>APURÍMAC</td><td>-14.05180709</td><td>-72.11781311</td></tr><tr><td>150712</td><td>LARAOS</td><td>HUAROCHIRI</td><td>LIMA</td><td>-11.66455936</td><td>-76.53996277</td></tr><tr><td>21507</td><td>LLAPO</td><td>PALLASCA</td><td>ANCASH</td><td>-8.511152267</td><td>-78.03994751</td></tr><tr><td>90119</td><td>HUANDO</td><td>HUANCAVELICA</td><td>HUANCAVELICA</td><td>-12.56914658</td><td>-74.96711029</td></tr><tr><td>200101</td><td>PIURA</td><td>PIURA</td><td>PIURA</td><td>-5.11647452</td><td>-80.66030329</td></tr><tr><td>51009</td><td>HUANCARAYLLA</td><td>VICTOR FAJARDO</td><td>AYACUCHO</td><td>-13.72342968</td><td>-74.12943573</td></tr><tr><td>120704</td><td>HUASAHUASI</td><td>TARMA</td><td>JUNÍN</td><td>-11.26370348</td><td>-75.65401132</td></tr><tr><td>50501</td><td>SAN MIGUEL</td><td>LA MAR</td><td>AYACUCHO</td><td>-13.01833036</td><td>-73.96157837</td></tr><tr><td>200302</td><td>CANCHAQUE</td><td>HUANCABAMBA</td><td>PIURA</td><td>-5.364645813</td><td>-79.62617161</td></tr><tr><td>40706</td><td>PUNTA DE BOMBON</td><td>ISLAY</td><td>AREQUIPA</td><td>-17.16415367</td><td>-71.79899445</td></tr><tr><td>20504</td><td>AQUIA</td><td>BOLOGNESI</td><td>ANCASH</td><td>-10.04905605</td><td>-77.15682068</td></tr><tr><td>20514</td><td>SAN MIGUEL DE CORPANQUI</td><td>BOLOGNESI</td><td>ANCASH</td><td>-10.28431225</td><td>-77.20259094</td></tr><tr><td>60804</td><td>COLASAY</td><td>JAEN</td><td>CAJAMARCA</td><td>-5.911822271</td><td>-78.95856018</td></tr><tr><td>30708</td><td>PROGRESO</td><td>GRAU</td><td>APURÍMAC</td><td>-14.0722332</td><td>-72.47651672</td></tr><tr><td>220510</td><td>TABALOSOS</td><td>LAMAS</td><td>SAN MARTÍN</td><td>-6.391771436</td><td>-76.63124962</td></tr><tr><td>110106</td><td>PARCONA</td><td>ICA</td><td>ICA</td><td>-14.06084372</td><td>-75.70712642</td></tr><tr><td>20509</td><td>HUASTA</td><td>BOLOGNESI</td><td>ANCASH</td><td>-10.1210771</td><td>-77.14089379</td></tr><tr><td>90502</td><td>ANCO</td><td>CHURCAMPA</td><td>HUANCAVELICA</td><td>-12.6656599</td><td>-74.57648468</td></tr><tr><td>80307</td><td>MOLLEPATA</td><td>ANTA</td><td>CUSCO</td><td>-13.49047014</td><td>-72.53914812</td></tr><tr><td>21004</td><td>CHAVIN DE HUANTAR</td><td>HUARI</td><td>ANCASH</td><td>-9.587852478</td><td>-77.18581332</td></tr><tr><td>21203</td><td>HUATA</td><td>HUAYLAS</td><td>ANCASH</td><td>-9.007277012</td><td>-77.86393356</td></tr><tr><td>30306</td><td>PACHACONAS</td><td>ANTABAMBA</td><td>APURÍMAC</td><td>-14.22183704</td><td>-73.02233505</td></tr><tr><td>40705</td><td>MEJIA</td><td>ISLAY</td><td>AREQUIPA</td><td>-17.09586906</td><td>-71.89886322</td></tr><tr><td>20607</td><td>PARIAHUANCA</td><td>CARHUAZ</td><td>ANCASH</td><td>-9.357850711</td><td>-77.57691108</td></tr><tr><td>50801</td><td>PAUSA</td><td>PAUCAR DEL SARA SARA</td><td>AYACUCHO</td><td>-15.27755165</td><td>-73.34633128</td></tr><tr><td>20305</td><td>MIRGAS</td><td>ANTONIO RAYMONDI</td><td>ANCASH</td><td>-9.076167687</td><td>-77.0988952</td></tr><tr><td>210108</td><td>HUATA</td><td>PUNO</td><td>PUNO</td><td>-15.61634858</td><td>-69.99711037</td></tr><tr><td>210206</td><td>CHUPA</td><td>AZANGARO</td><td>PUNO</td><td>-15.11677814</td><td>-69.95898342</td></tr><tr><td>80107</td><td>SAYLLA</td><td>CUSCO</td><td>CUSCO</td><td>-13.56336922</td><td>-71.83798981</td></tr><tr><td>220909</td><td>LA BANDA DE SHILCAYO</td><td>SAN MARTÍN</td><td>SAN MARTÍN</td><td>-6.515065074</td><td>-76.33766174</td></tr><tr><td>160601</td><td>CONTAMANA</td><td>UCAYALI</td><td>LORETO</td><td>-7.594834518</td><td>-75.18543396</td></tr><tr><td>20111</td><td>PIRA</td><td>HUARAZ</td><td>ANCASH</td><td>-9.54259491</td><td>-77.7052091</td></tr><tr><td>20108</td><td>OLLEROS</td><td>HUARAZ</td><td>ANCASH</td><td>-9.655763308</td><td>-77.4740804</td></tr><tr><td>30202</td><td>ANDARAPA</td><td>ANDAHUAYLAS</td><td>APURÍMAC</td><td>-13.51984342</td><td>-73.36024729</td></tr><tr><td>150113</td><td>JESUS MARIA</td><td>LIMA</td><td>LIMA</td><td>-12.06999874</td><td>-77.04524231</td></tr><tr><td>150122</td><td>MIRAFLORES</td><td>LIMA</td><td>LIMA</td><td>-12.11752892</td><td>-77.04541016</td></tr><tr><td>210703</td><td>CALAPUJA</td><td>LAMPA</td><td>PUNO</td><td>-15.36147499</td><td>-70.18636322</td></tr><tr><td>60419</td><td>CHALAMARCA</td><td>CHOTA</td><td>CAJAMARCA</td><td>-6.519294898</td><td>-78.4971583</td></tr><tr><td>50907</td><td>PAICO</td><td>SUCRE</td><td>AYACUCHO</td><td>-14.00694942</td><td>-73.65024948</td></tr><tr><td>150115</td><td>LA VICTORIA</td><td>LIMA</td><td>LIMA</td><td>-12.06533909</td><td>-77.0309906</td></tr><tr><td>160504</td><td>EMILIO SAN MARTÍN</td><td>REQUENA</td><td>LORETO</td><td>-5.685268641</td><td>-74.30905151</td></tr><tr><td>20703</td><td>YAUYA</td><td>CARLOS FERMIN FITZCARRALD</td><td>ANCASH</td><td>-8.995106578</td><td>-77.28498363</td></tr><tr><td>211207</td><td>SAN JUAN DEL ORO</td><td>SANDIA</td><td>PUNO</td><td>-14.19998264</td><td>-69.11614227</td></tr><tr><td>40606</td><td>RIO GRANDE</td><td>CONDESUYOS</td><td>AREQUIPA</td><td>-15.92272329</td><td>-73.09153366</td></tr><tr><td>220803</td><td>ELIAS SOPLIN VARGAS</td><td>RIOJA</td><td>SAN MARTÍN</td><td>-6.008140193</td><td>-77.27912988</td></tr><tr><td>220704</td><td>PILLUANA</td><td>PICOTA</td><td>SAN MARTÍN</td><td>-6.787575245</td><td>-76.27360916</td></tr><tr><td>60417</td><td>TACABAMBA</td><td>CHOTA</td><td>CAJAMARCA</td><td>-6.397888527</td><td>-78.59155426</td></tr><tr><td>200111</td><td>LAS LOMAS</td><td>PIURA</td><td>PIURA</td><td>-4.690694954</td><td>-80.20750759</td></tr><tr><td>60802</td><td>BELLAVISTA</td><td>JAEN</td><td>CAJAMARCA</td><td>-5.581311294</td><td>-78.77811941</td></tr><tr><td>170204</td><td>HUEPETUHE</td><td>MANU</td><td>MADRE DE DIOS</td><td>-13.03709041</td><td>-70.5037935</td></tr><tr><td>61005</td><td>ICHOCAN</td><td>SAN MARCOS</td><td>CAJAMARCA</td><td>-7.366181469</td><td>-78.12542725</td></tr><tr><td>160102</td><td>ALTO NANAY</td><td>MAYNAS</td><td>LORETO</td><td>-3.894294977</td><td>-73.753479</td></tr><tr><td>10608</td><td>MILPUC</td><td>RODRIGUEZ DE MENDOZA</td><td>AMAZONAS</td><td>-6.496859074</td><td>-77.42358398</td></tr><tr><td>150112</td><td>INDEPENDENCIA</td><td>LIMA</td><td>LIMA</td><td>-12.00085735</td><td>-77.05225372</td></tr><tr><td>151029</td><td>TAURIPAMPA</td><td>YAUYOS</td><td>LIMA</td><td>-12.61717701</td><td>-76.16207886</td></tr><tr><td>120806</td><td>PACCHA</td><td>YAULI</td><td>JUNÍN</td><td>-11.4795742</td><td>-75.96697235</td></tr><tr><td>150715</td><td>SAN ANDRES DE TUPICOCHA</td><td>HUAROCHIRI</td><td>LIMA</td><td>-11.99970722</td><td>-76.4745636</td></tr><tr><td>50405</td><td>LURICOCHA</td><td>HUANTA</td><td>AYACUCHO</td><td>-12.89684592</td><td>-74.27716446</td></tr><tr><td>61301</td><td>SANTA CRUZ</td><td>SANTA CRUZ</td><td>CAJAMARCA</td><td>-6.635353914</td><td>-78.94016677</td></tr><tr><td>211305</td><td>OLLARAYA</td><td>YUNGUYO</td><td>PUNO</td><td>-16.24634889</td><td>-69.00214181</td></tr><tr><td>81202</td><td>ANDAHUAYLILLAS</td><td>QUISPICANCHI</td><td>CUSCO</td><td>-13.67317446</td><td>-71.68359937</td></tr><tr><td>220103</td><td>HABANA</td><td>MOYOBAMBA</td><td>SAN MARTÍN</td><td>-6.076165517</td><td>-77.11201731</td></tr><tr><td>160703</td><td>MANSERICHE</td><td>DATEM DEL MARAÑON</td><td>LORETO</td><td>-4.695634174</td><td>-77.46178284</td></tr><tr><td>210605</td><td>PUSI</td><td>HUANCANE</td><td>PUNO</td><td>-15.46099758</td><td>-69.93759155</td></tr><tr><td>210502</td><td>CAPAZO</td><td>EL COLLAO</td><td>PUNO</td><td>-17.18372154</td><td>-69.74452972</td></tr><tr><td>150128</td><td>RIMAC</td><td>LIMA</td><td>LIMA</td><td>-12.02962971</td><td>-77.04376221</td></tr><tr><td>81004</td><td>COLCHA</td><td>PARURO</td><td>CUSCO</td><td>-13.85119724</td><td>-71.80294037</td></tr><tr><td>80801</td><td>ESPINAR</td><td>ESPINAR</td><td>CUSCO</td><td>-14.88629489</td><td>-71.35726556</td></tr><tr><td>10306</td><td>FLORIDA</td><td>BONGARA</td><td>AMAZONAS</td><td>-5.837375323</td><td>-77.95561091</td></tr><tr><td>220205</td><td>SAN PABLO</td><td>BELLAVISTA</td><td>SAN MARTÍN</td><td>-6.812920994</td><td>-76.59323332</td></tr><tr><td>140116</td><td>CAYALTI</td><td>CHICLAYO</td><td>LAMBAYEQUE</td><td>-6.893425465</td><td>-79.54925452</td></tr><tr><td>210115</td><td>VILQUE</td><td>PUNO</td><td>PUNO</td><td>-15.75835569</td><td>-70.2710944</td></tr><tr><td>40203</td><td>MARIANO NICOLAS VALCARCEL</td><td>CAMANA</td><td>AREQUIPA</td><td>-15.9670589</td><td>-73.18419456</td></tr><tr><td>40516</td><td>TAPAY</td><td>CAYLLOMA</td><td>AREQUIPA</td><td>-15.57750797</td><td>-71.93937683</td></tr><tr><td>21703</td><td>COTAPARACO</td><td>RECUAY</td><td>ANCASH</td><td>-9.987114906</td><td>-77.58612823</td></tr><tr><td>130102</td><td>EL PORVENIR</td><td>TRUJILLO</td><td>LA LIBERTAD</td><td>-8.082130432</td><td>-79.00273895</td></tr><tr><td>21405</td><td>COCHAS</td><td>OCROS</td><td>ANCASH</td><td>-10.58901739</td><td>-77.4822464</td></tr><tr><td>21002</td><td>ANRA</td><td>HUARI</td><td>ANCASH</td><td>-9.24304692</td><td>-76.93397268</td></tr><tr><td>50507</td><td>SANTA ROSA</td><td>LA MAR</td><td>AYACUCHO</td><td>-12.7024565</td><td>-73.73450008</td></tr><tr><td>220502</td><td>ALONSO DE ALVARADO</td><td>LAMAS</td><td>SAN MARTÍN</td><td>-6.333196473</td><td>-76.77749443</td></tr><tr><td>210203</td><td>ARAPA</td><td>AZANGARO</td><td>PUNO</td><td>-15.12211475</td><td>-70.08197384</td></tr><tr><td>230402</td><td>HEROES ALBARRACIN</td><td>TARATA</td><td>TACNA</td><td>-17.47351551</td><td>-70.13821793</td></tr><tr><td>220504</td><td>CAYNARACHI</td><td>LAMAS</td><td>SAN MARTÍN</td><td>-6.310061088</td><td>-76.27571341</td></tr><tr><td>60305</td><td>JORGE CHAVEZ</td><td>CELENDIN</td><td>CAJAMARCA</td><td>-6.933939338</td><td>-78.099226</td></tr><tr><td>50807</td><td>PARARCA</td><td>PAUCAR DEL SARA SARA</td><td>AYACUCHO</td><td>-15.21709919</td><td>-73.46549225</td></tr><tr><td>230406</td><td>SUSAPAYA</td><td>TARATA</td><td>TACNA</td><td>-17.35388374</td><td>-70.13282013</td></tr><tr><td>60412</td><td>MIRACOSTA</td><td>CHOTA</td><td>CAJAMARCA</td><td>-6.354627132</td><td>-79.29018021</td></tr><tr><td>61306</td><td>NINABAMBA</td><td>SANTA CRUZ</td><td>CAJAMARCA</td><td>-6.670148426</td><td>-78.78256819</td></tr><tr><td>40502</td><td>ACHOMA</td><td>CAYLLOMA</td><td>AREQUIPA</td><td>-15.66335988</td><td>-71.7026577</td></tr><tr><td>130206</td><td>RAZURI</td><td>ASCOPE</td><td>LA LIBERTAD</td><td>-7.703728711</td><td>-79.36770234</td></tr><tr><td>10112</td><td>MAGDALENA</td><td>CHACHAPOYAS</td><td>AMAZONAS</td><td>-6.408820868</td><td>-77.8603096</td></tr><tr><td>50504</td><td>CHILCAS</td><td>LA MAR</td><td>AYACUCHO</td><td>-13.17179067</td><td>-73.88415309</td></tr><tr><td>140206</td><td>PUEBLO NUEVO</td><td>FERREÑAFE</td><td>LAMBAYEQUE</td><td>-6.61847655</td><td>-79.81979709</td></tr><tr><td>220709</td><td>TINGO DE PONASA</td><td>PICOTA</td><td>SAN MARTÍN</td><td>-6.933670044</td><td>-76.26327345</td></tr><tr><td>190111</td><td>TINYAHUARCO</td><td>PASCO</td><td>PASCO</td><td>-10.75042353</td><td>-76.25668716</td></tr><tr><td>200403</td><td>CHALACO</td><td>MORROPON</td><td>PIURA</td><td>-5.048598607</td><td>-79.81030782</td></tr><tr><td>210602</td><td>COJATA</td><td>HUANCANE</td><td>PUNO</td><td>-15.01512814</td><td>-69.36522675</td></tr><tr><td>81001</td><td>PARURO</td><td>PARURO</td><td>CUSCO</td><td>-13.74743912</td><td>-71.8585434</td></tr><tr><td>210901</td><td>MOHO</td><td>MOHO</td><td>PUNO</td><td>-15.35580672</td><td>-69.47636117</td></tr><tr><td>140108</td><td>MONSEFU</td><td>CHICLAYO</td><td>LAMBAYEQUE</td><td>-6.858631395</td><td>-79.85118394</td></tr><tr><td>80201</td><td>ACOMAYO</td><td>ACOMAYO</td><td>CUSCO</td><td>-13.92488313</td><td>-71.67429308</td></tr><tr><td>150501</td><td>SAN VICENTE DE CAÑETE</td><td>CAÑETE</td><td>LIMA</td><td>-13.13975518</td><td>-76.35866429</td></tr><tr><td>40308</td><td>CHAPARRA</td><td>CARAVELI</td><td>AREQUIPA</td><td>-15.73920784</td><td>-73.88502655</td></tr><tr><td>51011</td><td>SARHUA</td><td>VICTOR FAJARDO</td><td>AYACUCHO</td><td>-13.66620077</td><td>-74.34962899</td></tr><tr><td>10707</td><td>YAMON</td><td>UTCUBAMBA</td><td>AMAZONAS</td><td>-6.013111909</td><td>-78.50360107</td></tr><tr><td>90413</td><td>TICRAPO</td><td>CASTROVIRREYNA</td><td>HUANCAVELICA</td><td>-13.34540462</td><td>-75.42289734</td></tr><tr><td>10120</td><td>SOLOCO</td><td>CHACHAPOYAS</td><td>AMAZONAS</td><td>-6.254879951</td><td>-77.75582123</td></tr><tr><td>200805</td><td>VICE</td><td>SECHURA</td><td>PIURA</td><td>-5.434669197</td><td>-80.78338432</td></tr><tr><td>81211</td><td>OROPESA</td><td>QUISPICANCHI</td><td>CUSCO</td><td>-13.5858271</td><td>-71.77557328</td></tr><tr><td>200608</td><td>SALITRAL</td><td>SULLANA</td><td>PIURA</td><td>-4.847379804</td><td>-80.68235683</td></tr><tr><td>210103</td><td>AMANTANI</td><td>PUNO</td><td>PUNO</td><td>-15.68151398</td><td>-69.71224213</td></tr><tr><td>10204</td><td>EL PARCO</td><td>BAGUA</td><td>AMAZONAS</td><td>-5.620324278</td><td>-78.47593689</td></tr><tr><td>190101</td><td>CHAUPIMARCA</td><td>PASCO</td><td>PASCO</td><td>-10.70242119</td><td>-76.24163513</td></tr><tr><td>30607</td><td>URANMARCA</td><td>CHINCHEROS</td><td>APURÍMAC</td><td>-13.66741403</td><td>-73.65593465</td></tr><tr><td>51002</td><td>ALCAMENCA</td><td>VICTOR FAJARDO</td><td>AYACUCHO</td><td>-13.65644073</td><td>-74.19477844</td></tr><tr><td>110207</td><td>PUEBLO NUEVO</td><td>CHINCHA</td><td>ICA</td><td>-13.40484428</td><td>-76.12693024</td></tr><tr><td>220902</td><td>ALBERTO LEVEAU</td><td>SAN MARTÍN</td><td>SAN MARTÍN</td><td>-6.663570404</td><td>-76.28788757</td></tr><tr><td>30216</td><td>TALAVERA</td><td>ANDAHUAYLAS</td><td>APURÍMAC</td><td>-13.65399996</td><td>-73.43992445</td></tr><tr><td>90702</td><td>ACOSTAMBO</td><td>TAYACAJA</td><td>HUANCAVELICA</td><td>-12.42952503</td><td>-75.01375798</td></tr><tr><td>110102</td><td>LA TINGUIÑA</td><td>ICA</td><td>ICA</td><td>-14.01058233</td><td>-75.71272988</td></tr><tr><td>210401</td><td>JULI</td><td>CHUCUITO</td><td>PUNO</td><td>-16.22044952</td><td>-69.47375946</td></tr><tr><td>131202</td><td>CHAO</td><td>VIRU</td><td>LA LIBERTAD</td><td>-8.545957618</td><td>-78.66345554</td></tr><tr><td>60505</td><td>SAN BENITO</td><td>CONTUMAZA</td><td>CAJAMARCA</td><td>-7.524433613</td><td>-78.93818283</td></tr><tr><td>21803</td><td>COISHCO</td><td>SANTA</td><td>ANCASH</td><td>-9.023980141</td><td>-78.61824799</td></tr><tr><td>120405</td><td>CANCHAYLLO</td><td>JAUJA</td><td>JUNÍN</td><td>-11.78584957</td><td>-75.71652985</td></tr><tr><td>120101</td><td>HUANCAYO</td><td>HUANCAYO</td><td>JUNÍN</td><td>-12.04284096</td><td>-75.19766998</td></tr><tr><td>30412</td><td>SAÑAYCA</td><td>AYMARAES</td><td>APURÍMAC</td><td>-14.20467091</td><td>-73.34716797</td></tr><tr><td>131001</td><td>SANTIAGO DE CHUCO</td><td>SANTIAGO DE CHUCO</td><td>LA LIBERTAD</td><td>-8.181338446</td><td>-78.20392827</td></tr><tr><td>30504</td><td>HAQUIRA</td><td>COTABAMBAS</td><td>APURÍMAC</td><td>-14.22458017</td><td>-72.1861577</td></tr><tr><td>120431</td><td>SINCOS</td><td>JAUJA</td><td>JUNÍN</td><td>-11.91695499</td><td>-75.43627853</td></tr><tr><td>160113</td><td>SAN JUAN BAUTISTA</td><td>MAYNAS</td><td>LORETO</td><td>-3.875514242</td><td>-73.34870063</td></tr><tr><td>100317</td><td>RIPAN</td><td>DOS DE MAYO</td><td>HUÁNUCO</td><td>-9.814537644</td><td>-76.80862617</td></tr><tr><td>120212</td><td>NUEVE DE JULIO</td><td>CONCEPCION</td><td>JUNÍN</td><td>-11.88981724</td><td>-75.31603895</td></tr><tr><td>40119</td><td>SAN JUAN DE TARUCANI</td><td>AREQUIPA</td><td>AREQUIPA</td><td>-16.18411446</td><td>-71.06556702</td></tr><tr><td>30714</td><td>CURASCO</td><td>GRAU</td><td>APURÍMAC</td><td>-14.06082153</td><td>-72.56725311</td></tr><tr><td>70101</td><td>CALLAO</td><td>CALLAO</td><td>CALLAO</td><td>-12.05155754</td><td>-77.13411713</td></tr><tr><td>150513</td><td>SAN ANTONIO</td><td>CAÑETE</td><td>LIMA</td><td>-12.61551543</td><td>-76.67496045</td></tr><tr><td>110403</td><td>RIO GRANDE</td><td>PALPA</td><td>ICA</td><td>-14.47929621</td><td>-75.19285393</td></tr><tr><td>80302</td><td>ANCAHUASI</td><td>ANTA</td><td>CUSCO</td><td>-13.46830472</td><td>-72.30737097</td></tr><tr><td>60903</td><td>HUARANGO</td><td>SAN IGNACIO</td><td>CAJAMARCA</td><td>-5.28665172</td><td>-78.75005895</td></tr><tr><td>90307</td><td>HUANCA-HUANCA</td><td>ANGARAES</td><td>HUANCAVELICA</td><td>-12.93299732</td><td>-74.59714508</td></tr><tr><td>40510</td><td>LARI</td><td>CAYLLOMA</td><td>AREQUIPA</td><td>-15.62209129</td><td>-71.76891327</td></tr><tr><td>240102</td><td>CORRALES</td><td>TUMBES</td><td>TUMBES</td><td>-3.594156417</td><td>-80.49049239</td></tr><tr><td>51107</td><td>SAURAMA</td><td>VILCAS HUAMAN</td><td>AYACUCHO</td><td>-13.70458508</td><td>-73.75360107</td></tr><tr><td>170201</td><td>MANU</td><td>MANU</td><td>MADRE DE DIOS</td><td>-12.83600998</td><td>-71.35899353</td></tr><tr><td>21204</td><td>HUAYLAS</td><td>HUAYLAS</td><td>ANCASH</td><td>-8.878623009</td><td>-77.89760971</td></tr><tr><td>20107</td><td>LA LIBERTAD</td><td>HUARAZ</td><td>ANCASH</td><td>-9.628812485</td><td>-77.74738678</td></tr><tr><td>61105</td><td>EL PRADO</td><td>SAN MIGUEL</td><td>CAJAMARCA</td><td>-7.033281326</td><td>-79.01078796</td></tr><tr><td>110206</td><td>GROCIO PRADO</td><td>CHINCHA</td><td>ICA</td><td>-13.38561241</td><td>-76.16601034</td></tr><tr><td>40116</td><td>SABANDIA</td><td>AREQUIPA</td><td>AREQUIPA</td><td>-16.45267334</td><td>-71.4949646</td></tr><tr><td>120702</td><td>ACOBAMBA</td><td>TARMA</td><td>JUNÍN</td><td>-11.34506432</td><td>-75.66756651</td></tr><tr><td>150602</td><td>ATAVILLOS ALTO</td><td>HUARAL</td><td>LIMA</td><td>-11.23420525</td><td>-76.65596771</td></tr><tr><td>140118</td><td>POMALCA</td><td>CHICLAYO</td><td>LAMBAYEQUE</td><td>-6.76494542</td><td>-79.76658214</td></tr><tr><td>151028</td><td>TANTA</td><td>YAUYOS</td><td>LIMA</td><td>-12.12164783</td><td>-76.0136795</td></tr><tr><td>100902</td><td>CODO DEL POZUZO</td><td>PUERTO INCA</td><td>HUÁNUCO</td><td>-9.652570724</td><td>-75.37736893</td></tr><tr><td>151008</td><td>CATAHUASI</td><td>YAUYOS</td><td>LIMA</td><td>-12.79965496</td><td>-75.89183807</td></tr><tr><td>30104</td><td>CURAHUASI</td><td>ABANCAY</td><td>APURÍMAC</td><td>-13.55146511</td><td>-72.72444344</td></tr><tr><td>150406</td><td>SAN BUENAVENTURA</td><td>CANTA</td><td>LIMA</td><td>-11.45119019</td><td>-76.62172394</td></tr><tr><td>81206</td><td>CUSIPATA</td><td>QUISPICANCHI</td><td>CUSCO</td><td>-13.88902311</td><td>-71.49817734</td></tr><tr><td>120135</td><td>SANTO DOMINGO DE ACOBAMBA</td><td>HUANCAYO</td><td>JUNÍN</td><td>-11.83125298</td><td>-74.77303197</td></tr><tr><td>200407</td><td>SAN JUAN DE BIGOTE</td><td>MORROPON</td><td>PIURA</td><td>-5.314387242</td><td>-79.76966349</td></tr><tr><td>90115</td><td>PILCHACA</td><td>HUANCAVELICA</td><td>HUANCAVELICA</td><td>-12.40758705</td><td>-75.07238388</td></tr><tr><td>150716</td><td>SAN ANTONIO</td><td>HUAROCHIRI</td><td>LIMA</td><td>-11.91143608</td><td>-76.94803619</td></tr><tr><td>10308</td><td>RECTA</td><td>BONGARA</td><td>AMAZONAS</td><td>-5.946321487</td><td>-77.75901031</td></tr><tr><td>10121</td><td>SONCHE</td><td>CHACHAPOYAS</td><td>AMAZONAS</td><td>-6.219130039</td><td>-77.77510071</td></tr><tr><td>101002</td><td>BAÑOS</td><td>LAURICOCHA</td><td>HUÁNUCO</td><td>-10.092243</td><td>-76.73935394</td></tr><tr><td>21604</td><td>QUINUABAMBA</td><td>POMABAMBA</td><td>ANCASH</td><td>-8.697932053</td><td>-77.39317118</td></tr><tr><td>200806</td><td>RINCONADA LLICUAR</td><td>SECHURA</td><td>PIURA</td><td>-5.470736384</td><td>-80.77263451</td></tr><tr><td>200109</td><td>LA ARENA</td><td>PIURA</td><td>PIURA</td><td>-5.331527459</td><td>-80.71892548</td></tr><tr><td>20605</td><td>ATAQUERO</td><td>CARHUAZ</td><td>ANCASH</td><td>-9.267046111</td><td>-77.70497894</td></tr><tr><td>50808</td><td>SAN JAVIER DE ALPABAMBA</td><td>PAUCAR DEL SARA SARA</td><td>AYACUCHO</td><td>-15.05416489</td><td>-73.31047058</td></tr><tr><td>81009</td><td>YAURISQUE</td><td>PARURO</td><td>CUSCO</td><td>-13.6536274</td><td>-71.92290497</td></tr><tr><td>30501</td><td>TAMBOBAMBA</td><td>COTABAMBAS</td><td>APURÍMAC</td><td>-13.89725304</td><td>-72.15538025</td></tr><tr><td>120301</td><td>CHANCHAMAYO</td><td>CHANCHAMAYO</td><td>JUNÍN</td><td>-11.01618703</td><td>-75.32442093</td></tr><tr><td>80703</td><td>CHAMACA</td><td>CHUMBIVILCAS</td><td>CUSCO</td><td>-14.38301659</td><td>-71.82856954</td></tr><tr><td>210306</td><td>CRUCERO</td><td>CARABAYA</td><td>PUNO</td><td>-14.33496288</td><td>-70.02034529</td></tr><tr><td>10704</td><td>EL MILAGRO</td><td>UTCUBAMBA</td><td>AMAZONAS</td><td>-5.711835543</td><td>-78.59490458</td></tr><tr><td>20510</td><td>HUAYLLACAYAN</td><td>BOLOGNESI</td><td>ANCASH</td><td>-10.23638821</td><td>-77.44320594</td></tr><tr><td>80910</td><td>PICHARI</td><td>LA CONVENCION</td><td>CUSCO</td><td>-12.4909935</td><td>-73.83797879</td></tr><tr><td>81003</td><td>CCAPI</td><td>PARURO</td><td>CUSCO</td><td>-13.86434507</td><td>-72.0136261</td></tr><tr><td>221002</td><td>NUEVO PROGRESO</td><td>TOCACHE</td><td>SAN MARTÍN</td><td>-8.549942255</td><td>-76.26639843</td></tr><tr><td>150714</td><td>RICARDO PALMA</td><td>HUAROCHIRI</td><td>LIMA</td><td>-11.92408562</td><td>-76.64711761</td></tr><tr><td>110405</td><td>TIBILLO</td><td>PALPA</td><td>ICA</td><td>-14.09299088</td><td>-75.17286682</td></tr><tr><td>90717</td><td>SURCUBAMBA</td><td>TAYACAJA</td><td>HUANCAVELICA</td><td>-12.11169235</td><td>-74.6355289</td></tr><tr><td>51106</td><td>INDEPENDENCIA</td><td>VILCAS HUAMAN</td><td>AYACUCHO</td><td>-13.87688269</td><td>-73.87999071</td></tr><tr><td>150515</td><td>SANTA CRUZ DE FLORES</td><td>CAÑETE</td><td>LIMA</td><td>-12.59992373</td><td>-76.65812111</td></tr><tr><td>150728</td><td>SANTA EULALIA</td><td>HUAROCHIRI</td><td>LIMA</td><td>-11.89144675</td><td>-76.65424093</td></tr><tr><td>50803</td><td>CORCULLA</td><td>PAUCAR DEL SARA SARA</td><td>AYACUCHO</td><td>-15.25185823</td><td>-73.21316338</td></tr><tr><td>151021</td><td>MIRAFLORES</td><td>YAUYOS</td><td>LIMA</td><td>-12.27417088</td><td>-75.85024261</td></tr><tr><td>40107</td><td>JACOBO HUNTER</td><td>AREQUIPA</td><td>AREQUIPA</td><td>-16.44693947</td><td>-71.55567932</td></tr><tr><td>51007</td><td>COLCA</td><td>VICTOR FAJARDO</td><td>AYACUCHO</td><td>-13.71264076</td><td>-74.03439331</td></tr><tr><td>151019</td><td>LINCHA</td><td>YAUYOS</td><td>LIMA</td><td>-12.79968357</td><td>-75.66642761</td></tr><tr><td>100403</td><td>COCHABAMBA</td><td>HUACAYBAMBA</td><td>HUÁNUCO</td><td>-9.094055176</td><td>-76.82413483</td></tr><tr><td>221003</td><td>POLVORA</td><td>TOCACHE</td><td>SAN MARTÍN</td><td>-8.024431449</td><td>-76.62890977</td></tr><tr><td>50203</td><td>LOS MOROCHUCOS</td><td>CANGALLO</td><td>AYACUCHO</td><td>-13.53950101</td><td>-74.18808842</td></tr><tr><td>21011</td><td>PONTO</td><td>HUARI</td><td>ANCASH</td><td>-9.329941432</td><td>-76.99396769</td></tr><tr><td>210310</td><td>USICAYOS</td><td>CARABAYA</td><td>PUNO</td><td>-14.12342389</td><td>-69.94668579</td></tr><tr><td>21210</td><td>YURACMARCA</td><td>HUAYLAS</td><td>ANCASH</td><td>-8.758871396</td><td>-77.80532074</td></tr><tr><td>60307</td><td>MIGUEL IGLESIAS</td><td>CELENDIN</td><td>CAJAMARCA</td><td>-6.67871964</td><td>-78.24513245</td></tr><tr><td>160602</td><td>INAHUAYA</td><td>UCAYALI</td><td>LORETO</td><td>-7.08158493</td><td>-75.22780991</td></tr><tr><td>150104</td><td>BARRANCO</td><td>LIMA</td><td>LIMA</td><td>-12.14959908</td><td>-77.02474213</td></tr><tr><td>22004</td><td>MATACOTO</td><td>YUNGAY</td><td>ANCASH</td><td>-9.180298593</td><td>-77.75152673</td></tr><tr><td>100307</td><td>CHUQUIS</td><td>DOS DE MAYO</td><td>HUÁNUCO</td><td>-9.663657546</td><td>-76.69727826</td></tr><tr><td>230109</td><td>SAMA</td><td>TACNA</td><td>TACNA</td><td>-18.0117116</td><td>-70.65529919</td></tr><tr><td>200206</td><td>PACAIPAMPA</td><td>AYABACA</td><td>PIURA</td><td>-4.977111853</td><td>-79.6717142</td></tr><tr><td>130901</td><td>HUAMACHUCO</td><td>SANCHEZ CARRION</td><td>LA LIBERTAD</td><td>-7.801775394</td><td>-78.02046548</td></tr><tr><td>80705</td><td>LIVITACA</td><td>CHUMBIVILCAS</td><td>CUSCO</td><td>-14.37100163</td><td>-71.65171051</td></tr><tr><td>151023</td><td>PUTINZA</td><td>YAUYOS</td><td>LIMA</td><td>-12.66828823</td><td>-75.94944763</td></tr><tr><td>61308</td><td>SAUCEPAMPA</td><td>SANTA CRUZ</td><td>CAJAMARCA</td><td>-6.681337833</td><td>-78.8866806</td></tr><tr><td>130302</td><td>BAMBAMARCA</td><td>BOLIVAR</td><td>LA LIBERTAD</td><td>-7.441461086</td><td>-77.69480133</td></tr><tr><td>150504</td><td>CERRO AZUL</td><td>CAÑETE</td><td>LIMA</td><td>-12.99623044</td><td>-76.48145612</td></tr><tr><td>90114</td><td>PALCA</td><td>HUANCAVELICA</td><td>HUANCAVELICA</td><td>-12.66360687</td><td>-74.97384618</td></tr><tr><td>220604</td><td>PACHIZA</td><td>MARISCAL CACERES</td><td>SAN MARTÍN</td><td>-7.289594787</td><td>-76.79665484</td></tr><tr><td>22001</td><td>YUNGAY</td><td>YUNGAY</td><td>ANCASH</td><td>-9.13832704</td><td>-77.73640363</td></tr><tr><td>210501</td><td>ILAVE</td><td>EL COLLAO</td><td>PUNO</td><td>-16.12581476</td><td>-69.64507926</td></tr><tr><td>190110</td><td>TICLACAYAN</td><td>PASCO</td><td>PASCO</td><td>-10.5635453</td><td>-76.13988671</td></tr><tr><td>50502</td><td>ANCO</td><td>LA MAR</td><td>AYACUCHO</td><td>-13.02483749</td><td>-73.65667852</td></tr><tr><td>220913</td><td>SAUCE</td><td>SAN MARTÍN</td><td>SAN MARTÍN</td><td>-6.698778629</td><td>-76.21750895</td></tr><tr><td>21506</td><td>LACABAMBA</td><td>PALLASCA</td><td>ANCASH</td><td>-8.258423805</td><td>-77.89611053</td></tr><tr><td>90705</td><td>COLCABAMBA</td><td>TAYACAJA</td><td>HUANCAVELICA</td><td>-12.40194287</td><td>-74.69001498</td></tr><tr><td>100101</td><td>HUÁNUCO</td><td>HUÁNUCO</td><td>HUÁNUCO</td><td>-9.898016853</td><td>-76.24930328</td></tr><tr><td>80402</td><td>COYA</td><td>CALCA</td><td>CUSCO</td><td>-13.40226798</td><td>-71.90010556</td></tr><tr><td>40608</td><td>YANAQUIHUA</td><td>CONDESUYOS</td><td>AREQUIPA</td><td>-15.74686704</td><td>-72.9494291</td></tr><tr><td>90710</td><td>ÑAHUIMPUQUIO</td><td>TAYACAJA</td><td>HUANCAVELICA</td><td>-12.32449961</td><td>-75.07333755</td></tr><tr><td>150720</td><td>SAN JUAN DE TANTARANCHE</td><td>HUAROCHIRI</td><td>LIMA</td><td>-12.11347008</td><td>-76.18254852</td></tr><tr><td>200602</td><td>BELLAVISTA</td><td>SULLANA</td><td>PIURA</td><td>-4.888760567</td><td>-80.67637634</td></tr><tr><td>90612</td><td>SAN ISIDRO</td><td>HUAYTARA</td><td>HUANCAVELICA</td><td>-13.95720959</td><td>-75.24002075</td></tr><tr><td>90501</td><td>CHURCAMPA</td><td>CHURCAMPA</td><td>HUANCAVELICA</td><td>-12.75394528</td><td>-74.3832234</td></tr><tr><td>10115</td><td>MONTEVIDEO</td><td>CHACHAPOYAS</td><td>AMAZONAS</td><td>-6.626233101</td><td>-77.79276886</td></tr><tr><td>130807</td><td>ONGON</td><td>PATAZ</td><td>LA LIBERTAD</td><td>-8.168911934</td><td>-76.96640015</td></tr><tr><td>20801</td><td>CASMA</td><td>CASMA</td><td>ANCASH</td><td>-9.46087265</td><td>-78.31467438</td></tr><tr><td>120201</td><td>CONCEPCION</td><td>CONCEPCION</td><td>JUNÍN</td><td>-11.90793174</td><td>-75.31312997</td></tr><tr><td>100904</td><td>TOURNAVISTA</td><td>PUERTO INCA</td><td>HUÁNUCO</td><td>-8.936086337</td><td>-74.82889048</td></tr><tr><td>40129</td><td>JOSE LUIS BUSTAMANTE Y RIVERO</td><td>AREQUIPA</td><td>AREQUIPA</td><td>-16.43457031</td><td>-71.51751709</td></tr><tr><td>140201</td><td>FERREÑAFE</td><td>FERREÑAFE</td><td>LAMBAYEQUE</td><td>-6.619813347</td><td>-79.78938484</td></tr><tr><td>110105</td><td>PACHACUTEC</td><td>ICA</td><td>ICA</td><td>-14.1600554</td><td>-75.67903233</td></tr><tr><td>110108</td><td>SALAS</td><td>ICA</td><td>ICA</td><td>-13.91761527</td><td>-75.9165101</td></tr><tr><td>90101</td><td>HUANCAVELICA</td><td>HUANCAVELICA</td><td>HUANCAVELICA</td><td>-12.79180384</td><td>-74.93290377</td></tr><tr><td>190206</td><td>SANTA ANA DE TUSI</td><td>DANIEL ALCIDES CARRION</td><td>PASCO</td><td>-10.48126011</td><td>-76.32648621</td></tr><tr><td>230203</td><td>CAMILACA</td><td>CANDARAVE</td><td>TACNA</td><td>-17.2879467</td><td>-70.40601921</td></tr><tr><td>40128</td><td>YURA</td><td>AREQUIPA</td><td>AREQUIPA</td><td>-16.22446594</td><td>-71.61278076</td></tr><tr><td>40504</td><td>CALLALLI</td><td>CAYLLOMA</td><td>AREQUIPA</td><td>-15.50729561</td><td>-71.44354248</td></tr><tr><td>90311</td><td>SANTO TOMAS DE PATA</td><td>ANGARAES</td><td>HUANCAVELICA</td><td>-13.11374855</td><td>-74.4235611</td></tr><tr><td>30709</td><td>SAN ANTONIO</td><td>GRAU</td><td>APURÍMAC</td><td>-14.1696682</td><td>-72.62304688</td></tr><tr><td>200210</td><td>SUYO</td><td>AYABACA</td><td>PIURA</td><td>-4.514059067</td><td>-79.96037384</td></tr><tr><td>160112</td><td>BELEN</td><td>MAYNAS</td><td>LORETO</td><td>-3.769276251</td><td>-73.23523013</td></tr><tr><td>190108</td><td>SAN FRANCISCO DE ASIS DE YARUSYACAN</td><td>PASCO</td><td>PASCO</td><td>-10.55035782</td><td>-76.21807241</td></tr><tr><td>180103</td><td>CUCHUMBAYA</td><td>MARISCAL NIETO</td><td>MOQUEGUA</td><td>-16.75521278</td><td>-70.70017242</td></tr><tr><td>10205</td><td>IMAZA</td><td>BAGUA</td><td>AMAZONAS</td><td>-5.018767643</td><td>-78.3144455</td></tr><tr><td>100603</td><td>HERMILIO VALDIZAN</td><td>LEONCIO PRADO</td><td>HUÁNUCO</td><td>-9.158470018</td><td>-75.82137626</td></tr><tr><td>150808</td><td>PACCHO</td><td>HUAURA</td><td>LIMA</td><td>-10.95786142</td><td>-76.94326401</td></tr><tr><td>80203</td><td>ACOS</td><td>ACOMAYO</td><td>CUSCO</td><td>-13.9384449</td><td>-71.72688293</td></tr><tr><td>10505</td><td>CONILA</td><td>LUYA</td><td>AMAZONAS</td><td>-6.159256935</td><td>-78.14202881</td></tr><tr><td>130605</td><td>HUARANCHAL</td><td>OTUZCO</td><td>LA LIBERTAD</td><td>-7.710122363</td><td>-78.46070506</td></tr><tr><td>210709</td><td>SANTA LUCIA</td><td>LAMPA</td><td>PUNO</td><td>-15.69953304</td><td>-70.63996294</td></tr><tr><td>100204</td><td>CONCHAMARCA</td><td>AMBO</td><td>HUÁNUCO</td><td>-10.04863578</td><td>-76.23004675</td></tr><tr><td>50106</td><td>OCROS</td><td>HUAMANGA</td><td>AYACUCHO</td><td>-13.42009576</td><td>-73.9264094</td></tr><tr><td>90304</td><td>CCOCHACCASA</td><td>ANGARAES</td><td>HUANCAVELICA</td><td>-12.92669487</td><td>-74.78046163</td></tr><tr><td>240201</td><td>ZORRITOS</td><td>CONTRALMIRANTE VILLAR</td><td>TUMBES</td><td>-3.68680199</td><td>-80.68441772</td></tr><tr><td>50618</td><td>SAN PEDRO DE PALCO</td><td>LUCANAS</td><td>AYACUCHO</td><td>-14.39742708</td><td>-74.6195755</td></tr><tr><td>151018</td><td>LARAOS</td><td>YAUYOS</td><td>LIMA</td><td>-12.34793091</td><td>-75.78671265</td></tr><tr><td>140112</td><td>PIMENTEL</td><td>CHICLAYO</td><td>LAMBAYEQUE</td><td>-6.795802999</td><td>-79.8942131</td></tr><tr><td>140310</td><td>SALAS</td><td>LAMBAYEQUE</td><td>LAMBAYEQUE</td><td>-6.243088414</td><td>-79.58954127</td></tr><tr><td>60702</td><td>CHUGUR</td><td>HUALGAYOC</td><td>CAJAMARCA</td><td>-6.669491212</td><td>-78.71934764</td></tr><tr><td>60905</td><td>NAMBALLE</td><td>SAN IGNACIO</td><td>CAJAMARCA</td><td>-5.072796643</td><td>-79.19164562</td></tr><tr><td>120607</td><td>RIO NEGRO</td><td>SATIPO</td><td>JUNÍN</td><td>-11.16075773</td><td>-74.6733242</td></tr><tr><td>40514</td><td>SAN ANTONIO DE CHUCA</td><td>CAYLLOMA</td><td>AREQUIPA</td><td>-15.87022305</td><td>-71.15375137</td></tr><tr><td>160110</td><td>TORRES CAUSANA</td><td>MAYNAS</td><td>LORETO</td><td>-1.286996961</td><td>-74.90158463</td></tr><tr><td>210804</td><td>LLALLI</td><td>MELGAR</td><td>PUNO</td><td>-14.9476347</td><td>-70.88034821</td></tr><tr><td>61305</td><td>LA ESPERANZA</td><td>SANTA CRUZ</td><td>CAJAMARCA</td><td>-6.641823422</td><td>-78.83762082</td></tr><tr><td>80603</td><td>COMBAPATA</td><td>CANCHIS</td><td>CUSCO</td><td>-14.08463128</td><td>-71.38799286</td></tr><tr><td>230303</td><td>ITE</td><td>JORGE BASADRE</td><td>TACNA</td><td>-17.80624494</td><td>-70.9387755</td></tr><tr><td>50115</td><td>JESUS NAZARENO</td><td>HUAMANGA</td><td>AYACUCHO</td><td>-13.13776398</td><td>-74.21422259</td></tr><tr><td>170303</td><td>TAHUAMANU</td><td>TAHUAMANU</td><td>MADRE DE DIOS</td><td>-11.55671358</td><td>-69.27851105</td></tr><tr><td>120502</td><td>CARHUAMAYO</td><td>JUNÍN</td><td>JUNÍN</td><td>-10.92908169</td><td>-76.0723877</td></tr><tr><td>150129</td><td>SAN BARTOLO</td><td>LIMA</td><td>LIMA</td><td>-12.38234782</td><td>-76.77150917</td></tr><tr><td>21408</td><td>SAN CRISTOBAL DE RAJAN</td><td>OCROS</td><td>ANCASH</td><td>-10.38610935</td><td>-77.21938324</td></tr><tr><td>100102</td><td>AMARILIS</td><td>HUÁNUCO</td><td>HUÁNUCO</td><td>-9.9339594</td><td>-76.21342872</td></tr><tr><td>80606</td><td>SAN PABLO</td><td>CANCHIS</td><td>CUSCO</td><td>-14.1829277</td><td>-71.2633812</td></tr><tr><td>50609</td><td>LEONCIO PRADO</td><td>LUCANAS</td><td>AYACUCHO</td><td>-14.75419784</td><td>-74.66680908</td></tr><tr><td>80305</td><td>HUAROCONDO</td><td>ANTA</td><td>CUSCO</td><td>-13.40157617</td><td>-72.20599784</td></tr><tr><td>180210</td><td>UBINAS</td><td>GENERAL SANCHEZ CERRO</td><td>MOQUEGUA</td><td>-16.38616943</td><td>-70.8571167</td></tr><tr><td>221001</td><td>TOCACHE</td><td>TOCACHE</td><td>SAN MARTÍN</td><td>-8.180403173</td><td>-76.52930641</td></tr><tr><td>20515</td><td>TICLLOS</td><td>BOLOGNESI</td><td>ANCASH</td><td>-10.23057709</td><td>-77.18888245</td></tr><tr><td>30711</td><td>TURPAY</td><td>GRAU</td><td>APURÍMAC</td><td>-14.22794056</td><td>-72.62226868</td></tr><tr><td>200402</td><td>BUENOS AIRES</td><td>MORROPON</td><td>PIURA</td><td>-5.234137925</td><td>-79.97827981</td></tr><tr><td>20402</td><td>ACOCHACA</td><td>ASUNCION</td><td>ANCASH</td><td>-9.102821032</td><td>-77.38044554</td></tr><tr><td>190109</td><td>SIMON BOLIVAR</td><td>PASCO</td><td>PASCO</td><td>-10.72101325</td><td>-76.33466905</td></tr><tr><td>210503</td><td>PILCUYO</td><td>EL COLLAO</td><td>PUNO</td><td>-16.12311148</td><td>-69.52010146</td></tr><tr><td>190105</td><td>NINACACA</td><td>PASCO</td><td>PASCO</td><td>-10.8305436</td><td>-76.09196819</td></tr><tr><td>210403</td><td>HUACULLANI</td><td>CHUCUITO</td><td>PUNO</td><td>-16.57173252</td><td>-69.36961365</td></tr><tr><td>101007</td><td>SAN MIGUEL DE CAURI</td><td>LAURICOCHA</td><td>HUÁNUCO</td><td>-10.31515312</td><td>-76.68815308</td></tr><tr><td>160508</td><td>SOPLIN</td><td>REQUENA</td><td>LORETO</td><td>-6.005060673</td><td>-73.69120789</td></tr><tr><td>60108</td><td>LOS BAÑOS DEL INCA</td><td>CAJAMARCA</td><td>CAJAMARCA</td><td>-7.134971757</td><td>-78.47207682</td></tr><tr><td>90109</td><td>LARIA</td><td>HUANCAVELICA</td><td>HUANCAVELICA</td><td>-12.55459293</td><td>-75.04722087</td></tr><tr><td>40123</td><td>TIABAYA</td><td>AREQUIPA</td><td>AREQUIPA</td><td>-16.43562022</td><td>-71.59897267</td></tr><tr><td>10101</td><td>CHACHAPOYAS</td><td>CHACHAPOYAS</td><td>AMAZONAS</td><td>-6.251183033</td><td>-77.88175117</td></tr><tr><td>120904</td><td>HUACHAC</td><td>CHUPACA</td><td>JUNÍN</td><td>-12.03293678</td><td>-75.35168675</td></tr><tr><td>120701</td><td>TARMA</td><td>TARMA</td><td>JUNÍN</td><td>-11.41952163</td><td>-75.70436096</td></tr><tr><td>90116</td><td>VILCA</td><td>HUANCAVELICA</td><td>HUANCAVELICA</td><td>-12.47865963</td><td>-75.18691254</td></tr><tr><td>40508</td><td>HUANCA</td><td>CAYLLOMA</td><td>AREQUIPA</td><td>-16.03286934</td><td>-71.87793732</td></tr><tr><td>130301</td><td>BOLIVAR</td><td>BOLIVAR</td><td>LA LIBERTAD</td><td>-7.15473032</td><td>-77.70448303</td></tr><tr><td>30304</td><td>JUAN ESPINOZA MEDRANO</td><td>ANTABAMBA</td><td>APURÍMAC</td><td>-14.42381001</td><td>-72.91679382</td></tr><tr><td>60408</td><td>CONCHAN</td><td>CHOTA</td><td>CAJAMARCA</td><td>-6.453770161</td><td>-78.63775503</td></tr><tr><td>30605</td><td>OCOBAMBA</td><td>CHINCHEROS</td><td>APURÍMAC</td><td>-13.51479607</td><td>-73.52989502</td></tr><tr><td>30409</td><td>LUCRE</td><td>AYMARAES</td><td>APURÍMAC</td><td>-13.95033789</td><td>-73.23809433</td></tr><tr><td>21015</td><td>SAN PEDRO DE CHANA</td><td>HUARI</td><td>ANCASH</td><td>-9.482297421</td><td>-77.00891749</td></tr><tr><td>150906</td><td>PACHANGARA</td><td>OYON</td><td>LIMA</td><td>-10.82333231</td><td>-76.82237244</td></tr><tr><td>150132</td><td>SAN JUAN DE LURIGANCHO</td><td>LIMA</td><td>LIMA</td><td>-12.02449894</td><td>-77.00263977</td></tr><tr><td>90606</td><td>OCOYO</td><td>HUAYTARA</td><td>HUANCAVELICA</td><td>-14.01225527</td><td>-74.96825059</td></tr><tr><td>220904</td><td>CHAZUTA</td><td>SAN MARTÍN</td><td>SAN MARTÍN</td><td>-6.574453379</td><td>-76.09427563</td></tr><tr><td>20109</td><td>PAMPAS</td><td>HUARAZ</td><td>ANCASH</td><td>-9.635875463</td><td>-77.83973885</td></tr><tr><td>110501</td><td>PISCO</td><td>PISCO</td><td>ICA</td><td>-13.69855613</td><td>-76.189466</td></tr><tr><td>150135</td><td>SAN MARTÍN DE PORRES</td><td>LIMA</td><td>LIMA</td><td>-12.03038025</td><td>-77.04701233</td></tr><tr><td>210706</td><td>PALCA</td><td>LAMPA</td><td>PUNO</td><td>-15.23883152</td><td>-70.57915497</td></tr><tr><td>40106</td><td>CHIGUATA</td><td>AREQUIPA</td><td>AREQUIPA</td><td>-16.4025383</td><td>-71.3939209</td></tr><tr><td>211005</td><td>SINA</td><td>SAN ANTONIO DE PUTINA</td><td>PUNO</td><td>-14.49673176</td><td>-69.27938843</td></tr><tr><td>110107</td><td>PUEBLO NUEVO</td><td>ICA</td><td>ICA</td><td>-14.12417283</td><td>-75.6998427</td></tr><tr><td>60502</td><td>CHILETE</td><td>CONTUMAZA</td><td>CAJAMARCA</td><td>-7.25189937</td><td>-78.82603505</td></tr><tr><td>210303</td><td>AYAPATA</td><td>CARABAYA</td><td>PUNO</td><td>-13.74025263</td><td>-70.32287598</td></tr><tr><td>160505</td><td>MAQUIA</td><td>REQUENA</td><td>LORETO</td><td>-5.768595139</td><td>-74.59875107</td></tr><tr><td>51012</td><td>VILCANCHOS</td><td>VICTOR FAJARDO</td><td>AYACUCHO</td><td>-13.61378447</td><td>-74.51910718</td></tr><tr><td>90603</td><td>CORDOVA</td><td>HUAYTARA</td><td>HUANCAVELICA</td><td>-13.99893665</td><td>-75.13951492</td></tr><tr><td>21907</td><td>QUICHES</td><td>SIHUAS</td><td>ANCASH</td><td>-8.392878723</td><td>-77.51174774</td></tr><tr><td>10201</td><td>BAGUA</td><td>BAGUA</td><td>AMAZONAS</td><td>-5.626817431</td><td>-78.49704306</td></tr><tr><td>220802</td><td>AWAJUN</td><td>RIOJA</td><td>SAN MARTÍN</td><td>-5.799156401</td><td>-77.39257219</td></tr><tr><td>160101</td><td>IQUITOS</td><td>MAYNAS</td><td>LORETO</td><td>-3.766208119</td><td>-73.35514662</td></tr><tr><td>80309</td><td>ZURITE</td><td>ANTA</td><td>CUSCO</td><td>-13.47397505</td><td>-72.24211884</td></tr><tr><td>130602</td><td>AGALLPAMPA</td><td>OTUZCO</td><td>LA LIBERTAD</td><td>-7.966463357</td><td>-78.50424528</td></tr><tr><td>50902</td><td>BELEN</td><td>SUCRE</td><td>AYACUCHO</td><td>-13.80972004</td><td>-73.75798798</td></tr><tr><td>100404</td><td>PINRA</td><td>HUACAYBAMBA</td><td>HUÁNUCO</td><td>-8.938013395</td><td>-77.03470612</td></tr><tr><td>120414</td><td>LLOCLLAPAMPA</td><td>JAUJA</td><td>JUNÍN</td><td>-11.81894875</td><td>-75.62619019</td></tr><tr><td>220808</td><td>YORONGOS</td><td>RIOJA</td><td>SAN MARTÍN</td><td>-6.13997736</td><td>-77.13986053</td></tr><tr><td>90507</td><td>PAUCARBAMBA</td><td>CHURCAMPA</td><td>HUANCAVELICA</td><td>-12.55235806</td><td>-74.53391266</td></tr><tr><td>130805</td><td>HUAYLILLAS</td><td>PATAZ</td><td>LA LIBERTAD</td><td>-8.208880067</td><td>-77.31709099</td></tr><tr><td>30201</td><td>ANDAHUAYLAS</td><td>ANDAHUAYLAS</td><td>APURÍMAC</td><td>-13.69647952</td><td>-73.39354388</td></tr><tr><td>200501</td><td>PAITA</td><td>PAITA</td><td>PIURA</td><td>-5.18926363</td><td>-81.12922363</td></tr><tr><td>211210</td><td>SAN PEDRO DE PUTINA PUNCO</td><td>SANDIA</td><td>PUNO</td><td>-14.06351876</td><td>-68.97389412</td></tr><tr><td>230405</td><td>SITAJARA</td><td>TARATA</td><td>TACNA</td><td>-17.38730621</td><td>-70.12337494</td></tr><tr><td>200409</td><td>SANTO DOMINGO</td><td>MORROPON</td><td>PIURA</td><td>-5.019978364</td><td>-79.86866506</td></tr><tr><td>20304</td><td>CHINGAS</td><td>ANTONIO RAYMONDI</td><td>ANCASH</td><td>-9.125803581</td><td>-77.01192122</td></tr><tr><td>60703</td><td>HUALGAYOC</td><td>HUALGAYOC</td><td>CAJAMARCA</td><td>-6.745455041</td><td>-78.60736937</td></tr><tr><td>10105</td><td>CHILIQUIN</td><td>CHACHAPOYAS</td><td>AMAZONAS</td><td>-6.073469957</td><td>-77.77877299</td></tr><tr><td>140117</td><td>PATAPO</td><td>CHICLAYO</td><td>LAMBAYEQUE</td><td>-6.7388207</td><td>-79.60375155</td></tr><tr><td>130502</td><td>CALAMARCA</td><td>JULCAN</td><td>LA LIBERTAD</td><td>-8.139234861</td><td>-78.38065592</td></tr><tr><td>120605</td><td>PAMPA HERMOSA</td><td>SATIPO</td><td>JUNÍN</td><td>-11.36579151</td><td>-74.75769653</td></tr><tr><td>230205</td><td>HUANUARA</td><td>CANDARAVE</td><td>TACNA</td><td>-17.32675044</td><td>-70.33855693</td></tr><tr><td>150124</td><td>PUCUSANA</td><td>LIMA</td><td>LIMA</td><td>-12.462957</td><td>-76.78644791</td></tr><tr><td>40108</td><td>LA JOYA</td><td>AREQUIPA</td><td>AREQUIPA</td><td>-16.53717436</td><td>-71.8419184</td></tr><tr><td>90409</td><td>MOLLEPAMPA</td><td>CASTROVIRREYNA</td><td>HUANCAVELICA</td><td>-13.30550134</td><td>-75.4202652</td></tr><tr><td>80909</td><td>VILCABAMBA</td><td>LA CONVENCION</td><td>CUSCO</td><td>-13.05131425</td><td>-72.96329699</td></tr><tr><td>90303</td><td>CALLANMARCA</td><td>ANGARAES</td><td>HUANCAVELICA</td><td>-12.88983212</td><td>-74.6311203</td></tr><tr><td>50104</td><td>CARMEN ALTO</td><td>HUAMANGA</td><td>AYACUCHO</td><td>-13.17635632</td><td>-74.22559357</td></tr><tr><td>90412</td><td>TANTARA</td><td>CASTROVIRREYNA</td><td>HUANCAVELICA</td><td>-13.07424068</td><td>-75.64550018</td></tr><tr><td>60104</td><td>COSPAN</td><td>CAJAMARCA</td><td>CAJAMARCA</td><td>-7.438993772</td><td>-78.50772858</td></tr><tr><td>160302</td><td>PARINARI</td><td>LORETO</td><td>LORETO</td><td>-4.624797412</td><td>-74.3884855</td></tr><tr><td>90703</td><td>ACRAQUIA</td><td>TAYACAJA</td><td>HUANCAVELICA</td><td>-12.39889921</td><td>-74.9216908</td></tr><tr><td>61003</td><td>EDUARDO VILLANUEVA</td><td>SAN MARCOS</td><td>CAJAMARCA</td><td>-7.455127001</td><td>-78.14942837</td></tr><tr><td>100201</td><td>AMBO</td><td>AMBO</td><td>HUÁNUCO</td><td>-10.12925885</td><td>-76.19010389</td></tr><tr><td>81106</td><td>KOSÑIPATA</td><td>PAUCARTAMBO</td><td>CUSCO</td><td>-12.98929071</td><td>-71.39337285</td></tr><tr><td>200804</td><td>CRISTO NOS VALGA</td><td>SECHURA</td><td>PIURA</td><td>-5.495821476</td><td>-80.73971748</td></tr><tr><td>20803</td><td>COMANDANTE NOEL</td><td>CASMA</td><td>ANCASH</td><td>-9.43714538</td><td>-78.37110021</td></tr><tr><td>30601</td><td>CHINCHEROS</td><td>CHINCHEROS</td><td>APURÍMAC</td><td>-13.53194631</td><td>-73.7379837</td></tr><tr><td>60601</td><td>CUTERVO</td><td>CUTERVO</td><td>CAJAMARCA</td><td>-6.385787584</td><td>-78.84399274</td></tr><tr><td>61309</td><td>SEXI</td><td>SANTA CRUZ</td><td>CAJAMARCA</td><td>-6.563547532</td><td>-79.02312342</td></tr><tr><td>150203</td><td>PATIVILCA</td><td>BARRANCA</td><td>LIMA</td><td>-10.70265102</td><td>-77.77874088</td></tr><tr><td>21202</td><td>HUALLANCA</td><td>HUAYLAS</td><td>ANCASH</td><td>-8.773782492</td><td>-77.9255085</td></tr><tr><td>210305</td><td>CORANI</td><td>CARABAYA</td><td>PUNO</td><td>-13.88768355</td><td>-70.59680176</td></tr><tr><td>21905</td><td>CHINGALPO</td><td>SIHUAS</td><td>ANCASH</td><td>-8.3394804</td><td>-77.59941101</td></tr><tr><td>220206</td><td>SAN RAFAEL</td><td>BELLAVISTA</td><td>SAN MARTÍN</td><td>-7.019777565</td><td>-76.47852417</td></tr><tr><td>90306</td><td>CONGALLA</td><td>ANGARAES</td><td>HUANCAVELICA</td><td>-12.95710979</td><td>-74.54981052</td></tr><tr><td>80802</td><td>CONDOROMA</td><td>ESPINAR</td><td>CUSCO</td><td>-15.29105616</td><td>-71.14241982</td></tr><tr><td>140103</td><td>ETEN</td><td>CHICLAYO</td><td>LAMBAYEQUE</td><td>-6.90503033</td><td>-79.84975815</td></tr><tr><td>20512</td><td>MANGAS</td><td>BOLOGNESI</td><td>ANCASH</td><td>-10.36010933</td><td>-77.10990767</td></tr><tr><td>60808</td><td>PUCARA</td><td>JAEN</td><td>CAJAMARCA</td><td>-6.038758755</td><td>-79.11485726</td></tr><tr><td>210215</td><td>TIRAPATA</td><td>AZANGARO</td><td>PUNO</td><td>-14.95919156</td><td>-70.37532043</td></tr><tr><td>30401</td><td>CHALHUANCA</td><td>AYMARAES</td><td>APURÍMAC</td><td>-14.29855429</td><td>-73.23634286</td></tr><tr><td>60410</td><td>LAJAS</td><td>CHOTA</td><td>CAJAMARCA</td><td>-6.546735846</td><td>-78.73362758</td></tr><tr><td>150505</td><td>CHILCA</td><td>CAÑETE</td><td>LIMA</td><td>-12.50222713</td><td>-76.74290227</td></tr><tr><td>130403</td><td>PUEBLO NUEVO</td><td>CHEPEN</td><td>LA LIBERTAD</td><td>-7.205603361</td><td>-79.49537277</td></tr><tr><td>210104</td><td>ATUNCOLLA</td><td>PUNO</td><td>PUNO</td><td>-15.67894003</td><td>-70.14174143</td></tr><tr><td>90207</td><td>POMACOCHA</td><td>ACOBAMBA</td><td>HUANCAVELICA</td><td>-12.85862596</td><td>-74.52952685</td></tr><tr><td>40126</td><td>YANAHUARA</td><td>AREQUIPA</td><td>AREQUIPA</td><td>-16.39525986</td><td>-71.55413055</td></tr><tr><td>220701</td><td>PICOTA</td><td>PICOTA</td><td>SAN MARTÍN</td><td>-6.922444815</td><td>-76.32533334</td></tr><tr><td>200404</td><td>LA MATANZA</td><td>MORROPON</td><td>PIURA</td><td>-5.215334155</td><td>-80.1006331</td></tr><tr><td>40501</td><td>CHIVAY</td><td>CAYLLOMA</td><td>AREQUIPA</td><td>-15.6303872</td><td>-71.58992259</td></tr><tr><td>220907</td><td>HUIMBAYOC</td><td>SAN MARTÍN</td><td>SAN MARTÍN</td><td>-6.425174356</td><td>-75.77823257</td></tr><tr><td>81103</td><td>CHALLABAMBA</td><td>PAUCARTAMBO</td><td>CUSCO</td><td>-13.23010794</td><td>-71.63665517</td></tr><tr><td>120209</td><td>MARISCAL CASTILLA</td><td>CONCEPCION</td><td>JUNÍN</td><td>-11.61606979</td><td>-75.09417725</td></tr><tr><td>60411</td><td>LLAMA</td><td>CHOTA</td><td>CAJAMARCA</td><td>-6.554875374</td><td>-79.14549561</td></tr><tr><td>100205</td><td>HUACAR</td><td>AMBO</td><td>HUÁNUCO</td><td>-10.17757064</td><td>-76.24732971</td></tr><tr><td>120117</td><td>HUALHUAS</td><td>HUANCAYO</td><td>JUNÍN</td><td>-11.96898603</td><td>-75.25255203</td></tr><tr><td>120608</td><td>RIO TAMBO</td><td>SATIPO</td><td>JUNÍN</td><td>-11.14593813</td><td>-73.99343142</td></tr><tr><td>60107</td><td>LLACANORA</td><td>CAJAMARCA</td><td>CAJAMARCA</td><td>-7.193721839</td><td>-78.43672289</td></tr><tr><td>100606</td><td>MARIANO DAMASO BERAUN</td><td>LEONCIO PRADO</td><td>HUÁNUCO</td><td>-9.355823612</td><td>-75.95340652</td></tr><tr><td>50505</td><td>CHUNGUI</td><td>LA MAR</td><td>AYACUCHO</td><td>-13.18605518</td><td>-73.51942062</td></tr><tr><td>150514</td><td>SAN LUIS</td><td>CAÑETE</td><td>LIMA</td><td>-13.0436458</td><td>-76.42150029</td></tr><tr><td>21010</td><td>PAUCAS</td><td>HUARI</td><td>ANCASH</td><td>-9.151531724</td><td>-76.90886778</td></tr><tr><td>100505</td><td>JIRCAN</td><td>HUAMALIES</td><td>HUÁNUCO</td><td>-9.250411314</td><td>-76.71608196</td></tr><tr><td>60902</td><td>CHIRINOS</td><td>SAN IGNACIO</td><td>CAJAMARCA</td><td>-5.314303875</td><td>-78.88710954</td></tr><tr><td>60413</td><td>PACCHA</td><td>CHOTA</td><td>CAJAMARCA</td><td>-6.525083542</td><td>-78.39794769</td></tr><tr><td>230108</td><td>POCOLLAY</td><td>TACNA</td><td>TACNA</td><td>-17.98760382</td><td>-70.21348063</td></tr><tr><td>50509</td><td>SAMUGARI</td><td>LA MAR</td><td>AYACUCHO</td><td>-12.79381847</td><td>-73.65138435</td></tr><tr><td>80905</td><td>OCOBAMBA</td><td>LA CONVENCION</td><td>CUSCO</td><td>-12.8099054</td><td>-72.42137215</td></tr><tr><td>150810</td><td>SANTA MARIA</td><td>HUAURA</td><td>LIMA</td><td>-11.08565267</td><td>-77.56754303</td></tr><tr><td>120424</td><td>PANCAN</td><td>JAUJA</td><td>JUNÍN</td><td>-11.75588632</td><td>-75.49206543</td></tr><tr><td>21902</td><td>ACOBAMBA</td><td>SIHUAS</td><td>ANCASH</td><td>-8.320329984</td><td>-77.57542928</td></tr><tr><td>50708</td><td>UPAHUACHO</td><td>PARINACOCHAS</td><td>AYACUCHO</td><td>-14.87059053</td><td>-73.44638062</td></tr><tr><td>151007</td><td>CARANIA</td><td>YAUYOS</td><td>LIMA</td><td>-12.34438896</td><td>-75.87068176</td></tr><tr><td>110111</td><td>SANTIAGO</td><td>ICA</td><td>ICA</td><td>-14.22551034</td><td>-75.68864588</td></tr><tr><td>81301</td><td>URUBAMBA</td><td>URUBAMBA</td><td>CUSCO</td><td>-13.283063</td><td>-72.144278</td></tr><tr><td>61302</td><td>ANDABAMBA</td><td>SANTA CRUZ</td><td>CAJAMARCA</td><td>-6.662754854</td><td>-78.81275876</td></tr><tr><td>120213</td><td>ORCOTUNA</td><td>CONCEPCION</td><td>JUNÍN</td><td>-11.96177912</td><td>-75.31416321</td></tr><tr><td>150713</td><td>MARIATANA</td><td>HUAROCHIRI</td><td>LIMA</td><td>-12.23719215</td><td>-76.3258667</td></tr><tr><td>40704</td><td>ISLAY</td><td>ISLAY</td><td>AREQUIPA</td><td>-16.99984741</td><td>-72.09805298</td></tr><tr><td>120709</td><td>TAPO</td><td>TARMA</td><td>JUNÍN</td><td>-11.40831463</td><td>-75.55045905</td></tr><tr><td>110305</td><td>VISTA ALEGRE</td><td>NAZCA</td><td>ICA</td><td>-14.89630731</td><td>-74.93950907</td></tr><tr><td>130812</td><td>TAURIJA</td><td>PATAZ</td><td>LA LIBERTAD</td><td>-8.285010338</td><td>-77.42380778</td></tr><tr><td>150138</td><td>SANTA MARIA DEL MAR</td><td>LIMA</td><td>LIMA</td><td>-12.40703106</td><td>-76.77371597</td></tr><tr><td>150802</td><td>AMBAR</td><td>HUAURA</td><td>LIMA</td><td>-10.75636292</td><td>-77.2719574</td></tr><tr><td>50909</td><td>SAN SALVADOR DE QUIJE</td><td>SUCRE</td><td>AYACUCHO</td><td>-13.9705286</td><td>-73.73140717</td></tr><tr><td>220202</td><td>ALTO BIAVO</td><td>BELLAVISTA</td><td>SAN MARTÍN</td><td>-7.49287653</td><td>-76.38499146</td></tr><tr><td>250202</td><td>SEPAHUA</td><td>ATALAYA</td><td>UCAYALI</td><td>-11.12151647</td><td>-73.05612659</td></tr><tr><td>80403</td><td>LAMAY</td><td>CALCA</td><td>CUSCO</td><td>-13.34405216</td><td>-71.9015859</td></tr><tr><td>80911</td><td>INKAWASI</td><td>LA CONVENCION</td><td>CUSCO</td><td>-13.28527451</td><td>-73.29410553</td></tr><tr><td>51003</td><td>APONGO</td><td>VICTOR FAJARDO</td><td>AYACUCHO</td><td>-14.01485634</td><td>-73.93431091</td></tr><tr><td>131203</td><td>GUADALUPITO</td><td>VIRU</td><td>LA LIBERTAD</td><td>-8.809240341</td><td>-78.64125443</td></tr><tr><td>200104</td><td>CASTILLA</td><td>PIURA</td><td>PIURA</td><td>-5.11818924</td><td>-80.57196655</td></tr><tr><td>120805</td><td>MOROCOCHA</td><td>YAULI</td><td>JUNÍN</td><td>-11.59547833</td><td>-76.09701756</td></tr><tr><td>40509</td><td>ICHUPAMPA</td><td>CAYLLOMA</td><td>AREQUIPA</td><td>-15.64698855</td><td>-71.69337209</td></tr><tr><td>20907</td><td>YUPAN</td><td>CORONGO</td><td>ANCASH</td><td>-8.615263939</td><td>-77.96617889</td></tr><tr><td>150117</td><td>LOS OLIVOS</td><td>LIMA</td><td>LIMA</td><td>-11.98293877</td><td>-77.06958008</td></tr><tr><td>120106</td><td>CHICCHE</td><td>HUANCAYO</td><td>JUNÍN</td><td>-12.30169153</td><td>-75.32032394</td></tr><tr><td>150610</td><td>SANTA CRUZ DE ANDAMARCA</td><td>HUARAL</td><td>LIMA</td><td>-11.16776609</td><td>-76.62911987</td></tr><tr><td>50613</td><td>OTOCA</td><td>LUCANAS</td><td>AYACUCHO</td><td>-14.51438745</td><td>-74.69782511</td></tr><tr><td>61111</td><td>SAN SILVESTRE DE COCHAN</td><td>SAN MIGUEL</td><td>CAJAMARCA</td><td>-6.969765186</td><td>-78.77559771</td></tr><tr><td>90510</td><td>PACHAMARCA</td><td>CHURCAMPA</td><td>HUANCAVELICA</td><td>-12.51451921</td><td>-74.51956558</td></tr><tr><td>130705</td><td>SAN JOSE</td><td>PACASMAYO</td><td>LA LIBERTAD</td><td>-7.344844038</td><td>-79.43516575</td></tr><tr><td>180106</td><td>TORATA</td><td>MARISCAL NIETO</td><td>MOQUEGUA</td><td>-17.06535695</td><td>-70.80950962</td></tr><tr><td>110114</td><td>YAUCA DEL ROSARIO</td><td>ICA</td><td>ICA</td><td>-14.07916737</td><td>-75.43997955</td></tr><tr><td>151004</td><td>AYAVIRI</td><td>YAUYOS</td><td>LIMA</td><td>-12.38243294</td><td>-76.13722992</td></tr><tr><td>160603</td><td>PADRE MARQUEZ</td><td>UCAYALI</td><td>LORETO</td><td>-7.877267933</td><td>-74.87630615</td></tr><tr><td>50403</td><td>HUAMANGUILLA</td><td>HUANTA</td><td>AYACUCHO</td><td>-13.01721752</td><td>-74.15668583</td></tr><tr><td>80408</td><td>YANATILE</td><td>CALCA</td><td>CUSCO</td><td>-12.73809109</td><td>-72.199705</td></tr><tr><td>21707</td><td>PAMPAS CHICO</td><td>RECUAY</td><td>ANCASH</td><td>-10.14213753</td><td>-77.36914291</td></tr><tr><td>61112</td><td>TONGOD</td><td>SAN MIGUEL</td><td>CAJAMARCA</td><td>-6.743936857</td><td>-78.82565053</td></tr><tr><td>60612</td><td>SANTO DOMINGO DE LA CAPILLA</td><td>CUTERVO</td><td>CAJAMARCA</td><td>-6.237812621</td><td>-78.85394124</td></tr><tr><td>131104</td><td>SAYAPULLO</td><td>GRAN CHIMU</td><td>LA LIBERTAD</td><td>-7.580179294</td><td>-78.49298731</td></tr><tr><td>80506</td><td>PAMPAMARCA</td><td>CANAS</td><td>CUSCO</td><td>-14.12929167</td><td>-71.44502422</td></tr><tr><td>120707</td><td>PALCAMAYO</td><td>TARMA</td><td>JUNÍN</td><td>-11.29682854</td><td>-75.77696337</td></tr><tr><td>150729</td><td>SANTIAGO DE ANCHUCAYA</td><td>HUAROCHIRI</td><td>LIMA</td><td>-12.09546089</td><td>-76.23042297</td></tr><tr><td>210112</td><td>PLATERIA</td><td>PUNO</td><td>PUNO</td><td>-15.93117805</td><td>-69.8185185</td></tr><tr><td>60610</td><td>SAN LUIS DE LUCMA</td><td>CUTERVO</td><td>CAJAMARCA</td><td>-6.273770173</td><td>-78.60352834</td></tr><tr><td>60311</td><td>UTCO</td><td>CELENDIN</td><td>CAJAMARCA</td><td>-6.871576854</td><td>-78.08981105</td></tr><tr><td>40702</td><td>COCACHACRA</td><td>ISLAY</td><td>AREQUIPA</td><td>-17.05561161</td><td>-71.71902084</td></tr><tr><td>220404</td><td>PISCOYACU</td><td>HUALLAGA</td><td>SAN MARTÍN</td><td>-6.976921201</td><td>-76.76655769</td></tr><tr><td>150137</td><td>SANTA ANITA</td><td>LIMA</td><td>LIMA</td><td>-12.04350853</td><td>-76.98526764</td></tr><tr><td>230104</td><td>CIUDAD NUEVA</td><td>TACNA</td><td>TACNA</td><td>-17.97513771</td><td>-70.23852921</td></tr><tr><td>101001</td><td>JESUS</td><td>LAURICOCHA</td><td>HUÁNUCO</td><td>-10.07205137</td><td>-76.6623586</td></tr><tr><td>110502</td><td>HUANCANO</td><td>PISCO</td><td>ICA</td><td>-13.59972239</td><td>-75.60849762</td></tr><tr><td>60101</td><td>CAJAMARCA</td><td>CAJAMARCA</td><td>CAJAMARCA</td><td>-7.132993802</td><td>-78.53947409</td></tr><tr><td>51108</td><td>VISCHONGO</td><td>VILCAS HUAMAN</td><td>AYACUCHO</td><td>-13.60587815</td><td>-73.99228232</td></tr><tr><td>30407</td><td>HUAYLLO</td><td>AYMARAES</td><td>APURÍMAC</td><td>-14.10728002</td><td>-73.25088692</td></tr><tr><td>90201</td><td>ACOBAMBA</td><td>ACOBAMBA</td><td>HUANCAVELICA</td><td>-12.83048431</td><td>-74.57419037</td></tr><tr><td>110506</td><td>SAN ANDRES</td><td>PISCO</td><td>ICA</td><td>-13.74013774</td><td>-76.175362</td></tr><tr><td>150119</td><td>LURIN</td><td>LIMA</td><td>LIMA</td><td>-12.27349079</td><td>-76.84958172</td></tr><tr><td>220201</td><td>BELLAVISTA</td><td>BELLAVISTA</td><td>SAN MARTÍN</td><td>-7.022615245</td><td>-76.59093059</td></tr><tr><td>21508</td><td>PALLASCA</td><td>PALLASCA</td><td>ANCASH</td><td>-8.294633627</td><td>-78.02538586</td></tr><tr><td>21809</td><td>NUEVO CHIMBOTE</td><td>SANTA</td><td>ANCASH</td><td>-9.131424308</td><td>-78.52632523</td></tr><tr><td>131005</td><td>MOLLEPATA</td><td>SANTIAGO DE CHUCO</td><td>LA LIBERTAD</td><td>-8.171290398</td><td>-77.95321655</td></tr><tr><td>30219</td><td>KAQUIABAMBA</td><td>ANDAHUAYLAS</td><td>APURÍMAC</td><td>-13.54214859</td><td>-73.28639221</td></tr><tr><td>50111</td><td>SANTIAGO DE PISCHA</td><td>HUAMANGA</td><td>AYACUCHO</td><td>-13.05200895</td><td>-74.34718323</td></tr><tr><td>50105</td><td>CHIARA</td><td>HUAMANGA</td><td>AYACUCHO</td><td>-13.43388128</td><td>-74.19892883</td></tr><tr><td>80607</td><td>SAN PEDRO</td><td>CANCHIS</td><td>CUSCO</td><td>-14.18421865</td><td>-71.33965874</td></tr><tr><td>160202</td><td>BALSAPUERTO</td><td>ALTO AMAZONAS</td><td>LORETO</td><td>-5.743264675</td><td>-76.54461956</td></tr><tr><td>10609</td><td>OMIA</td><td>RODRIGUEZ DE MENDOZA</td><td>AMAZONAS</td><td>-6.445689551</td><td>-77.3521052</td></tr><tr><td>60109</td><td>MAGDALENA</td><td>CAJAMARCA</td><td>CAJAMARCA</td><td>-7.249719322</td><td>-78.63692665</td></tr><tr><td>210904</td><td>TILALI</td><td>MOHO</td><td>PUNO</td><td>-15.50954216</td><td>-69.35651849</td></tr><tr><td>220601</td><td>JUANJUI</td><td>MARISCAL CACERES</td><td>SAN MARTÍN</td><td>-7.179712631</td><td>-76.73376578</td></tr><tr><td>10503</td><td>COCABAMBA</td><td>LUYA</td><td>AMAZONAS</td><td>-6.634172153</td><td>-78.01167755</td></tr><tr><td>10116</td><td>OLLEROS</td><td>CHACHAPOYAS</td><td>AMAZONAS</td><td>-6.020827293</td><td>-77.68523407</td></tr><tr><td>151015</td><td>HUANGASCAR</td><td>YAUYOS</td><td>LIMA</td><td>-12.89960384</td><td>-75.83113098</td></tr><tr><td>80804</td><td>OCORURO</td><td>ESPINAR</td><td>CUSCO</td><td>-14.94407368</td><td>-71.20650482</td></tr><tr><td>81209</td><td>MARCAPATA</td><td>QUISPICANCHI</td><td>CUSCO</td><td>-13.52977276</td><td>-70.92548752</td></tr><tr><td>30217</td><td>TUMAY HUARACA</td><td>ANDAHUAYLAS</td><td>APURÍMAC</td><td>-14.05301857</td><td>-73.56603241</td></tr><tr><td>30706</td><td>MICAELA BASTIDAS</td><td>GRAU</td><td>APURÍMAC</td><td>-14.11522102</td><td>-72.61440277</td></tr><tr><td>110301</td><td>NAZCA</td><td>NAZCA</td><td>ICA</td><td>-14.82627613</td><td>-74.93761097</td></tr><tr><td>90301</td><td>LIRCAY</td><td>ANGARAES</td><td>HUANCAVELICA</td><td>-13.08130347</td><td>-74.71265132</td></tr><tr><td>110202</td><td>ALTO LARAN</td><td>CHINCHA</td><td>ICA</td><td>-13.45313553</td><td>-76.10175323</td></tr><tr><td>80306</td><td>LIMATAMBO</td><td>ANTA</td><td>CUSCO</td><td>-13.47868712</td><td>-72.44631195</td></tr><tr><td>130804</td><td>HUANCASPATA</td><td>PATAZ</td><td>LA LIBERTAD</td><td>-8.459953444</td><td>-77.26396724</td></tr><tr><td>21103</td><td>CULEBRAS</td><td>HUARMEY</td><td>ANCASH</td><td>-9.94454689</td><td>-78.21295929</td></tr><tr><td>101101</td><td>CHAVINILLO</td><td>YAROWILCA</td><td>HUÁNUCO</td><td>-9.859212786</td><td>-76.59799981</td></tr><tr><td>240302</td><td>AGUAS VERDES</td><td>ZARUMILLA</td><td>TUMBES</td><td>-3.50833199</td><td>-80.24496765</td></tr><tr><td>50610</td><td>LLAUTA</td><td>LUCANAS</td><td>AYACUCHO</td><td>-14.2436676</td><td>-74.92008209</td></tr><tr><td>150902</td><td>ANDAJES</td><td>OYON</td><td>LIMA</td><td>-10.80468249</td><td>-76.88586807</td></tr><tr><td>130907</td><td>SARIN</td><td>SANCHEZ CARRION</td><td>LA LIBERTAD</td><td>-7.937389493</td><td>-77.92457199</td></tr><tr><td>40402</td><td>ANDAGUA</td><td>CASTILLA</td><td>AREQUIPA</td><td>-15.49894905</td><td>-72.35562134</td></tr><tr><td>211306</td><td>TINICACHI</td><td>YUNGUYO</td><td>PUNO</td><td>-16.1985054</td><td>-68.96205139</td></tr><tr><td>30712</td><td>VILCABAMBA</td><td>GRAU</td><td>APURÍMAC</td><td>-14.07782555</td><td>-72.62507629</td></tr><tr><td>21806</td><td>NEPEÑA</td><td>SANTA</td><td>ANCASH</td><td>-9.182925311</td><td>-78.33552343</td></tr><tr><td>210204</td><td>ASILLO</td><td>AZANGARO</td><td>PUNO</td><td>-14.75220927</td><td>-70.35189738</td></tr><tr><td>10305</td><td>CUISPES</td><td>BONGARA</td><td>AMAZONAS</td><td>-5.914101887</td><td>-77.93677979</td></tr><tr><td>130610</td><td>PARANDAY</td><td>OTUZCO</td><td>LA LIBERTAD</td><td>-7.886456649</td><td>-78.71057765</td></tr><tr><td>150702</td><td>ANTIOQUIA</td><td>HUAROCHIRI</td><td>LIMA</td><td>-12.04437542</td><td>-76.62030029</td></tr><tr><td>120429</td><td>SAN PEDRO DE CHUNAN</td><td>JAUJA</td><td>JUNÍN</td><td>-11.7247235</td><td>-75.48546092</td></tr><tr><td>120136</td><td>VIQUES</td><td>HUANCAYO</td><td>JUNÍN</td><td>-12.1649278</td><td>-75.23249054</td></tr><tr><td>240104</td><td>PAMPAS DE HOSPITAL</td><td>TUMBES</td><td>TUMBES</td><td>-3.709653689</td><td>-80.42817688</td></tr><tr><td>10605</td><td>LIMABAMBA</td><td>RODRIGUEZ DE MENDOZA</td><td>AMAZONAS</td><td>-6.496166945</td><td>-77.54857635</td></tr><tr><td>80702</td><td>CAPACMARCA</td><td>CHUMBIVILCAS</td><td>CUSCO</td><td>-14.05315447</td><td>-72.02258301</td></tr><tr><td>10612</td><td>VISTA ALEGRE</td><td>RODRIGUEZ DE MENDOZA</td><td>AMAZONAS</td><td>-6.150550842</td><td>-77.30338287</td></tr><tr><td>20905</td><td>LA PAMPA</td><td>CORONGO</td><td>ANCASH</td><td>-8.664652348</td><td>-77.89385033</td></tr><tr><td>50621</td><td>SANTA LUCIA</td><td>LUCANAS</td><td>AYACUCHO</td><td>-15.047019</td><td>-74.50344849</td></tr><tr><td>60701</td><td>BAMBAMARCA</td><td>HUALGAYOC</td><td>CAJAMARCA</td><td>-6.705860159</td><td>-78.50500103</td></tr><tr><td>150812</td><td>VEGUETA</td><td>HUAURA</td><td>LIMA</td><td>-10.97310732</td><td>-77.6303385</td></tr><tr><td>130604</td><td>CHARAT</td><td>OTUZCO</td><td>LA LIBERTAD</td><td>-7.807068793</td><td>-78.4721522</td></tr><tr><td>100104</td><td>CHURUBAMBA</td><td>HUÁNUCO</td><td>HUÁNUCO</td><td>-9.777218773</td><td>-76.19377427</td></tr><tr><td>100804</td><td>UMARI</td><td>PACHITEA</td><td>HUÁNUCO</td><td>-9.870718193</td><td>-76.0255427</td></tr><tr><td>20608</td><td>SAN MIGUEL DE ACO</td><td>CARHUAZ</td><td>ANCASH</td><td>-9.362504959</td><td>-77.54742432</td></tr><tr><td>240106</td><td>SAN JUAN DE LA VIRGEN</td><td>TUMBES</td><td>TUMBES</td><td>-3.632121146</td><td>-80.43078804</td></tr><tr><td>51006</td><td>CAYARA</td><td>VICTOR FAJARDO</td><td>AYACUCHO</td><td>-13.79555035</td><td>-73.99067688</td></tr><tr><td>10403</td><td>RIO SANTIAGO</td><td>CONDORCANQUI</td><td>AMAZONAS</td><td>-3.889146268</td><td>-77.76084137</td></tr><tr><td>60308</td><td>OXAMARCA</td><td>CELENDIN</td><td>CAJAMARCA</td><td>-7.055898094</td><td>-78.07916718</td></tr><tr><td>211302</td><td>ANAPIA</td><td>YUNGUYO</td><td>PUNO</td><td>-16.32267857</td><td>-68.85256958</td></tr><tr><td>150108</td><td>CHORRILLOS</td><td>LIMA</td><td>LIMA</td><td>-12.17442894</td><td>-77.02481842</td></tr><tr><td>250401</td><td>PURUS</td><td>PURUS</td><td>UCAYALI</td><td>-9.772644043</td><td>-70.7098465</td></tr><tr><td>10307</td><td>JAZAN</td><td>BONGARA</td><td>AMAZONAS</td><td>-5.948590922</td><td>-77.98728714</td></tr><tr><td>200114</td><td>TAMBO GRANDE</td><td>PIURA</td><td>PIURA</td><td>-4.901598444</td><td>-80.35227306</td></tr><tr><td>60112</td><td>SAN JUAN</td><td>CAJAMARCA</td><td>CAJAMARCA</td><td>-7.277516286</td><td>-78.50002755</td></tr><tr><td>50108</td><td>QUINUA</td><td>HUAMANGA</td><td>AYACUCHO</td><td>-13.06832635</td><td>-74.14218998</td></tr><tr><td>100208</td><td>TOMAY KICHWA</td><td>AMBO</td><td>HUÁNUCO</td><td>-10.07056537</td><td>-76.20315431</td></tr><tr><td>110210</td><td>SUNAMPE</td><td>CHINCHA</td><td>ICA</td><td>-13.43095452</td><td>-76.16747611</td></tr><tr><td>131002</td><td>ANGASMARCA</td><td>SANTIAGO DE CHUCO</td><td>LA LIBERTAD</td><td>-8.122242791</td><td>-78.0538123</td></tr><tr><td>40311</td><td>LOMAS</td><td>CARAVELI</td><td>AREQUIPA</td><td>-15.40094471</td><td>-74.89516068</td></tr><tr><td>40303</td><td>ATICO</td><td>CARAVELI</td><td>AREQUIPA</td><td>-16.22471237</td><td>-73.62120438</td></tr><tr><td>160801</td><td>PUTUMAYO</td><td>PUTUMAYO</td><td>LORETO</td><td>-2.449649811</td><td>-72.65561676</td></tr><tr><td>150111</td><td>EL AGUSTINO</td><td>LIMA</td><td>LIMA</td><td>-12.0434618</td><td>-76.99877167</td></tr><tr><td>150103</td><td>ATE</td><td>LIMA</td><td>LIMA</td><td>-12.02571964</td><td>-76.92420959</td></tr><tr><td>21001</td><td>HUARI</td><td>HUARI</td><td>ANCASH</td><td>-9.315368921</td><td>-77.17545295</td></tr><tr><td>150502</td><td>ASIA</td><td>CAÑETE</td><td>LIMA</td><td>-12.78118882</td><td>-76.58306998</td></tr><tr><td>10202</td><td>ARAMANGO</td><td>BAGUA</td><td>AMAZONAS</td><td>-5.436345986</td><td>-78.43607003</td></tr><tr><td>200308</td><td>SONDORILLO</td><td>HUANCABAMBA</td><td>PIURA</td><td>-5.340946198</td><td>-79.46687012</td></tr><tr><td>51103</td><td>CARHUANCA</td><td>VILCAS HUAMAN</td><td>AYACUCHO</td><td>-13.74772406</td><td>-73.79711151</td></tr><tr><td>21709</td><td>TAPACOCHA</td><td>RECUAY</td><td>ANCASH</td><td>-10.00441694</td><td>-77.57446671</td></tr><tr><td>210606</td><td>ROSASPATA</td><td>HUANCANE</td><td>PUNO</td><td>-15.2159977</td><td>-69.47526932</td></tr><tr><td>61104</td><td>CATILLUC</td><td>SAN MIGUEL</td><td>CAJAMARCA</td><td>-6.797559977</td><td>-78.76781845</td></tr><tr><td>50612</td><td>OCAÑA</td><td>LUCANAS</td><td>AYACUCHO</td><td>-14.36834955</td><td>-74.80007935</td></tr><tr><td>200503</td><td>ARENAL</td><td>PAITA</td><td>PIURA</td><td>-4.900835037</td><td>-81.02523041</td></tr><tr><td>90509</td><td>SAN PEDRO DE CORIS</td><td>CHURCAMPA</td><td>HUANCAVELICA</td><td>-12.59532642</td><td>-74.41964467</td></tr><tr><td>120419</td><td>MONOBAMBA</td><td>JAUJA</td><td>JUNÍN</td><td>-11.36067486</td><td>-75.32795715</td></tr><tr><td>200507</td><td>VICHAYAL</td><td>PAITA</td><td>PIURA</td><td>-4.864456654</td><td>-81.07183075</td></tr><tr><td>160702</td><td>CAHUAPANAS</td><td>DATEM DEL MARAÑON</td><td>LORETO</td><td>-5.344348907</td><td>-76.92145538</td></tr><tr><td>120422</td><td>PACA</td><td>JAUJA</td><td>JUNÍN</td><td>-11.6919241</td><td>-75.52502136</td></tr><tr><td>40601</td><td>CHUQUIBAMBA</td><td>CONDESUYOS</td><td>AREQUIPA</td><td>-15.83033895</td><td>-72.64692841</td></tr><tr><td>230408</td><td>TICACO</td><td>TARATA</td><td>TACNA</td><td>-17.43707689</td><td>-70.04743958</td></tr><tr><td>240101</td><td>TUMBES</td><td>TUMBES</td><td>TUMBES</td><td>-3.551926647</td><td>-80.41350664</td></tr><tr><td>250107</td><td>MANANTAY</td><td>CORONEL PORTILLO</td><td>UCAYALI</td><td>-8.439033127</td><td>-74.53781281</td></tr><tr><td>101103</td><td>CHACABAMBA</td><td>YAROWILCA</td><td>HUÁNUCO</td><td>-9.890237384</td><td>-76.61880366</td></tr><tr><td>50904</td><td>CHILCAYOC</td><td>SUCRE</td><td>AYACUCHO</td><td>-13.88271713</td><td>-73.72753143</td></tr><tr><td>120412</td><td>JULCAN</td><td>JAUJA</td><td>JUNÍN</td><td>-11.76405716</td><td>-75.43026733</td></tr><tr><td>40313</td><td>YAUCA</td><td>CARAVELI</td><td>AREQUIPA</td><td>-15.66168118</td><td>-74.52744293</td></tr><tr><td>30212</td><td>SAN ANTONIO DE CACHI</td><td>ANDAHUAYLAS</td><td>APURÍMAC</td><td>-13.79300626</td><td>-73.63239543</td></tr><tr><td>40403</td><td>AYO</td><td>CASTILLA</td><td>AREQUIPA</td><td>-15.68237495</td><td>-72.27243042</td></tr><tr><td>40515</td><td>SIBAYO</td><td>CAYLLOMA</td><td>AREQUIPA</td><td>-15.48657036</td><td>-71.4573822</td></tr><tr><td>220705</td><td>PUCACACA</td><td>PICOTA</td><td>SAN MARTÍN</td><td>-6.858854793</td><td>-76.32522619</td></tr><tr><td>81208</td><td>LUCRE</td><td>QUISPICANCHI</td><td>CUSCO</td><td>-13.61573452</td><td>-71.72674476</td></tr><tr><td>120604</td><td>MAZAMARI</td><td>SATIPO</td><td>JUNÍN</td><td>-11.31867569</td><td>-74.50976389</td></tr><tr><td>200705</td><td>LOS ORGANOS</td><td>TALARA</td><td>PIURA</td><td>-4.166741371</td><td>-81.12615128</td></tr><tr><td>51101</td><td>VILCAS HUAMAN</td><td>VILCAS HUAMAN</td><td>AYACUCHO</td><td>-13.65184426</td><td>-73.93672434</td></tr><tr><td>50604</td><td>CARMEN SALCEDO</td><td>LUCANAS</td><td>AYACUCHO</td><td>-14.38749409</td><td>-73.96214294</td></tr><tr><td>150118</td><td>LURIGANCHO</td><td>LIMA</td><td>LIMA</td><td>-11.93741035</td><td>-76.70381165</td></tr><tr><td>30210</td><td>PAMPACHIRI</td><td>ANDAHUAYLAS</td><td>APURÍMAC</td><td>-14.18707561</td><td>-73.54451752</td></tr><tr><td>21708</td><td>PARARIN</td><td>RECUAY</td><td>ANCASH</td><td>-10.04658604</td><td>-77.67504501</td></tr><tr><td>30702</td><td>CURPAHUASI</td><td>GRAU</td><td>APURÍMAC</td><td>-14.04315281</td><td>-72.63820267</td></tr><tr><td>150405</td><td>LACHAQUI</td><td>CANTA</td><td>LIMA</td><td>-11.55290222</td><td>-76.62718201</td></tr><tr><td>120120</td><td>HUASICANCHA</td><td>HUANCAYO</td><td>JUNÍN</td><td>-12.33185673</td><td>-75.28217316</td></tr><tr><td>230301</td><td>LOCUMBA</td><td>JORGE BASADRE</td><td>TACNA</td><td>-17.61682268</td><td>-70.78694985</td></tr><tr><td>130401</td><td>CHEPEN</td><td>CHEPEN</td><td>LA LIBERTAD</td><td>-7.270282355</td><td>-79.38622353</td></tr><tr><td>30101</td><td>ABANCAY</td><td>ABANCAY</td><td>APURÍMAC</td><td>-13.63519508</td><td>-72.88523379</td></tr><tr><td>81303</td><td>HUAYLLABAMBA</td><td>URUBAMBA</td><td>CUSCO</td><td>-13.34060367</td><td>-72.06556384</td></tr><tr><td>50402</td><td>AYAHUANCO</td><td>HUANTA</td><td>AYACUCHO</td><td>-12.50474429</td><td>-74.39566612</td></tr><tr><td>220509</td><td>SHANAO</td><td>LAMAS</td><td>SAN MARTÍN</td><td>-6.40060867</td><td>-76.58358903</td></tr><tr><td>200208</td><td>SAPILLICA</td><td>AYABACA</td><td>PIURA</td><td>-4.821030736</td><td>-79.98479843</td></tr><tr><td>21504</td><td>HUACASCHUQUE</td><td>PALLASCA</td><td>ANCASH</td><td>-8.298246225</td><td>-78.00176239</td></tr><tr><td>100502</td><td>ARANCAY</td><td>HUAMALIES</td><td>HUÁNUCO</td><td>-9.171587944</td><td>-76.75021362</td></tr><tr><td>150303</td><td>GORGOR</td><td>CAJATAMBO</td><td>LIMA</td><td>-10.62188435</td><td>-77.04139709</td></tr><tr><td>150703</td><td>CALLAHUANCA</td><td>HUAROCHIRI</td><td>LIMA</td><td>-11.82647896</td><td>-76.61853027</td></tr><tr><td>120104</td><td>CARHUACALLANGA</td><td>HUANCAYO</td><td>JUNÍN</td><td>-12.35455036</td><td>-75.20339203</td></tr><tr><td>20501</td><td>CHIQUIAN</td><td>BOLOGNESI</td><td>ANCASH</td><td>-10.15235678</td><td>-77.16687063</td></tr><tr><td>50508</td><td>TAMBO</td><td>LA MAR</td><td>AYACUCHO</td><td>-12.93864898</td><td>-74.00487913</td></tr><tr><td>150803</td><td>CALETA DE CARQUIN</td><td>HUAURA</td><td>LIMA</td><td>-11.08925772</td><td>-77.62208939</td></tr><tr><td>170103</td><td>LAS PIEDRAS</td><td>TAMBOPATA</td><td>MADRE DE DIOS</td><td>-12.4467183</td><td>-69.15975259</td></tr><tr><td>80901</td><td>SANTA ANA</td><td>LA CONVENCION</td><td>CUSCO</td><td>-12.85916904</td><td>-72.7090067</td></tr><tr><td>50703</td><td>CORONEL CASTAÑEDA</td><td>PARINACOCHAS</td><td>AYACUCHO</td><td>-14.77696466</td><td>-73.24024963</td></tr><tr><td>200502</td><td>AMOTAPE</td><td>PAITA</td><td>PIURA</td><td>-4.887292067</td><td>-81.00992076</td></tr><tr><td>10603</td><td>COCHAMAL</td><td>RODRIGUEZ DE MENDOZA</td><td>AMAZONAS</td><td>-6.390603185</td><td>-77.60173225</td></tr><tr><td>220807</td><td>SAN FERNANDO</td><td>RIOJA</td><td>SAN MARTÍN</td><td>-5.884983957</td><td>-77.28002167</td></tr><tr><td>150732</td><td>SURCO</td><td>HUAROCHIRI</td><td>LIMA</td><td>-11.88799604</td><td>-76.43903859</td></tr><tr><td>81002</td><td>ACCHA</td><td>PARURO</td><td>CUSCO</td><td>-13.9583594</td><td>-71.84712219</td></tr><tr><td>10705</td><td>JAMALCA</td><td>UTCUBAMBA</td><td>AMAZONAS</td><td>-5.92344042</td><td>-78.20279459</td></tr><tr><td>10402</td><td>EL CENEPA</td><td>CONDORCANQUI</td><td>AMAZONAS</td><td>-4.448961449</td><td>-78.31537476</td></tr><tr><td>50101</td><td>AYACUCHO</td><td>HUAMANGA</td><td>AYACUCHO</td><td>-13.15045977</td><td>-74.19748688</td></tr><tr><td>250101</td><td>CALLERIA</td><td>CORONEL PORTILLO</td><td>UCAYALI</td><td>-8.322755857</td><td>-74.48606664</td></tr><tr><td>61102</td><td>BOLIVAR</td><td>SAN MIGUEL</td><td>CAJAMARCA</td><td>-6.976809025</td><td>-79.17800903</td></tr><tr><td>61103</td><td>CALQUIS</td><td>SAN MIGUEL</td><td>CAJAMARCA</td><td>-6.959455872</td><td>-78.85412598</td></tr><tr><td>20205</td><td>SUCCHA</td><td>AIJA</td><td>ANCASH</td><td>-9.823254585</td><td>-77.65003204</td></tr><tr><td>110201</td><td>CHINCHA ALTA</td><td>CHINCHA</td><td>ICA</td><td>-13.41759682</td><td>-76.13259125</td></tr><tr><td>90309</td><td>JULCAMARCA</td><td>ANGARAES</td><td>HUANCAVELICA</td><td>-13.01515961</td><td>-74.44541168</td></tr><tr><td>180202</td><td>CHOJATA</td><td>GENERAL SANCHEZ CERRO</td><td>MOQUEGUA</td><td>-16.42774487</td><td>-70.72272491</td></tr><tr><td>10111</td><td>LEVANTO</td><td>CHACHAPOYAS</td><td>AMAZONAS</td><td>-6.308189869</td><td>-77.8992691</td></tr><tr><td>21301</td><td>PISCOBAMBA</td><td>MARISCAL LUZURIAGA</td><td>ANCASH</td><td>-8.870290217</td><td>-77.3614691</td></tr><tr><td>30415</td><td>TINTAY</td><td>AYMARAES</td><td>APURÍMAC</td><td>-13.90689581</td><td>-73.12446247</td></tr><tr><td>10606</td><td>LONGAR</td><td>RODRIGUEZ DE MENDOZA</td><td>AMAZONAS</td><td>-6.366242019</td><td>-77.54387179</td></tr><tr><td>51005</td><td>CANARIA</td><td>VICTOR FAJARDO</td><td>AYACUCHO</td><td>-13.96202219</td><td>-73.94275254</td></tr><tr><td>90108</td><td>IZCUCHACA</td><td>HUANCAVELICA</td><td>HUANCAVELICA</td><td>-12.49995839</td><td>-75.00560414</td></tr><tr><td>40518</td><td>TUTI</td><td>CAYLLOMA</td><td>AREQUIPA</td><td>-15.53282928</td><td>-71.54984283</td></tr><tr><td>50702</td><td>CHUMPI</td><td>PARINACOCHAS</td><td>AYACUCHO</td><td>-15.13207245</td><td>-73.76943207</td></tr><tr><td>80504</td><td>LANGUI</td><td>CANAS</td><td>CUSCO</td><td>-14.3783287</td><td>-71.32248383</td></tr><tr><td>30713</td><td>VIRUNDO</td><td>GRAU</td><td>APURÍMAC</td><td>-14.25080013</td><td>-72.68077087</td></tr><tr><td>60402</td><td>ANGUIA</td><td>CHOTA</td><td>CAJAMARCA</td><td>-6.334822416</td><td>-78.59800148</td></tr><tr><td>190102</td><td>HUACHON</td><td>PASCO</td><td>PASCO</td><td>-10.63914967</td><td>-75.84277344</td></tr><tr><td>120699</td><td>MAZAMARI-PANGOA</td><td>SATIPO</td><td>JUNÍN</td><td>-11.38693674</td><td>-74.45873084</td></tr><tr><td>40505</td><td>CAYLLOMA</td><td>CAYLLOMA</td><td>AREQUIPA</td><td>-14.96718756</td><td>-71.852506</td></tr><tr><td>80608</td><td>TINTA</td><td>CANCHIS</td><td>CUSCO</td><td>-14.14668894</td><td>-71.38959185</td></tr><tr><td>90302</td><td>ANCHONGA</td><td>ANGARAES</td><td>HUANCAVELICA</td><td>-12.87830387</td><td>-74.69988905</td></tr><tr><td>100207</td><td>SAN RAFAEL</td><td>AMBO</td><td>HUÁNUCO</td><td>-10.30658497</td><td>-76.14740684</td></tr><tr><td>160503</td><td>CAPELO</td><td>REQUENA</td><td>LORETO</td><td>-5.353833993</td><td>-74.11344401</td></tr><tr><td>80503</td><td>KUNTURKANKI</td><td>CANAS</td><td>CUSCO</td><td>-14.5332613</td><td>-71.30654144</td></tr><tr><td>50903</td><td>CHALCOS</td><td>SUCRE</td><td>AYACUCHO</td><td>-13.84781933</td><td>-73.75348663</td></tr><tr><td>40307</td><td>CHALA</td><td>CARAVELI</td><td>AREQUIPA</td><td>-15.85653162</td><td>-74.25025558</td></tr><tr><td>30603</td><td>COCHARCAS</td><td>CHINCHEROS</td><td>APURÍMAC</td><td>-13.61102581</td><td>-73.73916626</td></tr><tr><td>40807</td><td>QUECHUALLA</td><td>LA UNION</td><td>AREQUIPA</td><td>-15.27404118</td><td>-73.02204132</td></tr><tr><td>90102</td><td>ACOBAMBILLA</td><td>HUANCAVELICA</td><td>HUANCAVELICA</td><td>-12.66774559</td><td>-75.3239212</td></tr><tr><td>160706</td><td>ANDOAS</td><td>DATEM DEL MARAÑON</td><td>LORETO</td><td>-2.920539697</td><td>-76.45416133</td></tr><tr><td>10509</td><td>LUYA</td><td>LUYA</td><td>AMAZONAS</td><td>-6.163862811</td><td>-77.98015849</td></tr><tr><td>21503</td><td>CONCHUCOS</td><td>PALLASCA</td><td>ANCASH</td><td>-8.213106155</td><td>-77.67192586</td></tr><tr><td>210701</td><td>LAMPA</td><td>LAMPA</td><td>PUNO</td><td>-15.36456856</td><td>-70.37980012</td></tr><tr><td>170102</td><td>INAMBARI</td><td>TAMBOPATA</td><td>MADRE DE DIOS</td><td>-13.04527228</td><td>-70.30380031</td></tr><tr><td>21903</td><td>ALFONSO UGARTE</td><td>SIHUAS</td><td>ANCASH</td><td>-8.455080032</td><td>-77.42923737</td></tr><tr><td>81203</td><td>CAMANTI</td><td>QUISPICANCHI</td><td>CUSCO</td><td>-13.20674038</td><td>-70.64764786</td></tr><tr><td>150123</td><td>PACHACAMAC</td><td>LIMA</td><td>LIMA</td><td>-12.22877216</td><td>-76.8598175</td></tr><tr><td>131008</td><td>SITABAMBA</td><td>SANTIAGO DE CHUCO</td><td>LA LIBERTAD</td><td>-8.023310661</td><td>-77.73155212</td></tr><tr><td>180211</td><td>YUNGA</td><td>GENERAL SANCHEZ CERRO</td><td>MOQUEGUA</td><td>-16.1950531</td><td>-70.67804718</td></tr><tr><td>100604</td><td>JOSE CRESPO Y CASTILLO</td><td>LEONCIO PRADO</td><td>HUÁNUCO</td><td>-9.00498867</td><td>-76.06770192</td></tr><tr><td>80706</td><td>LLUSCO</td><td>CHUMBIVILCAS</td><td>CUSCO</td><td>-14.40881616</td><td>-72.12405604</td></tr><tr><td>21901</td><td>SIHUAS</td><td>SIHUAS</td><td>ANCASH</td><td>-8.540109673</td><td>-77.62646576</td></tr><tr><td>100507</td><td>MONZON</td><td>HUAMALIES</td><td>HUÁNUCO</td><td>-9.226767921</td><td>-76.2512381</td></tr><tr><td>200603</td><td>IGNACIO ESCUDERO</td><td>SULLANA</td><td>PIURA</td><td>-4.834612751</td><td>-80.88095016</td></tr><tr><td>10310</td><td>SHIPASBAMBA</td><td>BONGARA</td><td>AMAZONAS</td><td>-5.893305779</td><td>-78.07580566</td></tr><tr><td>140120</td><td>TUMAN</td><td>CHICLAYO</td><td>LAMBAYEQUE</td><td>-6.764205864</td><td>-79.68878174</td></tr><tr><td>130806</td><td>HUAYO</td><td>PATAZ</td><td>LA LIBERTAD</td><td>-8.011818568</td><td>-77.61003198</td></tr><tr><td>150807</td><td>LEONCIO PRADO</td><td>HUAURA</td><td>LIMA</td><td>-11.06017685</td><td>-76.92971802</td></tr><tr><td>120909</td><td>YANACANCHA</td><td>CHUPACA</td><td>JUNÍN</td><td>-12.19415538</td><td>-75.39361572</td></tr><tr><td>10206</td><td>LA PECA</td><td>BAGUA</td><td>AMAZONAS</td><td>-5.607651082</td><td>-78.43582604</td></tr><tr><td>210801</td><td>AYAVIRI</td><td>MELGAR</td><td>PUNO</td><td>-14.90382259</td><td>-70.5989309</td></tr><tr><td>120304</td><td>SAN LUIS DE SHUARO</td><td>CHANCHAMAYO</td><td>JUNÍN</td><td>-10.86385754</td><td>-75.26717486</td></tr><tr><td>80908</td><td>SANTA TERESA</td><td>LA CONVENCION</td><td>CUSCO</td><td>-13.12764796</td><td>-72.64594269</td></tr><tr><td>150901</td><td>OYON</td><td>OYON</td><td>LIMA</td><td>-10.69346476</td><td>-76.78327866</td></tr><tr><td>90608</td><td>QUERCO</td><td>HUAYTARA</td><td>HUANCAVELICA</td><td>-13.97649908</td><td>-74.97551346</td></tr><tr><td>150511</td><td>PACARAN</td><td>CAÑETE</td><td>LIMA</td><td>-12.87128282</td><td>-76.05287933</td></tr><tr><td>51004</td><td>ASQUIPATA</td><td>VICTOR FAJARDO</td><td>AYACUCHO</td><td>-14.09213305</td><td>-73.94306374</td></tr><tr><td>90407</td><td>HUACHOS</td><td>CASTROVIRREYNA</td><td>HUANCAVELICA</td><td>-13.22399378</td><td>-75.5273056</td></tr><tr><td>130105</td><td>LA ESPERANZA</td><td>TRUJILLO</td><td>LA LIBERTAD</td><td>-8.078220367</td><td>-79.04547882</td></tr><tr><td>90202</td><td>ANDABAMBA</td><td>ACOBAMBA</td><td>HUANCAVELICA</td><td>-12.68360825</td><td>-74.654422</td></tr><tr><td>130101</td><td>TRUJILLO</td><td>TRUJILLO</td><td>LA LIBERTAD</td><td>-8.132503782</td><td>-79.01237161</td></tr><tr><td>60409</td><td>HUAMBOS</td><td>CHOTA</td><td>CAJAMARCA</td><td>-6.438722079</td><td>-78.96587342</td></tr><tr><td>210402</td><td>DESAGUADERO</td><td>CHUCUITO</td><td>PUNO</td><td>-16.57069244</td><td>-69.07029572</td></tr><tr><td>50608</td><td>LARAMATE</td><td>LUCANAS</td><td>AYACUCHO</td><td>-14.28636265</td><td>-74.84278107</td></tr><tr><td>40401</td><td>APLAO</td><td>CASTILLA</td><td>AREQUIPA</td><td>-16.04793634</td><td>-72.48604813</td></tr><tr><td>120801</td><td>LA OROYA</td><td>YAULI</td><td>JUNÍN</td><td>-11.5723032</td><td>-75.90446014</td></tr><tr><td>100105</td><td>MARGOS</td><td>HUÁNUCO</td><td>HUÁNUCO</td><td>-10.01187396</td><td>-76.50946426</td></tr><tr><td>20906</td><td>YANAC</td><td>CORONGO</td><td>ANCASH</td><td>-8.617899895</td><td>-77.86361694</td></tr><tr><td>150608</td><td>PACARAOS</td><td>HUARAL</td><td>LIMA</td><td>-11.18552494</td><td>-76.64726257</td></tr><tr><td>150724</td><td>SAN PEDRO DE CASTA</td><td>HUAROCHIRI</td><td>LIMA</td><td>-11.75903702</td><td>-76.59638214</td></tr><tr><td>230107</td><td>PALCA</td><td>TACNA</td><td>TACNA</td><td>-17.68337917</td><td>-69.77510262</td></tr><tr><td>80105</td><td>SAN SEBASTIAN</td><td>CUSCO</td><td>CUSCO</td><td>-13.5376713</td><td>-71.92673747</td></tr><tr><td>20511</td><td>LA PRIMAVERA</td><td>BOLOGNESI</td><td>ANCASH</td><td>-10.30492115</td><td>-77.11059697</td></tr><tr><td>210207</td><td>JOSE DOMINGO CHOQUEHUANCA</td><td>AZANGARO</td><td>PUNO</td><td>-15.03694861</td><td>-70.33607265</td></tr><tr><td>60312</td><td>LA LIBERTAD DE PALLAN</td><td>CELENDIN</td><td>CAJAMARCA</td><td>-6.7260777</td><td>-78.27274551</td></tr><tr><td>100311</td><td>MARIAS</td><td>DOS DE MAYO</td><td>HUÁNUCO</td><td>-9.599035501</td><td>-76.56719589</td></tr><tr><td>40414</td><td>VIRACO</td><td>CASTILLA</td><td>AREQUIPA</td><td>-15.65779781</td><td>-72.52481842</td></tr><tr><td>10401</td><td>NIEVA</td><td>CONDORCANQUI</td><td>AMAZONAS</td><td>-4.715872701</td><td>-77.90502777</td></tr><tr><td>100901</td><td>PUERTO INCA</td><td>PUERTO INCA</td><td>HUÁNUCO</td><td>-9.374256134</td><td>-75.00032425</td></tr><tr><td>60405</td><td>CHIMBAN</td><td>CHOTA</td><td>CAJAMARCA</td><td>-6.289024512</td><td>-78.48083242</td></tr><tr><td>21808</td><td>SANTA</td><td>SANTA</td><td>ANCASH</td><td>-8.987973966</td><td>-78.61823755</td></tr><tr><td>50804</td><td>LAMPA</td><td>PAUCAR DEL SARA SARA</td><td>AYACUCHO</td><td>-15.22214142</td><td>-73.34530767</td></tr><tr><td>40104</td><td>CERRO COLORADO</td><td>AREQUIPA</td><td>AREQUIPA</td><td>-16.36637524</td><td>-71.59156581</td></tr><tr><td>200107</td><td>CURA MORI</td><td>PIURA</td><td>PIURA</td><td>-5.34400034</td><td>-80.66234016</td></tr><tr><td>210608</td><td>VILQUE CHICO</td><td>HUANCANE</td><td>PUNO</td><td>-15.19450707</td><td>-69.6852612</td></tr><tr><td>220401</td><td>SAPOSOA</td><td>HUALLAGA</td><td>SAN MARTÍN</td><td>-6.91633632</td><td>-76.80461953</td></tr><tr><td>150201</td><td>BARRANCA</td><td>BARRANCA</td><td>LIMA</td><td>-10.74070442</td><td>-77.74349594</td></tr><tr><td>10311</td><td>VALERA</td><td>BONGARA</td><td>AMAZONAS</td><td>-6.047410806</td><td>-77.90933482</td></tr><tr><td>150402</td><td>ARAHUAY</td><td>CANTA</td><td>LIMA</td><td>-11.62125301</td><td>-76.67041016</td></tr><tr><td>40412</td><td>UÑON</td><td>CASTILLA</td><td>AREQUIPA</td><td>-15.72852421</td><td>-72.43228912</td></tr><tr><td>100402</td><td>CANCHABAMBA</td><td>HUACAYBAMBA</td><td>HUÁNUCO</td><td>-8.880148615</td><td>-77.12042345</td></tr><tr><td>130801</td><td>TAYABAMBA</td><td>PATAZ</td><td>LA LIBERTAD</td><td>-8.268182975</td><td>-77.29759627</td></tr><tr><td>50704</td><td>PACAPAUSA</td><td>PARINACOCHAS</td><td>AYACUCHO</td><td>-14.94924259</td><td>-73.36804962</td></tr><tr><td>120432</td><td>TUNAN MARCA</td><td>JAUJA</td><td>JUNÍN</td><td>-11.73429966</td><td>-75.57807922</td></tr><tr><td>130201</td><td>ASCOPE</td><td>ASCOPE</td><td>LA LIBERTAD</td><td>-7.719317118</td><td>-79.10303025</td></tr><tr><td>120134</td><td>SICAYA</td><td>HUANCAYO</td><td>JUNÍN</td><td>-11.99824015</td><td>-75.28418308</td></tr><tr><td>120427</td><td>RICRAN</td><td>JAUJA</td><td>JUNÍN</td><td>-11.53787613</td><td>-75.53803635</td></tr><tr><td>90305</td><td>CHINCHO</td><td>ANGARAES</td><td>HUANCAVELICA</td><td>-12.98768663</td><td>-74.41838074</td></tr><tr><td>150127</td><td>PUNTA NEGRA</td><td>LIMA</td><td>LIMA</td><td>-12.36626244</td><td>-76.79473114</td></tr><tr><td>100108</td><td>SAN PEDRO DE CHAULAN</td><td>HUÁNUCO</td><td>HUÁNUCO</td><td>-10.05670071</td><td>-76.48558807</td></tr><tr><td>50908</td><td>SAN PEDRO DE LARCAY</td><td>SUCRE</td><td>AYACUCHO</td><td>-14.1697588</td><td>-73.5760498</td></tr><tr><td>10304</td><td>COROSHA</td><td>BONGARA</td><td>AMAZONAS</td><td>-5.827859436</td><td>-77.82378387</td></tr><tr><td>200701</td><td>PARIÑAS</td><td>TALARA</td><td>PIURA</td><td>-4.576011521</td><td>-81.22252437</td></tr><tr><td>110503</td><td>HUMAY</td><td>PISCO</td><td>ICA</td><td>-13.72696371</td><td>-75.92504883</td></tr><tr><td>120127</td><td>QUICHUAY</td><td>HUANCAYO</td><td>JUNÍN</td><td>-11.88471341</td><td>-75.2798996</td></tr><tr><td>200307</td><td>SONDOR</td><td>HUANCABAMBA</td><td>PIURA</td><td>-5.391553799</td><td>-79.39038086</td></tr><tr><td>40406</td><td>CHOCO</td><td>CASTILLA</td><td>AREQUIPA</td><td>-15.57688808</td><td>-72.12906647</td></tr><tr><td>100802</td><td>CHAGLLA</td><td>PACHITEA</td><td>HUÁNUCO</td><td>-9.78623422</td><td>-75.85422007</td></tr><tr><td>150107</td><td>CHACLACAYO</td><td>LIMA</td><td>LIMA</td><td>-11.9783802</td><td>-76.76434326</td></tr><tr><td>40804</td><td>HUAYNACOTAS</td><td>LA UNION</td><td>AREQUIPA</td><td>-15.12718201</td><td>-72.8103714</td></tr><tr><td>80304</td><td>CHINCHAYPUJIO</td><td>ANTA</td><td>CUSCO</td><td>-13.60174322</td><td>-72.24177933</td></tr><tr><td>200203</td><td>JILILI</td><td>AYABACA</td><td>PIURA</td><td>-4.587081909</td><td>-79.79982376</td></tr><tr><td>30701</td><td>CHUQUIBAMBILLA</td><td>GRAU</td><td>APURÍMAC</td><td>-14.10753625</td><td>-72.71675518</td></tr><tr><td>21601</td><td>POMABAMBA</td><td>POMABAMBA</td><td>ANCASH</td><td>-8.809633437</td><td>-77.46704853</td></tr><tr><td>210406</td><td>POMATA</td><td>CHUCUITO</td><td>PUNO</td><td>-16.33605911</td><td>-69.25331301</td></tr><tr><td>10513</td><td>OCUMAL</td><td>LUYA</td><td>AMAZONAS</td><td>-6.321867228</td><td>-78.19540215</td></tr><tr><td>110112</td><td>SUBTANJALLA</td><td>ICA</td><td>ICA</td><td>-14.01962798</td><td>-75.7585362</td></tr><tr><td>40115</td><td>QUEQUEÑA</td><td>AREQUIPA</td><td>AREQUIPA</td><td>-16.55432574</td><td>-71.46172333</td></tr><tr><td>210808</td><td>SANTA ROSA</td><td>MELGAR</td><td>PUNO</td><td>-14.61666247</td><td>-70.81157837</td></tr><tr><td>120205</td><td>COCHAS</td><td>CONCEPCION</td><td>JUNÍN</td><td>-11.64270926</td><td>-75.10634613</td></tr><tr><td>40519</td><td>YANQUE</td><td>CAYLLOMA</td><td>AREQUIPA</td><td>-15.67331529</td><td>-71.57888985</td></tr><tr><td>30710</td><td>SANTA ROSA</td><td>GRAU</td><td>APURÍMAC</td><td>-14.14001656</td><td>-72.65680695</td></tr><tr><td>10119</td><td>SAN ISIDRO DE MAINO</td><td>CHACHAPOYAS</td><td>AMAZONAS</td><td>-6.336919785</td><td>-77.88015747</td></tr><tr><td>100605</td><td>LUYANDO</td><td>LEONCIO PRADO</td><td>HUÁNUCO</td><td>-9.233384002</td><td>-75.9632173</td></tr><tr><td>90312</td><td>SECCLLA</td><td>ANGARAES</td><td>HUANCAVELICA</td><td>-13.0504272</td><td>-74.51747704</td></tr><tr><td>60807</td><td>POMAHUACA</td><td>JAEN</td><td>CAJAMARCA</td><td>-5.845823765</td><td>-79.15089874</td></tr><tr><td>150718</td><td>SAN DAMIAN</td><td>HUAROCHIRI</td><td>LIMA</td><td>-12.01736164</td><td>-76.3917923</td></tr><tr><td>51010</td><td>HUAYA</td><td>VICTOR FAJARDO</td><td>AYACUCHO</td><td>-13.86933002</td><td>-73.94456863</td></tr><tr><td>81204</td><td>CCARHUAYO</td><td>QUISPICANCHI</td><td>CUSCO</td><td>-13.61771134</td><td>-71.33786556</td></tr><tr><td>210114</td><td>TIQUILLACA</td><td>PUNO</td><td>PUNO</td><td>-15.76406956</td><td>-70.17563629</td></tr><tr><td>150705</td><td>CHICLA</td><td>HUAROCHIRI</td><td>LIMA</td><td>-11.68234825</td><td>-76.25665792</td></tr><tr><td>80601</td><td>SICUANI</td><td>CANCHIS</td><td>CUSCO</td><td>-14.25192421</td><td>-71.23283257</td></tr><tr><td>61001</td><td>PEDRO GALVEZ</td><td>SAN MARCOS</td><td>CAJAMARCA</td><td>-7.337856948</td><td>-78.1575009</td></tr><tr><td>60403</td><td>CHADIN</td><td>CHOTA</td><td>CAJAMARCA</td><td>-6.448125076</td><td>-78.41085663</td></tr><tr><td>22002</td><td>CASCAPARA</td><td>YUNGAY</td><td>ANCASH</td><td>-9.417253017</td><td>-77.91073608</td></tr><tr><td>10508</td><td>LONYA CHICO</td><td>LUYA</td><td>AMAZONAS</td><td>-6.212045431</td><td>-78.01874924</td></tr><tr><td>120406</td><td>CURICACA</td><td>JAUJA</td><td>JUNÍN</td><td>-11.78437576</td><td>-75.62276001</td></tr><tr><td>200504</td><td>COLAN</td><td>PAITA</td><td>PIURA</td><td>-4.915453196</td><td>-81.08880615</td></tr><tr><td>210113</td><td>SAN ANTONIO</td><td>PUNO</td><td>PUNO</td><td>-16.14031792</td><td>-70.34382629</td></tr><tr><td>40201</td><td>CAMANA</td><td>CAMANA</td><td>AREQUIPA</td><td>-16.62491417</td><td>-72.71160126</td></tr><tr><td>150141</td><td>SURQUILLO</td><td>LIMA</td><td>LIMA</td><td>-12.11381817</td><td>-77.00811005</td></tr><tr><td>21906</td><td>HUAYLLABAMBA</td><td>SIHUAS</td><td>ANCASH</td><td>-8.545394841</td><td>-77.55197233</td></tr><tr><td>210607</td><td>TARACO</td><td>HUANCANE</td><td>PUNO</td><td>-15.29493414</td><td>-69.94781312</td></tr><tr><td>220505</td><td>CUÑUMBUQUI</td><td>LAMAS</td><td>SAN MARTÍN</td><td>-6.590371052</td><td>-76.48159663</td></tr><tr><td>250301</td><td>PADRE ABAD</td><td>PADRE ABAD</td><td>UCAYALI</td><td>-8.990778732</td><td>-75.49056854</td></tr><tr><td>120810</td><td>YAULI</td><td>YAULI</td><td>JUNÍN</td><td>-11.68440342</td><td>-76.07778507</td></tr><tr><td>140311</td><td>SAN JOSE</td><td>LAMBAYEQUE</td><td>LAMBAYEQUE</td><td>-6.76741298</td><td>-79.94330851</td></tr><tr><td>150701</td><td>MATUCANA</td><td>HUAROCHIRI</td><td>LIMA</td><td>-11.85256715</td><td>-76.4053102</td></tr><tr><td>30107</td><td>PICHIRHUA</td><td>ABANCAY</td><td>APURÍMAC</td><td>-13.77488056</td><td>-73.0164554</td></tr><tr><td>40802</td><td>ALCA</td><td>LA UNION</td><td>AREQUIPA</td><td>-15.13005471</td><td>-72.7568531</td></tr><tr><td>120433</td><td>YAULI</td><td>JAUJA</td><td>JUNÍN</td><td>-11.69379258</td><td>-75.46184158</td></tr><tr><td>211001</td><td>PUTINA</td><td>SAN ANTONIO DE PUTINA</td><td>PUNO</td><td>-14.92139165</td><td>-69.86118317</td></tr><tr><td>21406</td><td>CONGAS</td><td>OCROS</td><td>ANCASH</td><td>-10.3331543</td><td>-77.44284973</td></tr><tr><td>60611</td><td>SANTA CRUZ</td><td>CUTERVO</td><td>CAJAMARCA</td><td>-6.097480456</td><td>-78.8429807</td></tr><tr><td>100501</td><td>LLATA</td><td>HUAMALIES</td><td>HUÁNUCO</td><td>-9.56038739</td><td>-76.83011815</td></tr><tr><td>21206</td><td>PAMPAROMAS</td><td>HUAYLAS</td><td>ANCASH</td><td>-9.093299389</td><td>-77.97507858</td></tr><tr><td>30103</td><td>CIRCA</td><td>ABANCAY</td><td>APURÍMAC</td><td>-13.9015851</td><td>-72.89398193</td></tr><tr><td>120133</td><td>SAPALLANGA</td><td>HUANCAYO</td><td>JUNÍN</td><td>-12.13454907</td><td>-75.17078345</td></tr><tr><td>230403</td><td>ESTIQUE</td><td>TARATA</td><td>TACNA</td><td>-17.54179955</td><td>-70.01850891</td></tr><tr><td>10114</td><td>MOLINOPAMPA</td><td>CHACHAPOYAS</td><td>AMAZONAS</td><td>-6.209237576</td><td>-77.61964162</td></tr><tr><td>150140</td><td>SANTIAGO DE SURCO</td><td>LIMA</td><td>LIMA</td><td>-12.15073967</td><td>-77.00798798</td></tr><tr><td>20506</td><td>CANIS</td><td>BOLOGNESI</td><td>ANCASH</td><td>-10.33405526</td><td>-77.18371073</td></tr><tr><td>131007</td><td>SANTA CRUZ DE CHUCA</td><td>SANTIAGO DE CHUCO</td><td>LA LIBERTAD</td><td>-8.129298687</td><td>-78.13310432</td></tr><tr><td>190207</td><td>TAPUC</td><td>DANIEL ALCIDES CARRION</td><td>PASCO</td><td>-10.41633039</td><td>-76.47061793</td></tr><tr><td>30106</td><td>LAMBRAMA</td><td>ABANCAY</td><td>APURÍMAC</td><td>-13.83214664</td><td>-72.78351288</td></tr><tr><td>150401</td><td>CANTA</td><td>CANTA</td><td>LIMA</td><td>-11.4605186</td><td>-76.61613941</td></tr><tr><td>101005</td><td>RONDOS</td><td>LAURICOCHA</td><td>HUÁNUCO</td><td>-9.959838867</td><td>-76.6784984</td></tr><tr><td>100401</td><td>HUACAYBAMBA</td><td>HUACAYBAMBA</td><td>HUÁNUCO</td><td>-9.027213573</td><td>-76.96909523</td></tr><tr><td>40117</td><td>SACHACA</td><td>AREQUIPA</td><td>AREQUIPA</td><td>-16.43042692</td><td>-71.5806249</td></tr><tr><td>30218</td><td>TURPO</td><td>ANDAHUAYLAS</td><td>APURÍMAC</td><td>-13.793854</td><td>-73.48386765</td></tr><tr><td>150512</td><td>QUILMANA</td><td>CAÑETE</td><td>LIMA</td><td>-12.96512173</td><td>-76.38497049</td></tr><tr><td>150109</td><td>CIENEGUILLA</td><td>LIMA</td><td>LIMA</td><td>-12.05494726</td><td>-76.73696232</td></tr><tr><td>90706</td><td>DANIEL HERNANDEZ</td><td>TAYACAJA</td><td>HUANCAVELICA</td><td>-12.35862117</td><td>-74.83945974</td></tr><tr><td>110504</td><td>INDEPENDENCIA</td><td>PISCO</td><td>ICA</td><td>-13.68669027</td><td>-76.02389043</td></tr><tr><td>151017</td><td>HUAÑEC</td><td>YAUYOS</td><td>LIMA</td><td>-12.29271126</td><td>-76.13691711</td></tr><tr><td>60111</td><td>NAMORA</td><td>CAJAMARCA</td><td>CAJAMARCA</td><td>-7.187294483</td><td>-78.31222449</td></tr><tr><td>80707</td><td>QUIÑOTA</td><td>CHUMBIVILCAS</td><td>CUSCO</td><td>-14.27334762</td><td>-72.12141228</td></tr><tr><td>30704</td><td>HUAYLLATI</td><td>GRAU</td><td>APURÍMAC</td><td>-13.923419</td><td>-72.48814774</td></tr><tr><td>190203</td><td>GOYLLARISQUIZGA</td><td>DANIEL ALCIDES CARRION</td><td>PASCO</td><td>-10.4737463</td><td>-76.40859985</td></tr><tr><td>50601</td><td>PUQUIO</td><td>LUCANAS</td><td>AYACUCHO</td><td>-14.69832172</td><td>-74.11862129</td></tr><tr><td>80902</td><td>ECHARATE</td><td>LA CONVENCION</td><td>CUSCO</td><td>-12.43033412</td><td>-72.8585707</td></tr><tr><td>21308</td><td>MUSGA</td><td>MARISCAL LUZURIAGA</td><td>ANCASH</td><td>-8.901290924</td><td>-77.34222707</td></tr><tr><td>50205</td><td>PARAS</td><td>CANGALLO</td><td>AYACUCHO</td><td>-13.4775722</td><td>-74.75396919</td></tr><tr><td>230401</td><td>TARATA</td><td>TARATA</td><td>TACNA</td><td>-17.47283088</td><td>-70.02388</td></tr><tr><td>211303</td><td>COPANI</td><td>YUNGUYO</td><td>PUNO</td><td>-16.39865494</td><td>-69.05252838</td></tr><tr><td>10104</td><td>CHETO</td><td>CHACHAPOYAS</td><td>AMAZONAS</td><td>-6.255577564</td><td>-77.70037842</td></tr><tr><td>20306</td><td>SAN JUAN DE RONTOY</td><td>ANTONIO RAYMONDI</td><td>ANCASH</td><td>-9.219620705</td><td>-77.04418182</td></tr><tr><td>120418</td><td>MOLINOS</td><td>JAUJA</td><td>JUNÍN</td><td>-11.57598972</td><td>-75.33297729</td></tr><tr><td>130207</td><td>SANTIAGO DE CAO</td><td>ASCOPE</td><td>LA LIBERTAD</td><td>-7.925401324</td><td>-79.22233727</td></tr><tr><td>140302</td><td>CHOCHOPE</td><td>LAMBAYEQUE</td><td>LAMBAYEQUE</td><td>-6.157775402</td><td>-79.64808655</td></tr><tr><td>130205</td><td>PAIJAN</td><td>ASCOPE</td><td>LA LIBERTAD</td><td>-7.729897793</td><td>-79.31469932</td></tr><tr><td>60304</td><td>HUASMIN</td><td>CELENDIN</td><td>CAJAMARCA</td><td>-6.82809999</td><td>-78.27765427</td></tr><tr><td>130703</td><td>JEQUETEPEQUE</td><td>PACASMAYO</td><td>LA LIBERTAD</td><td>-7.338605819</td><td>-79.5400656</td></tr><tr><td>160605</td><td>SARAYACU</td><td>UCAYALI</td><td>LORETO</td><td>-6.163691248</td><td>-74.97578267</td></tr><tr><td>21706</td><td>MARCA</td><td>RECUAY</td><td>ANCASH</td><td>-10.12050465</td><td>-77.47691454</td></tr><tr><td>120111</td><td>CHUPURO</td><td>HUANCAYO</td><td>JUNÍN</td><td>-12.161551</td><td>-75.25079536</td></tr><tr><td>160604</td><td>PAMPA HERMOSA</td><td>UCAYALI</td><td>LORETO</td><td>-7.144608212</td><td>-75.26366577</td></tr><tr><td>21003</td><td>CAJAY</td><td>HUARI</td><td>ANCASH</td><td>-9.324800264</td><td>-77.15343039</td></tr><tr><td>220506</td><td>PINTO RECODO</td><td>LAMAS</td><td>SAN MARTÍN</td><td>-6.301500651</td><td>-76.65222579</td></tr><tr><td>80106</td><td>SANTIAGO</td><td>CUSCO</td><td>CUSCO</td><td>-13.56733847</td><td>-71.98127937</td></tr><tr><td>50606</td><td>CHIPAO</td><td>LUCANAS</td><td>AYACUCHO</td><td>-14.37569904</td><td>-73.87978554</td></tr><tr><td>150721</td><td>SAN LORENZO DE QUINTI</td><td>HUAROCHIRI</td><td>LIMA</td><td>-12.14513588</td><td>-76.21260834</td></tr><tr><td>50506</td><td>LUIS CARRANZA</td><td>LA MAR</td><td>AYACUCHO</td><td>-13.22884655</td><td>-73.89427948</td></tr></tbody></table>Showing the first 1000 rows.</div>"
      ]
     },
     "metadata": {
      "application/vnd.databricks.v1+output": {
       "addedWidgets": {},
       "aggData": [],
       "aggError": "",
       "aggOverflow": false,
       "aggSchema": [],
       "aggSeriesLimitReached": false,
       "aggType": "",
       "arguments": {},
       "columnCustomDisplayInfos": {},
       "data": [
        [
         60401,
         "CHOTA",
         "CHOTA",
         "CAJAMARCA",
         -6.555281874,
         -78.64146956
        ],
        [
         10302,
         "CHISQUILLA",
         "BONGARA",
         "AMAZONAS",
         -5.89320537,
         -77.78280858
        ],
        [
         120807,
         "SANTA BARBARA DE CARHUACAYAN",
         "YAULI",
         "JUNÍN",
         -11.21381302,
         -76.42904358
        ],
        [
         140304,
         "JAYANCA",
         "LAMBAYEQUE",
         "LAMBAYEQUE",
         -6.394345534,
         -79.81451536
        ],
        [
         200601,
         "SULLANA",
         "SULLANA",
         "PIURA",
         -4.898786419,
         -80.63618267
        ],
        [
         61303,
         "CATACHE",
         "SANTA CRUZ",
         "CAJAMARCA",
         -6.735890508,
         -79.04859161
        ],
        [
         61307,
         "PULAN",
         "SANTA CRUZ",
         "CAJAMARCA",
         -6.745548677,
         -78.92685928
        ],
        [
         80102,
         "CCORCA",
         "CUSCO",
         "CUSCO",
         -13.58823633,
         -72.0648791
        ],
        [
         180207,
         "MATALAQUE",
         "GENERAL SANCHEZ CERRO",
         "MOQUEGUA",
         -16.48359776,
         -70.8257103
        ],
        [
         140105,
         "JOSE LEONARDO ORTIZ",
         "CHICLAYO",
         "LAMBAYEQUE",
         -6.736405277,
         -79.84175568
        ],
        [
         150407,
         "SANTA ROSA DE QUIVES",
         "CANTA",
         "LIMA",
         -11.69496209,
         -76.89434487
        ],
        [
         81304,
         "MACHUPICCHU",
         "URUBAMBA",
         "CUSCO",
         -13.14503057,
         -72.56898717
        ],
        [
         120121,
         "HUAYUCACHI",
         "HUANCAYO",
         "JUNÍN",
         -12.13321972,
         -75.22483635
        ],
        [
         220605,
         "PAJARILLO",
         "MARISCAL CACERES",
         "SAN MARTÍN",
         -7.194322722,
         -76.70233263
        ],
        [
         80602,
         "CHECACUPE",
         "CANCHIS",
         "CUSCO",
         -14.00506551,
         -71.46907152
        ],
        [
         40507,
         "HUAMBO",
         "CAYLLOMA",
         "AREQUIPA",
         -15.73044682,
         -72.10810089
        ],
        [
         50410,
         "UCHURACCAY",
         "HUANTA",
         "AYACUCHO",
         -12.77389463,
         -74.08262126
        ],
        [
         60504,
         "GUZMANGO",
         "CONTUMAZA",
         "CAJAMARCA",
         -7.367974043,
         -78.91690445
        ],
        [
         211204,
         "PATAMBUCO",
         "SANDIA",
         "PUNO",
         -14.37179661,
         -69.6435318
        ],
        [
         131003,
         "CACHICADAN",
         "SANTIAGO DE CHUCO",
         "LA LIBERTAD",
         -8.001379013,
         -78.11535899
        ],
        [
         90111,
         "MARISCAL CACERES",
         "HUANCAVELICA",
         "HUANCAVELICA",
         -12.53571033,
         -74.93383789
        ],
        [
         50201,
         "CANGALLO",
         "CANGALLO",
         "AYACUCHO",
         -13.60683026,
         -74.13445686
        ],
        [
         150601,
         "HUARAL",
         "HUARAL",
         "LIMA",
         -11.49022421,
         -77.20913506
        ],
        [
         190205,
         "SAN PEDRO DE PILLAO",
         "DANIEL ALCIDES CARRION",
         "PASCO",
         -10.43005413,
         -76.5000479
        ],
        [
         130902,
         "CHUGAY",
         "SANCHEZ CARRION",
         "LA LIBERTAD",
         -7.842595074,
         -77.78980806
        ],
        [
         60404,
         "CHIGUIRIP",
         "CHOTA",
         "CAJAMARCA",
         -6.409399128,
         -78.69964905
        ],
        [
         160303,
         "TIGRE",
         "LORETO",
         "LORETO",
         -3.371831226,
         -74.87382965
        ],
        [
         250203,
         "TAHUANIA",
         "ATALAYA",
         "UCAYALI",
         -9.970402082,
         -74.03464762
        ],
        [
         80604,
         "MARANGANI",
         "CANCHIS",
         "CUSCO",
         -14.38292432,
         -71.14769363
        ],
        [
         50202,
         "CHUSCHI",
         "CANGALLO",
         "AYACUCHO",
         -13.57239926,
         -74.34210636
        ],
        [
         120504,
         "ULCUMAYO",
         "JUNÍN",
         "JUNÍN",
         -10.90910888,
         -75.80611038
        ],
        [
         90504,
         "EL CARMEN",
         "CHURCAMPA",
         "HUANCAVELICA",
         -12.7340547,
         -74.48499189
        ],
        [
         40206,
         "OCOÑA",
         "CAMANA",
         "AREQUIPA",
         -16.4333477,
         -73.10736084
        ],
        [
         100510,
         "SINGA",
         "HUAMALIES",
         "HUÁNUCO",
         -9.394723415,
         -76.80223751
        ],
        [
         250106,
         "NUEVA REQUENA",
         "CORONEL PORTILLO",
         "UCAYALI",
         -8.306165695,
         -74.86537933
        ],
        [
         151025,
         "QUINOCAY",
         "YAUYOS",
         "LIMA",
         -12.34476233,
         -76.25241852
        ],
        [
         151002,
         "ALIS",
         "YAUYOS",
         "LIMA",
         -12.29855967,
         -75.75381088
        ],
        [
         220710,
         "TRES UNIDOS",
         "PICOTA",
         "SAN MARTÍN",
         -6.806466579,
         -76.23116302
        ],
        [
         61006,
         "JOSE MANUEL QUIROZ",
         "SAN MARCOS",
         "CAJAMARCA",
         -7.350089312,
         -78.03548908
        ],
        [
         120410,
         "HUERTAS",
         "JAUJA",
         "JUNÍN",
         -11.76725215,
         -75.4726572
        ],
        [
         150301,
         "CAJATAMBO",
         "CAJATAMBO",
         "LIMA",
         -10.47623014,
         -76.99631119
        ],
        [
         80204,
         "MOSOC LLACTA",
         "ACOMAYO",
         "CUSCO",
         -14.10099196,
         -71.45519765
        ],
        [
         200304,
         "HUARMACA",
         "HUANCABAMBA",
         "PIURA",
         -5.594134041,
         -79.53971699
        ],
        [
         140307,
         "MOTUPE",
         "LAMBAYEQUE",
         "LAMBAYEQUE",
         -6.174137609,
         -79.71799251
        ],
        [
         220914,
         "SHAPAJA",
         "SAN MARTÍN",
         "SAN MARTÍN",
         -6.588686307,
         -76.23044332
        ],
        [
         120305,
         "SAN RAMON",
         "CHANCHAMAYO",
         "JUNÍN",
         -11.11921686,
         -75.35176341
        ],
        [
         200401,
         "CHULUCANAS",
         "MORROPON",
         "PIURA",
         -5.088161131,
         -80.16302999
        ],
        [
         180303,
         "PACOCHA",
         "ILO",
         "MOQUEGUA",
         -17.55708408,
         -71.32822418
        ],
        [
         160502,
         "ALTO TAPICHE",
         "REQUENA",
         "LORETO",
         -6.025769234,
         -74.09093475
        ],
        [
         130402,
         "PACANGA",
         "CHEPEN",
         "LA LIBERTAD",
         -7.173699951,
         -79.46181793
        ],
        [
         140115,
         "SAÑA",
         "CHICLAYO",
         "LAMBAYEQUE",
         -6.893958668,
         -79.60014216
        ],
        [
         130811,
         "SANTIAGO DE CHALLAS",
         "PATAZ",
         "LA LIBERTAD",
         -8.439019203,
         -77.32389832
        ],
        [
         70105,
         "LA PUNTA",
         "CALLAO",
         "CALLAO",
         -12.07264328,
         -77.16425323
        ],
        [
         210201,
         "AZANGARO",
         "AZANGARO",
         "PUNO",
         -14.88409386,
         -70.16939624
        ],
        [
         200202,
         "FRIAS",
         "AYABACA",
         "PIURA",
         -4.952757263,
         -79.94461594
        ],
        [
         220911,
         "PAPAPLAYA",
         "SAN MARTÍN",
         "SAN MARTÍN",
         -6.276810074,
         -75.74256744
        ],
        [
         200301,
         "HUANCABAMBA",
         "HUANCABAMBA",
         "PIURA",
         -5.223232764,
         -79.47124188
        ],
        [
         140312,
         "TUCUME",
         "LAMBAYEQUE",
         "LAMBAYEQUE",
         -6.496917709,
         -79.85189565
        ],
        [
         240105,
         "SAN JACINTO",
         "TUMBES",
         "TUMBES",
         -3.68411833,
         -80.45515823
        ],
        [
         120413,
         "LEONOR ORDOÑEZ",
         "JAUJA",
         "JUNÍN",
         -11.85753584,
         -75.42011388
        ],
        [
         22007,
         "SHUPLUY",
         "YUNGAY",
         "ANCASH",
         -9.237276713,
         -77.71197001
        ],
        [
         220405,
         "SACANCHE",
         "HUALLAGA",
         "SAN MARTÍN",
         -7.081334352,
         -76.77443695
        ],
        [
         120705,
         "LA UNION",
         "TARMA",
         "JUNÍN",
         -11.62497044,
         -75.66336823
        ],
        [
         70103,
         "CARMEN DE LA LEGUA REYNOSO",
         "CALLAO",
         "CALLAO",
         -12.05354023,
         -77.09801483
        ],
        [
         151003,
         "ALLAUCA",
         "YAUYOS",
         "LIMA",
         -12.65706778,
         -75.99522018
        ],
        [
         150707,
         "HUACHUPAMPA",
         "HUAROCHIRI",
         "LIMA",
         -11.71631622,
         -76.59506989
        ],
        [
         110203,
         "CHAVIN",
         "CHINCHA",
         "ICA",
         -13.12603378,
         -75.92898178
        ],
        [
         120208,
         "MANZANARES",
         "CONCEPCION",
         "JUNÍN",
         -12.01810455,
         -75.35600281
        ],
        [
         90118,
         "ASCENSION",
         "HUANCAVELICA",
         "HUANCAVELICA",
         -12.78423023,
         -74.98058319
        ],
        [
         21201,
         "CARAZ",
         "HUAYLAS",
         "ANCASH",
         -9.045125961,
         -77.80959254
        ],
        [
         221005,
         "UCHIZA",
         "TOCACHE",
         "SAN MARTÍN",
         -8.386094268,
         -76.40265142
        ],
        [
         130501,
         "JULCAN",
         "JULCAN",
         "LA LIBERTAD",
         -8.045143178,
         -78.46032514
        ],
        [
         90117,
         "YAULI",
         "HUANCAVELICA",
         "HUANCAVELICA",
         -12.78368958,
         -74.81208216
        ],
        [
         140306,
         "MORROPE",
         "LAMBAYEQUE",
         "LAMBAYEQUE",
         -6.525872799,
         -79.97918353
        ],
        [
         220703,
         "CASPISAPA",
         "PICOTA",
         "SAN MARTÍN",
         -6.942096301,
         -76.40285274
        ],
        [
         160401,
         "RAMON CASTILLA",
         "MARISCAL RAMON CASTILLA",
         "LORETO",
         -3.939032435,
         -70.51027107
        ],
        [
         160107,
         "NAPO",
         "MAYNAS",
         "LORETO",
         -2.526782811,
         -73.64191818
        ],
        [
         200506,
         "TAMARINDO",
         "PAITA",
         "PIURA",
         -4.878240395,
         -80.98135223
        ],
        [
         130802,
         "BULDIBUYO",
         "PATAZ",
         "LA LIBERTAD",
         -8.136188507,
         -77.39508057
        ],
        [
         20103,
         "COLCABAMBA",
         "HUARAZ",
         "ANCASH",
         -9.595740318,
         -77.81091309
        ],
        [
         150725,
         "SAN PEDRO DE HUANCAYRE",
         "HUAROCHIRI",
         "LIMA",
         -12.1303978,
         -76.21650696
        ],
        [
         110208,
         "SAN JUAN DE YANAC",
         "CHINCHA",
         "ICA",
         -13.2111721,
         -75.78621674
        ],
        [
         151026,
         "SAN JOAQUIN",
         "YAUYOS",
         "LIMA",
         -12.28413105,
         -76.14685059
        ],
        [
         120125,
         "PILCOMAYO",
         "HUANCAYO",
         "JUNÍN",
         -12.0499897,
         -75.25302124
        ],
        [
         100803,
         "MOLINO",
         "PACHITEA",
         "HUÁNUCO",
         -9.964585796,
         -76.03525289
        ],
        [
         140113,
         "REQUE",
         "CHICLAYO",
         "LAMBAYEQUE",
         -6.863737447,
         -79.80581992
        ],
        [
         20101,
         "HUARAZ",
         "HUARAZ",
         "ANCASH",
         -9.555093181,
         -77.51324266
        ],
        [
         120503,
         "ONDORES",
         "JUNÍN",
         "JUNÍN",
         -11.03692315,
         -76.1853173
        ],
        [
         130107,
         "MOCHE",
         "TRUJILLO",
         "LA LIBERTAD",
         -8.159642685,
         -79.00390904
        ],
        [
         150114,
         "LA MOLINA",
         "LIMA",
         "LIMA",
         -12.08761883,
         -76.93390656
        ],
        [
         210309,
         "SAN GABAN",
         "CARABAYA",
         "PUNO",
         -13.42096825,
         -70.38032074
        ],
        [
         50910,
         "SANTIAGO DE PAUCARAY",
         "SUCRE",
         "AYACUCHO",
         -14.07601643,
         -73.64289474
        ],
        [
         250303,
         "CURIMANA",
         "PADRE ABAD",
         "UCAYALI",
         -8.437082291,
         -75.15934753
        ],
        [
         150120,
         "MAGDALENA DEL MAR",
         "LIMA",
         "LIMA",
         -12.09693909,
         -77.07473755
        ],
        [
         100702,
         "CHOLON",
         "MARAÑON",
         "HUÁNUCO",
         -8.631921768,
         -76.47909164
        ],
        [
         40310,
         "JAQUI",
         "CARAVELI",
         "AREQUIPA",
         -15.47751713,
         -74.44233704
        ],
        [
         21205,
         "MATO",
         "HUAYLAS",
         "ANCASH",
         -8.944651604,
         -77.87904358
        ],
        [
         21009,
         "MASIN",
         "HUARI",
         "ANCASH",
         -9.360032082,
         -77.08666611
        ],
        [
         50401,
         "HUANTA",
         "HUANTA",
         "AYACUCHO",
         -12.93972363,
         -74.241675
        ],
        [
         210110,
         "PAUCARCOLLA",
         "PUNO",
         "PUNO",
         -15.72212219,
         -70.05937943
        ],
        [
         150516,
         "ZUÑIGA",
         "CAÑETE",
         "LIMA",
         -12.85173289,
         -76.01387533
        ],
        [
         60507,
         "TANTARICA",
         "CONTUMAZA",
         "CAJAMARCA",
         -7.256635454,
         -78.93357086
        ],
        [
         240103,
         "LA CRUZ",
         "TUMBES",
         "TUMBES",
         -3.632097324,
         -80.57624563
        ],
        [
         120802,
         "CHACAPALPA",
         "YAULI",
         "JUNÍN",
         -11.72387552,
         -75.77438736
        ],
        [
         230404,
         "ESTIQUE-PAMPA",
         "TARATA",
         "TACNA",
         -17.56395721,
         -70.06825765
        ],
        [
         21307,
         "LUCMA",
         "MARISCAL LUZURIAGA",
         "ANCASH",
         -8.923310007,
         -77.38659995
        ],
        [
         50304,
         "SANTIAGO DE LUCANAMARCA",
         "HUANCA SANCOS",
         "AYACUCHO",
         -13.83523273,
         -74.37886429
        ],
        [
         40602,
         "ANDARAY",
         "CONDESUYOS",
         "AREQUIPA",
         -15.80919099,
         -72.86105919
        ],
        [
         100703,
         "SAN BUENAVENTURA",
         "MARAÑON",
         "HUÁNUCO",
         -8.768058777,
         -77.18688965
        ],
        [
         40113,
         "POCSI",
         "AREQUIPA",
         "AREQUIPA",
         -16.51726913,
         -71.39268494
        ],
        [
         40112,
         "PAUCARPATA",
         "AREQUIPA",
         "AREQUIPA",
         -16.42352867,
         -71.50840759
        ],
        [
         50112,
         "SOCOS",
         "HUAMANGA",
         "AYACUCHO",
         -13.22256978,
         -74.29836273
        ],
        [
         60906,
         "SAN JOSE DE LOURDES",
         "SAN IGNACIO",
         "CAJAMARCA",
         -5.071372491,
         -78.90761764
        ],
        [
         190104,
         "HUAYLLAY",
         "PASCO",
         "PASCO",
         -10.997287,
         -76.40694682
        ],
        [
         21804,
         "MACATE",
         "SANTA",
         "ANCASH",
         -8.779547977,
         -78.12047577
        ],
        [
         10506,
         "INGUILPATA",
         "LUYA",
         "AMAZONAS",
         -6.258934402,
         -77.98439636
        ],
        [
         200201,
         "AYABACA",
         "AYABACA",
         "PIURA",
         -4.64317368,
         -79.64958572
        ],
        [
         220203,
         "BAJO BIAVO",
         "BELLAVISTA",
         "SAN MARTÍN",
         -7.142977953,
         -76.40442113
        ],
        [
         60608,
         "SAN ANDRES DE CUTERVO",
         "CUTERVO",
         "CAJAMARCA",
         -6.210576296,
         -78.7261734
        ],
        [
         21802,
         "CACERES DEL PERU",
         "SANTA",
         "ANCASH",
         -8.955920537,
         -78.08523051
        ],
        [
         220912,
         "SAN ANTONIO",
         "SAN MARTÍN",
         "SAN MARTÍN",
         -6.433520317,
         -76.39979935
        ],
        [
         150731,
         "SANTO DOMINGO DE LOS OLLEROS",
         "HUAROCHIRI",
         "LIMA",
         -12.21827316,
         -76.51426697
        ],
        [
         130306,
         "UCUNCHA",
         "BOLIVAR",
         "LA LIBERTAD",
         -7.165800571,
         -77.86174011
        ],
        [
         210704,
         "NICASIO",
         "LAMPA",
         "PUNO",
         -15.23539734,
         -70.26085663
        ],
        [
         90206,
         "PAUCARA",
         "ACOBAMBA",
         "HUANCAVELICA",
         -12.74978621,
         -74.71024457
        ],
        [
         90609,
         "QUITO-ARMA",
         "HUAYTARA",
         "HUANCAVELICA",
         -13.52868761,
         -75.34169442
        ],
        [
         40803,
         "CHARCANA",
         "LA UNION",
         "AREQUIPA",
         -15.24061203,
         -73.07044983
        ],
        [
         210304,
         "COASA",
         "CARABAYA",
         "PUNO",
         -13.96388397,
         -70.02799301
        ],
        [
         100903,
         "HONORIA",
         "PUERTO INCA",
         "HUÁNUCO",
         -8.745028257,
         -74.74830627
        ],
        [
         60103,
         "CHETILLA",
         "CAJAMARCA",
         "CAJAMARCA",
         -7.146188736,
         -78.67160034
        ],
        [
         60604,
         "CUJILLO",
         "CUTERVO",
         "CAJAMARCA",
         -6.107028484,
         -78.59699249
        ],
        [
         80303,
         "CACHIMAYO",
         "ANTA",
         "CUSCO",
         -13.48330477,
         -72.06207699
        ],
        [
         40607,
         "SALAMANCA",
         "CONDESUYOS",
         "AREQUIPA",
         -15.5047493,
         -72.83421326
        ],
        [
         210214,
         "SANTIAGO DE PUPUJA",
         "AZANGARO",
         "PUNO",
         -15.11277167,
         -70.22443899
        ],
        [
         90713,
         "QUISHUAR",
         "TAYACAJA",
         "HUANCAVELICA",
         -12.24095535,
         -74.77940369
        ],
        [
         90112,
         "MOYA",
         "HUANCAVELICA",
         "HUANCAVELICA",
         -12.42397738,
         -75.15340424
        ],
        [
         230202,
         "CAIRANI",
         "CANDARAVE",
         "TACNA",
         -17.28569984,
         -70.36328888
        ],
        [
         211203,
         "LIMBANI",
         "SANDIA",
         "PUNO",
         -14.09007597,
         -69.66556168
        ],
        [
         80207,
         "SANGARARA",
         "ACOMAYO",
         "CUSCO",
         -13.96119634,
         -71.57181594
        ],
        [
         210806,
         "NUÑOA",
         "MELGAR",
         "PUNO",
         -14.48759576,
         -70.61913902
        ],
        [
         131004,
         "MOLLEBAMBA",
         "SANTIAGO DE CHUCO",
         "LA LIBERTAD",
         -8.154143135,
         -77.98642317
        ],
        [
         210101,
         "PUNO",
         "PUNO",
         "PUNO",
         -15.82690987,
         -69.9878192
        ],
        [
         50806,
         "OYOLO",
         "PAUCAR DEL SARA SARA",
         "AYACUCHO",
         -15.17386712,
         -73.18754917
        ],
        [
         90709,
         "HUARIBAMBA",
         "TAYACAJA",
         "HUANCAVELICA",
         -12.24435377,
         -74.91477299
        ],
        [
         250302,
         "IRAZOLA",
         "PADRE ABAD",
         "UCAYALI",
         -8.76024658,
         -75.06832539
        ],
        [
         120703,
         "HUARICOLCA",
         "TARMA",
         "JUNÍN",
         -11.51083056,
         -75.59468079
        ],
        [
         160206,
         "LAGUNAS",
         "ALTO AMAZONAS",
         "LORETO",
         -5.270565271,
         -75.70129776
        ],
        [
         101006,
         "SAN FRANCISCO DE ASIS",
         "LAURICOCHA",
         "HUÁNUCO",
         -9.963666916,
         -76.64689255
        ],
        [
         21104,
         "HUAYAN",
         "HUARMEY",
         "ANCASH",
         -9.876310349,
         -77.70822906
        ],
        [
         21409,
         "SAN PEDRO",
         "OCROS",
         "ANCASH",
         -10.37076473,
         -77.48754883
        ],
        [
         120430,
         "SAUSA",
         "JAUJA",
         "JUNÍN",
         -11.79519367,
         -75.49133301
        ],
        [
         200604,
         "LANCONES",
         "SULLANA",
         "PIURA",
         -4.592715263,
         -80.45914023
        ],
        [
         211103,
         "CABANILLAS",
         "SAN ROMAN",
         "PUNO",
         -15.69494759,
         -70.4123445
        ],
        [
         180204,
         "ICHUÑA",
         "GENERAL SANCHEZ CERRO",
         "MOQUEGUA",
         -16.13584874,
         -70.54179738
        ],
        [
         21008,
         "HUANTAR",
         "HUARI",
         "ANCASH",
         -9.461972952,
         -77.18288326
        ],
        [
         21704,
         "HUAYLLAPAMPA",
         "RECUAY",
         "ANCASH",
         -10.06973156,
         -77.5349619
        ],
        [
         160501,
         "REQUENA",
         "REQUENA",
         "LORETO",
         -5.043006556,
         -73.86095864
        ],
        [
         210505,
         "CONDURIRI",
         "EL COLLAO",
         "PUNO",
         -16.61056573,
         -69.70429121
        ],
        [
         20513,
         "PACLLON",
         "BOLOGNESI",
         "ANCASH",
         -10.23914146,
         -77.06551361
        ],
        [
         150404,
         "HUAROS",
         "CANTA",
         "LIMA",
         -11.4045701,
         -76.55167389
        ],
        [
         100110,
         "YARUMAYO",
         "HUÁNUCO",
         "HUÁNUCO",
         -9.996231556,
         -76.47602463
        ],
        [
         220406,
         "TINGO DE SAPOSOA",
         "HUALLAGA",
         "SAN MARTÍN",
         -7.093853474,
         -76.64170074
        ],
        [
         61203,
         "SAN LUIS",
         "SAN PABLO",
         "CAJAMARCA",
         -7.194120884,
         -78.90463257
        ],
        [
         10109,
         "LA JALCA",
         "CHACHAPOYAS",
         "AMAZONAS",
         -6.494380988,
         -77.81444726
        ],
        [
         10519,
         "SAN JUAN DE LOPECANCHA",
         "LUYA",
         "AMAZONAS",
         -6.505552496,
         -77.87023054
        ],
        [
         120206,
         "COMAS",
         "CONCEPCION",
         "JUNÍN",
         -11.73912201,
         -75.05985718
        ],
        [
         30404,
         "CHAPIMARCA",
         "AYMARAES",
         "APURÍMAC",
         -14.01232679,
         -73.12211663
        ],
        [
         10110,
         "LEIMEBAMBA",
         "CHACHAPOYAS",
         "AMAZONAS",
         -6.689430658,
         -77.80252659
        ],
        [
         220403,
         "EL ESLABON",
         "HUALLAGA",
         "SAN MARTÍN",
         -7.006530815,
         -76.74337006
        ],
        [
         20503,
         "ANTONIO RAYMONDI",
         "BOLOGNESI",
         "ANCASH",
         -10.16896963,
         -77.46996117
        ],
        [
         40301,
         "CARAVELI",
         "CARAVELI",
         "AREQUIPA",
         -15.7664032,
         -73.36596298
        ],
        [
         60602,
         "CALLAYUC",
         "CUTERVO",
         "CAJAMARCA",
         -6.112096582,
         -78.93849073
        ],
        [
         151031,
         "TUPE",
         "YAUYOS",
         "LIMA",
         -12.74136257,
         -75.80941772
        ],
        [
         150609,
         "SAN MIGUEL DE ACOS",
         "HUARAL",
         "LIMA",
         -11.27406216,
         -76.82061005
        ],
        [
         60202,
         "CACHACHI",
         "CAJABAMBA",
         "CAJAMARCA",
         -7.580915719,
         -78.20311133
        ],
        [
         160201,
         "YURIMAGUAS",
         "ALTO AMAZONAS",
         "LORETO",
         -5.896868201,
         -76.13019292
        ],
        [
         100103,
         "CHINCHAO",
         "HUÁNUCO",
         "HUÁNUCO",
         -9.759504682,
         -76.0140152
        ],
        [
         110401,
         "PALPA",
         "PALPA",
         "ICA",
         -14.52685502,
         -75.17608575
        ],
        [
         30213,
         "SAN JERONIMO",
         "ANDAHUAYLAS",
         "APURÍMAC",
         -13.66282976,
         -73.3286656
        ],
        [
         50113,
         "TAMBILLO",
         "HUAMANGA",
         "AYACUCHO",
         -13.17705711,
         -74.17673111
        ],
        [
         211003,
         "PEDRO VILCA APAZA",
         "SAN ANTONIO DE PUTINA",
         "PUNO",
         -15.01634121,
         -69.89122009
        ],
        [
         211202,
         "CUYOCUYO",
         "SANDIA",
         "PUNO",
         -14.49943225,
         -69.56985219
        ],
        [
         40118,
         "SAN JUAN DE SIGUAS",
         "AREQUIPA",
         "AREQUIPA",
         -16.36796618,
         -72.14589691
        ],
        [
         200207,
         "PAIMAS",
         "AYABACA",
         "PIURA",
         -4.628934669,
         -79.96791229
        ],
        [
         160205,
         "JEBEROS",
         "ALTO AMAZONAS",
         "LORETO",
         -5.286255836,
         -76.3021965
        ],
        [
         220804,
         "NUEVA CAJAMARCA",
         "RIOJA",
         "SAN MARTÍN",
         -5.909934878,
         -77.34228488
        ],
        [
         211104,
         "CARACOTO",
         "SAN ROMAN",
         "PUNO",
         -15.55410534,
         -70.08917006
        ],
        [
         21904,
         "CASHAPAMPA",
         "SIHUAS",
         "ANCASH",
         -8.564348757,
         -77.64799833
        ],
        [
         140203,
         "INCAHUASI",
         "FERREÑAFE",
         "LAMBAYEQUE",
         -6.223427773,
         -79.35817413
        ],
        [
         100301,
         "LA UNION",
         "DOS DE MAYO",
         "HUÁNUCO",
         -9.840626308,
         -76.79696873
        ],
        [
         140303,
         "ILLIMO",
         "LAMBAYEQUE",
         "LAMBAYEQUE",
         -6.46587583,
         -79.85828291
        ],
        [
         130103,
         "FLORENCIA DE MORA",
         "TRUJILLO",
         "LA LIBERTAD",
         -8.08094883,
         -79.02365875
        ],
        [
         160704,
         "MORONA",
         "DATEM DEL MARAÑON",
         "LORETO",
         -4.526191473,
         -77.13729477
        ],
        [
         30505,
         "MARA",
         "COTABAMBAS",
         "APURÍMAC",
         -14.05180709,
         -72.11781311
        ],
        [
         150712,
         "LARAOS",
         "HUAROCHIRI",
         "LIMA",
         -11.66455936,
         -76.53996277
        ],
        [
         21507,
         "LLAPO",
         "PALLASCA",
         "ANCASH",
         -8.511152267,
         -78.03994751
        ],
        [
         90119,
         "HUANDO",
         "HUANCAVELICA",
         "HUANCAVELICA",
         -12.56914658,
         -74.96711029
        ],
        [
         200101,
         "PIURA",
         "PIURA",
         "PIURA",
         -5.11647452,
         -80.66030329
        ],
        [
         51009,
         "HUANCARAYLLA",
         "VICTOR FAJARDO",
         "AYACUCHO",
         -13.72342968,
         -74.12943573
        ],
        [
         120704,
         "HUASAHUASI",
         "TARMA",
         "JUNÍN",
         -11.26370348,
         -75.65401132
        ],
        [
         50501,
         "SAN MIGUEL",
         "LA MAR",
         "AYACUCHO",
         -13.01833036,
         -73.96157837
        ],
        [
         200302,
         "CANCHAQUE",
         "HUANCABAMBA",
         "PIURA",
         -5.364645813,
         -79.62617161
        ],
        [
         40706,
         "PUNTA DE BOMBON",
         "ISLAY",
         "AREQUIPA",
         -17.16415367,
         -71.79899445
        ],
        [
         20504,
         "AQUIA",
         "BOLOGNESI",
         "ANCASH",
         -10.04905605,
         -77.15682068
        ],
        [
         20514,
         "SAN MIGUEL DE CORPANQUI",
         "BOLOGNESI",
         "ANCASH",
         -10.28431225,
         -77.20259094
        ],
        [
         60804,
         "COLASAY",
         "JAEN",
         "CAJAMARCA",
         -5.911822271,
         -78.95856018
        ],
        [
         30708,
         "PROGRESO",
         "GRAU",
         "APURÍMAC",
         -14.0722332,
         -72.47651672
        ],
        [
         220510,
         "TABALOSOS",
         "LAMAS",
         "SAN MARTÍN",
         -6.391771436,
         -76.63124962
        ],
        [
         110106,
         "PARCONA",
         "ICA",
         "ICA",
         -14.06084372,
         -75.70712642
        ],
        [
         20509,
         "HUASTA",
         "BOLOGNESI",
         "ANCASH",
         -10.1210771,
         -77.14089379
        ],
        [
         90502,
         "ANCO",
         "CHURCAMPA",
         "HUANCAVELICA",
         -12.6656599,
         -74.57648468
        ],
        [
         80307,
         "MOLLEPATA",
         "ANTA",
         "CUSCO",
         -13.49047014,
         -72.53914812
        ],
        [
         21004,
         "CHAVIN DE HUANTAR",
         "HUARI",
         "ANCASH",
         -9.587852478,
         -77.18581332
        ],
        [
         21203,
         "HUATA",
         "HUAYLAS",
         "ANCASH",
         -9.007277012,
         -77.86393356
        ],
        [
         30306,
         "PACHACONAS",
         "ANTABAMBA",
         "APURÍMAC",
         -14.22183704,
         -73.02233505
        ],
        [
         40705,
         "MEJIA",
         "ISLAY",
         "AREQUIPA",
         -17.09586906,
         -71.89886322
        ],
        [
         20607,
         "PARIAHUANCA",
         "CARHUAZ",
         "ANCASH",
         -9.357850711,
         -77.57691108
        ],
        [
         50801,
         "PAUSA",
         "PAUCAR DEL SARA SARA",
         "AYACUCHO",
         -15.27755165,
         -73.34633128
        ],
        [
         20305,
         "MIRGAS",
         "ANTONIO RAYMONDI",
         "ANCASH",
         -9.076167687,
         -77.0988952
        ],
        [
         210108,
         "HUATA",
         "PUNO",
         "PUNO",
         -15.61634858,
         -69.99711037
        ],
        [
         210206,
         "CHUPA",
         "AZANGARO",
         "PUNO",
         -15.11677814,
         -69.95898342
        ],
        [
         80107,
         "SAYLLA",
         "CUSCO",
         "CUSCO",
         -13.56336922,
         -71.83798981
        ],
        [
         220909,
         "LA BANDA DE SHILCAYO",
         "SAN MARTÍN",
         "SAN MARTÍN",
         -6.515065074,
         -76.33766174
        ],
        [
         160601,
         "CONTAMANA",
         "UCAYALI",
         "LORETO",
         -7.594834518,
         -75.18543396
        ],
        [
         20111,
         "PIRA",
         "HUARAZ",
         "ANCASH",
         -9.54259491,
         -77.7052091
        ],
        [
         20108,
         "OLLEROS",
         "HUARAZ",
         "ANCASH",
         -9.655763308,
         -77.4740804
        ],
        [
         30202,
         "ANDARAPA",
         "ANDAHUAYLAS",
         "APURÍMAC",
         -13.51984342,
         -73.36024729
        ],
        [
         150113,
         "JESUS MARIA",
         "LIMA",
         "LIMA",
         -12.06999874,
         -77.04524231
        ],
        [
         150122,
         "MIRAFLORES",
         "LIMA",
         "LIMA",
         -12.11752892,
         -77.04541016
        ],
        [
         210703,
         "CALAPUJA",
         "LAMPA",
         "PUNO",
         -15.36147499,
         -70.18636322
        ],
        [
         60419,
         "CHALAMARCA",
         "CHOTA",
         "CAJAMARCA",
         -6.519294898,
         -78.4971583
        ],
        [
         50907,
         "PAICO",
         "SUCRE",
         "AYACUCHO",
         -14.00694942,
         -73.65024948
        ],
        [
         150115,
         "LA VICTORIA",
         "LIMA",
         "LIMA",
         -12.06533909,
         -77.0309906
        ],
        [
         160504,
         "EMILIO SAN MARTÍN",
         "REQUENA",
         "LORETO",
         -5.685268641,
         -74.30905151
        ],
        [
         20703,
         "YAUYA",
         "CARLOS FERMIN FITZCARRALD",
         "ANCASH",
         -8.995106578,
         -77.28498363
        ],
        [
         211207,
         "SAN JUAN DEL ORO",
         "SANDIA",
         "PUNO",
         -14.19998264,
         -69.11614227
        ],
        [
         40606,
         "RIO GRANDE",
         "CONDESUYOS",
         "AREQUIPA",
         -15.92272329,
         -73.09153366
        ],
        [
         220803,
         "ELIAS SOPLIN VARGAS",
         "RIOJA",
         "SAN MARTÍN",
         -6.008140193,
         -77.27912988
        ],
        [
         220704,
         "PILLUANA",
         "PICOTA",
         "SAN MARTÍN",
         -6.787575245,
         -76.27360916
        ],
        [
         60417,
         "TACABAMBA",
         "CHOTA",
         "CAJAMARCA",
         -6.397888527,
         -78.59155426
        ],
        [
         200111,
         "LAS LOMAS",
         "PIURA",
         "PIURA",
         -4.690694954,
         -80.20750759
        ],
        [
         60802,
         "BELLAVISTA",
         "JAEN",
         "CAJAMARCA",
         -5.581311294,
         -78.77811941
        ],
        [
         170204,
         "HUEPETUHE",
         "MANU",
         "MADRE DE DIOS",
         -13.03709041,
         -70.5037935
        ],
        [
         61005,
         "ICHOCAN",
         "SAN MARCOS",
         "CAJAMARCA",
         -7.366181469,
         -78.12542725
        ],
        [
         160102,
         "ALTO NANAY",
         "MAYNAS",
         "LORETO",
         -3.894294977,
         -73.753479
        ],
        [
         10608,
         "MILPUC",
         "RODRIGUEZ DE MENDOZA",
         "AMAZONAS",
         -6.496859074,
         -77.42358398
        ],
        [
         150112,
         "INDEPENDENCIA",
         "LIMA",
         "LIMA",
         -12.00085735,
         -77.05225372
        ],
        [
         151029,
         "TAURIPAMPA",
         "YAUYOS",
         "LIMA",
         -12.61717701,
         -76.16207886
        ],
        [
         120806,
         "PACCHA",
         "YAULI",
         "JUNÍN",
         -11.4795742,
         -75.96697235
        ],
        [
         150715,
         "SAN ANDRES DE TUPICOCHA",
         "HUAROCHIRI",
         "LIMA",
         -11.99970722,
         -76.4745636
        ],
        [
         50405,
         "LURICOCHA",
         "HUANTA",
         "AYACUCHO",
         -12.89684592,
         -74.27716446
        ],
        [
         61301,
         "SANTA CRUZ",
         "SANTA CRUZ",
         "CAJAMARCA",
         -6.635353914,
         -78.94016677
        ],
        [
         211305,
         "OLLARAYA",
         "YUNGUYO",
         "PUNO",
         -16.24634889,
         -69.00214181
        ],
        [
         81202,
         "ANDAHUAYLILLAS",
         "QUISPICANCHI",
         "CUSCO",
         -13.67317446,
         -71.68359937
        ],
        [
         220103,
         "HABANA",
         "MOYOBAMBA",
         "SAN MARTÍN",
         -6.076165517,
         -77.11201731
        ],
        [
         160703,
         "MANSERICHE",
         "DATEM DEL MARAÑON",
         "LORETO",
         -4.695634174,
         -77.46178284
        ],
        [
         210605,
         "PUSI",
         "HUANCANE",
         "PUNO",
         -15.46099758,
         -69.93759155
        ],
        [
         210502,
         "CAPAZO",
         "EL COLLAO",
         "PUNO",
         -17.18372154,
         -69.74452972
        ],
        [
         150128,
         "RIMAC",
         "LIMA",
         "LIMA",
         -12.02962971,
         -77.04376221
        ],
        [
         81004,
         "COLCHA",
         "PARURO",
         "CUSCO",
         -13.85119724,
         -71.80294037
        ],
        [
         80801,
         "ESPINAR",
         "ESPINAR",
         "CUSCO",
         -14.88629489,
         -71.35726556
        ],
        [
         10306,
         "FLORIDA",
         "BONGARA",
         "AMAZONAS",
         -5.837375323,
         -77.95561091
        ],
        [
         220205,
         "SAN PABLO",
         "BELLAVISTA",
         "SAN MARTÍN",
         -6.812920994,
         -76.59323332
        ],
        [
         140116,
         "CAYALTI",
         "CHICLAYO",
         "LAMBAYEQUE",
         -6.893425465,
         -79.54925452
        ],
        [
         210115,
         "VILQUE",
         "PUNO",
         "PUNO",
         -15.75835569,
         -70.2710944
        ],
        [
         40203,
         "MARIANO NICOLAS VALCARCEL",
         "CAMANA",
         "AREQUIPA",
         -15.9670589,
         -73.18419456
        ],
        [
         40516,
         "TAPAY",
         "CAYLLOMA",
         "AREQUIPA",
         -15.57750797,
         -71.93937683
        ],
        [
         21703,
         "COTAPARACO",
         "RECUAY",
         "ANCASH",
         -9.987114906,
         -77.58612823
        ],
        [
         130102,
         "EL PORVENIR",
         "TRUJILLO",
         "LA LIBERTAD",
         -8.082130432,
         -79.00273895
        ],
        [
         21405,
         "COCHAS",
         "OCROS",
         "ANCASH",
         -10.58901739,
         -77.4822464
        ],
        [
         21002,
         "ANRA",
         "HUARI",
         "ANCASH",
         -9.24304692,
         -76.93397268
        ],
        [
         50507,
         "SANTA ROSA",
         "LA MAR",
         "AYACUCHO",
         -12.7024565,
         -73.73450008
        ],
        [
         220502,
         "ALONSO DE ALVARADO",
         "LAMAS",
         "SAN MARTÍN",
         -6.333196473,
         -76.77749443
        ],
        [
         210203,
         "ARAPA",
         "AZANGARO",
         "PUNO",
         -15.12211475,
         -70.08197384
        ],
        [
         230402,
         "HEROES ALBARRACIN",
         "TARATA",
         "TACNA",
         -17.47351551,
         -70.13821793
        ],
        [
         220504,
         "CAYNARACHI",
         "LAMAS",
         "SAN MARTÍN",
         -6.310061088,
         -76.27571341
        ],
        [
         60305,
         "JORGE CHAVEZ",
         "CELENDIN",
         "CAJAMARCA",
         -6.933939338,
         -78.099226
        ],
        [
         50807,
         "PARARCA",
         "PAUCAR DEL SARA SARA",
         "AYACUCHO",
         -15.21709919,
         -73.46549225
        ],
        [
         230406,
         "SUSAPAYA",
         "TARATA",
         "TACNA",
         -17.35388374,
         -70.13282013
        ],
        [
         60412,
         "MIRACOSTA",
         "CHOTA",
         "CAJAMARCA",
         -6.354627132,
         -79.29018021
        ],
        [
         61306,
         "NINABAMBA",
         "SANTA CRUZ",
         "CAJAMARCA",
         -6.670148426,
         -78.78256819
        ],
        [
         40502,
         "ACHOMA",
         "CAYLLOMA",
         "AREQUIPA",
         -15.66335988,
         -71.7026577
        ],
        [
         130206,
         "RAZURI",
         "ASCOPE",
         "LA LIBERTAD",
         -7.703728711,
         -79.36770234
        ],
        [
         10112,
         "MAGDALENA",
         "CHACHAPOYAS",
         "AMAZONAS",
         -6.408820868,
         -77.8603096
        ],
        [
         50504,
         "CHILCAS",
         "LA MAR",
         "AYACUCHO",
         -13.17179067,
         -73.88415309
        ],
        [
         140206,
         "PUEBLO NUEVO",
         "FERREÑAFE",
         "LAMBAYEQUE",
         -6.61847655,
         -79.81979709
        ],
        [
         220709,
         "TINGO DE PONASA",
         "PICOTA",
         "SAN MARTÍN",
         -6.933670044,
         -76.26327345
        ],
        [
         190111,
         "TINYAHUARCO",
         "PASCO",
         "PASCO",
         -10.75042353,
         -76.25668716
        ],
        [
         200403,
         "CHALACO",
         "MORROPON",
         "PIURA",
         -5.048598607,
         -79.81030782
        ],
        [
         210602,
         "COJATA",
         "HUANCANE",
         "PUNO",
         -15.01512814,
         -69.36522675
        ],
        [
         81001,
         "PARURO",
         "PARURO",
         "CUSCO",
         -13.74743912,
         -71.8585434
        ],
        [
         210901,
         "MOHO",
         "MOHO",
         "PUNO",
         -15.35580672,
         -69.47636117
        ],
        [
         140108,
         "MONSEFU",
         "CHICLAYO",
         "LAMBAYEQUE",
         -6.858631395,
         -79.85118394
        ],
        [
         80201,
         "ACOMAYO",
         "ACOMAYO",
         "CUSCO",
         -13.92488313,
         -71.67429308
        ],
        [
         150501,
         "SAN VICENTE DE CAÑETE",
         "CAÑETE",
         "LIMA",
         -13.13975518,
         -76.35866429
        ],
        [
         40308,
         "CHAPARRA",
         "CARAVELI",
         "AREQUIPA",
         -15.73920784,
         -73.88502655
        ],
        [
         51011,
         "SARHUA",
         "VICTOR FAJARDO",
         "AYACUCHO",
         -13.66620077,
         -74.34962899
        ],
        [
         10707,
         "YAMON",
         "UTCUBAMBA",
         "AMAZONAS",
         -6.013111909,
         -78.50360107
        ],
        [
         90413,
         "TICRAPO",
         "CASTROVIRREYNA",
         "HUANCAVELICA",
         -13.34540462,
         -75.42289734
        ],
        [
         10120,
         "SOLOCO",
         "CHACHAPOYAS",
         "AMAZONAS",
         -6.254879951,
         -77.75582123
        ],
        [
         200805,
         "VICE",
         "SECHURA",
         "PIURA",
         -5.434669197,
         -80.78338432
        ],
        [
         81211,
         "OROPESA",
         "QUISPICANCHI",
         "CUSCO",
         -13.5858271,
         -71.77557328
        ],
        [
         200608,
         "SALITRAL",
         "SULLANA",
         "PIURA",
         -4.847379804,
         -80.68235683
        ],
        [
         210103,
         "AMANTANI",
         "PUNO",
         "PUNO",
         -15.68151398,
         -69.71224213
        ],
        [
         10204,
         "EL PARCO",
         "BAGUA",
         "AMAZONAS",
         -5.620324278,
         -78.47593689
        ],
        [
         190101,
         "CHAUPIMARCA",
         "PASCO",
         "PASCO",
         -10.70242119,
         -76.24163513
        ],
        [
         30607,
         "URANMARCA",
         "CHINCHEROS",
         "APURÍMAC",
         -13.66741403,
         -73.65593465
        ],
        [
         51002,
         "ALCAMENCA",
         "VICTOR FAJARDO",
         "AYACUCHO",
         -13.65644073,
         -74.19477844
        ],
        [
         110207,
         "PUEBLO NUEVO",
         "CHINCHA",
         "ICA",
         -13.40484428,
         -76.12693024
        ],
        [
         220902,
         "ALBERTO LEVEAU",
         "SAN MARTÍN",
         "SAN MARTÍN",
         -6.663570404,
         -76.28788757
        ],
        [
         30216,
         "TALAVERA",
         "ANDAHUAYLAS",
         "APURÍMAC",
         -13.65399996,
         -73.43992445
        ],
        [
         90702,
         "ACOSTAMBO",
         "TAYACAJA",
         "HUANCAVELICA",
         -12.42952503,
         -75.01375798
        ],
        [
         110102,
         "LA TINGUIÑA",
         "ICA",
         "ICA",
         -14.01058233,
         -75.71272988
        ],
        [
         210401,
         "JULI",
         "CHUCUITO",
         "PUNO",
         -16.22044952,
         -69.47375946
        ],
        [
         131202,
         "CHAO",
         "VIRU",
         "LA LIBERTAD",
         -8.545957618,
         -78.66345554
        ],
        [
         60505,
         "SAN BENITO",
         "CONTUMAZA",
         "CAJAMARCA",
         -7.524433613,
         -78.93818283
        ],
        [
         21803,
         "COISHCO",
         "SANTA",
         "ANCASH",
         -9.023980141,
         -78.61824799
        ],
        [
         120405,
         "CANCHAYLLO",
         "JAUJA",
         "JUNÍN",
         -11.78584957,
         -75.71652985
        ],
        [
         120101,
         "HUANCAYO",
         "HUANCAYO",
         "JUNÍN",
         -12.04284096,
         -75.19766998
        ],
        [
         30412,
         "SAÑAYCA",
         "AYMARAES",
         "APURÍMAC",
         -14.20467091,
         -73.34716797
        ],
        [
         131001,
         "SANTIAGO DE CHUCO",
         "SANTIAGO DE CHUCO",
         "LA LIBERTAD",
         -8.181338446,
         -78.20392827
        ],
        [
         30504,
         "HAQUIRA",
         "COTABAMBAS",
         "APURÍMAC",
         -14.22458017,
         -72.1861577
        ],
        [
         120431,
         "SINCOS",
         "JAUJA",
         "JUNÍN",
         -11.91695499,
         -75.43627853
        ],
        [
         160113,
         "SAN JUAN BAUTISTA",
         "MAYNAS",
         "LORETO",
         -3.875514242,
         -73.34870063
        ],
        [
         100317,
         "RIPAN",
         "DOS DE MAYO",
         "HUÁNUCO",
         -9.814537644,
         -76.80862617
        ],
        [
         120212,
         "NUEVE DE JULIO",
         "CONCEPCION",
         "JUNÍN",
         -11.88981724,
         -75.31603895
        ],
        [
         40119,
         "SAN JUAN DE TARUCANI",
         "AREQUIPA",
         "AREQUIPA",
         -16.18411446,
         -71.06556702
        ],
        [
         30714,
         "CURASCO",
         "GRAU",
         "APURÍMAC",
         -14.06082153,
         -72.56725311
        ],
        [
         70101,
         "CALLAO",
         "CALLAO",
         "CALLAO",
         -12.05155754,
         -77.13411713
        ],
        [
         150513,
         "SAN ANTONIO",
         "CAÑETE",
         "LIMA",
         -12.61551543,
         -76.67496045
        ],
        [
         110403,
         "RIO GRANDE",
         "PALPA",
         "ICA",
         -14.47929621,
         -75.19285393
        ],
        [
         80302,
         "ANCAHUASI",
         "ANTA",
         "CUSCO",
         -13.46830472,
         -72.30737097
        ],
        [
         60903,
         "HUARANGO",
         "SAN IGNACIO",
         "CAJAMARCA",
         -5.28665172,
         -78.75005895
        ],
        [
         90307,
         "HUANCA-HUANCA",
         "ANGARAES",
         "HUANCAVELICA",
         -12.93299732,
         -74.59714508
        ],
        [
         40510,
         "LARI",
         "CAYLLOMA",
         "AREQUIPA",
         -15.62209129,
         -71.76891327
        ],
        [
         240102,
         "CORRALES",
         "TUMBES",
         "TUMBES",
         -3.594156417,
         -80.49049239
        ],
        [
         51107,
         "SAURAMA",
         "VILCAS HUAMAN",
         "AYACUCHO",
         -13.70458508,
         -73.75360107
        ],
        [
         170201,
         "MANU",
         "MANU",
         "MADRE DE DIOS",
         -12.83600998,
         -71.35899353
        ],
        [
         21204,
         "HUAYLAS",
         "HUAYLAS",
         "ANCASH",
         -8.878623009,
         -77.89760971
        ],
        [
         20107,
         "LA LIBERTAD",
         "HUARAZ",
         "ANCASH",
         -9.628812485,
         -77.74738678
        ],
        [
         61105,
         "EL PRADO",
         "SAN MIGUEL",
         "CAJAMARCA",
         -7.033281326,
         -79.01078796
        ],
        [
         110206,
         "GROCIO PRADO",
         "CHINCHA",
         "ICA",
         -13.38561241,
         -76.16601034
        ],
        [
         40116,
         "SABANDIA",
         "AREQUIPA",
         "AREQUIPA",
         -16.45267334,
         -71.4949646
        ],
        [
         120702,
         "ACOBAMBA",
         "TARMA",
         "JUNÍN",
         -11.34506432,
         -75.66756651
        ],
        [
         150602,
         "ATAVILLOS ALTO",
         "HUARAL",
         "LIMA",
         -11.23420525,
         -76.65596771
        ],
        [
         140118,
         "POMALCA",
         "CHICLAYO",
         "LAMBAYEQUE",
         -6.76494542,
         -79.76658214
        ],
        [
         151028,
         "TANTA",
         "YAUYOS",
         "LIMA",
         -12.12164783,
         -76.0136795
        ],
        [
         100902,
         "CODO DEL POZUZO",
         "PUERTO INCA",
         "HUÁNUCO",
         -9.652570724,
         -75.37736893
        ],
        [
         151008,
         "CATAHUASI",
         "YAUYOS",
         "LIMA",
         -12.79965496,
         -75.89183807
        ],
        [
         30104,
         "CURAHUASI",
         "ABANCAY",
         "APURÍMAC",
         -13.55146511,
         -72.72444344
        ],
        [
         150406,
         "SAN BUENAVENTURA",
         "CANTA",
         "LIMA",
         -11.45119019,
         -76.62172394
        ],
        [
         81206,
         "CUSIPATA",
         "QUISPICANCHI",
         "CUSCO",
         -13.88902311,
         -71.49817734
        ],
        [
         120135,
         "SANTO DOMINGO DE ACOBAMBA",
         "HUANCAYO",
         "JUNÍN",
         -11.83125298,
         -74.77303197
        ],
        [
         200407,
         "SAN JUAN DE BIGOTE",
         "MORROPON",
         "PIURA",
         -5.314387242,
         -79.76966349
        ],
        [
         90115,
         "PILCHACA",
         "HUANCAVELICA",
         "HUANCAVELICA",
         -12.40758705,
         -75.07238388
        ],
        [
         150716,
         "SAN ANTONIO",
         "HUAROCHIRI",
         "LIMA",
         -11.91143608,
         -76.94803619
        ],
        [
         10308,
         "RECTA",
         "BONGARA",
         "AMAZONAS",
         -5.946321487,
         -77.75901031
        ],
        [
         10121,
         "SONCHE",
         "CHACHAPOYAS",
         "AMAZONAS",
         -6.219130039,
         -77.77510071
        ],
        [
         101002,
         "BAÑOS",
         "LAURICOCHA",
         "HUÁNUCO",
         -10.092243,
         -76.73935394
        ],
        [
         21604,
         "QUINUABAMBA",
         "POMABAMBA",
         "ANCASH",
         -8.697932053,
         -77.39317118
        ],
        [
         200806,
         "RINCONADA LLICUAR",
         "SECHURA",
         "PIURA",
         -5.470736384,
         -80.77263451
        ],
        [
         200109,
         "LA ARENA",
         "PIURA",
         "PIURA",
         -5.331527459,
         -80.71892548
        ],
        [
         20605,
         "ATAQUERO",
         "CARHUAZ",
         "ANCASH",
         -9.267046111,
         -77.70497894
        ],
        [
         50808,
         "SAN JAVIER DE ALPABAMBA",
         "PAUCAR DEL SARA SARA",
         "AYACUCHO",
         -15.05416489,
         -73.31047058
        ],
        [
         81009,
         "YAURISQUE",
         "PARURO",
         "CUSCO",
         -13.6536274,
         -71.92290497
        ],
        [
         30501,
         "TAMBOBAMBA",
         "COTABAMBAS",
         "APURÍMAC",
         -13.89725304,
         -72.15538025
        ],
        [
         120301,
         "CHANCHAMAYO",
         "CHANCHAMAYO",
         "JUNÍN",
         -11.01618703,
         -75.32442093
        ],
        [
         80703,
         "CHAMACA",
         "CHUMBIVILCAS",
         "CUSCO",
         -14.38301659,
         -71.82856954
        ],
        [
         210306,
         "CRUCERO",
         "CARABAYA",
         "PUNO",
         -14.33496288,
         -70.02034529
        ],
        [
         10704,
         "EL MILAGRO",
         "UTCUBAMBA",
         "AMAZONAS",
         -5.711835543,
         -78.59490458
        ],
        [
         20510,
         "HUAYLLACAYAN",
         "BOLOGNESI",
         "ANCASH",
         -10.23638821,
         -77.44320594
        ],
        [
         80910,
         "PICHARI",
         "LA CONVENCION",
         "CUSCO",
         -12.4909935,
         -73.83797879
        ],
        [
         81003,
         "CCAPI",
         "PARURO",
         "CUSCO",
         -13.86434507,
         -72.0136261
        ],
        [
         221002,
         "NUEVO PROGRESO",
         "TOCACHE",
         "SAN MARTÍN",
         -8.549942255,
         -76.26639843
        ],
        [
         150714,
         "RICARDO PALMA",
         "HUAROCHIRI",
         "LIMA",
         -11.92408562,
         -76.64711761
        ],
        [
         110405,
         "TIBILLO",
         "PALPA",
         "ICA",
         -14.09299088,
         -75.17286682
        ],
        [
         90717,
         "SURCUBAMBA",
         "TAYACAJA",
         "HUANCAVELICA",
         -12.11169235,
         -74.6355289
        ],
        [
         51106,
         "INDEPENDENCIA",
         "VILCAS HUAMAN",
         "AYACUCHO",
         -13.87688269,
         -73.87999071
        ],
        [
         150515,
         "SANTA CRUZ DE FLORES",
         "CAÑETE",
         "LIMA",
         -12.59992373,
         -76.65812111
        ],
        [
         150728,
         "SANTA EULALIA",
         "HUAROCHIRI",
         "LIMA",
         -11.89144675,
         -76.65424093
        ],
        [
         50803,
         "CORCULLA",
         "PAUCAR DEL SARA SARA",
         "AYACUCHO",
         -15.25185823,
         -73.21316338
        ],
        [
         151021,
         "MIRAFLORES",
         "YAUYOS",
         "LIMA",
         -12.27417088,
         -75.85024261
        ],
        [
         40107,
         "JACOBO HUNTER",
         "AREQUIPA",
         "AREQUIPA",
         -16.44693947,
         -71.55567932
        ],
        [
         51007,
         "COLCA",
         "VICTOR FAJARDO",
         "AYACUCHO",
         -13.71264076,
         -74.03439331
        ],
        [
         151019,
         "LINCHA",
         "YAUYOS",
         "LIMA",
         -12.79968357,
         -75.66642761
        ],
        [
         100403,
         "COCHABAMBA",
         "HUACAYBAMBA",
         "HUÁNUCO",
         -9.094055176,
         -76.82413483
        ],
        [
         221003,
         "POLVORA",
         "TOCACHE",
         "SAN MARTÍN",
         -8.024431449,
         -76.62890977
        ],
        [
         50203,
         "LOS MOROCHUCOS",
         "CANGALLO",
         "AYACUCHO",
         -13.53950101,
         -74.18808842
        ],
        [
         21011,
         "PONTO",
         "HUARI",
         "ANCASH",
         -9.329941432,
         -76.99396769
        ],
        [
         210310,
         "USICAYOS",
         "CARABAYA",
         "PUNO",
         -14.12342389,
         -69.94668579
        ],
        [
         21210,
         "YURACMARCA",
         "HUAYLAS",
         "ANCASH",
         -8.758871396,
         -77.80532074
        ],
        [
         60307,
         "MIGUEL IGLESIAS",
         "CELENDIN",
         "CAJAMARCA",
         -6.67871964,
         -78.24513245
        ],
        [
         160602,
         "INAHUAYA",
         "UCAYALI",
         "LORETO",
         -7.08158493,
         -75.22780991
        ],
        [
         150104,
         "BARRANCO",
         "LIMA",
         "LIMA",
         -12.14959908,
         -77.02474213
        ],
        [
         22004,
         "MATACOTO",
         "YUNGAY",
         "ANCASH",
         -9.180298593,
         -77.75152673
        ],
        [
         100307,
         "CHUQUIS",
         "DOS DE MAYO",
         "HUÁNUCO",
         -9.663657546,
         -76.69727826
        ],
        [
         230109,
         "SAMA",
         "TACNA",
         "TACNA",
         -18.0117116,
         -70.65529919
        ],
        [
         200206,
         "PACAIPAMPA",
         "AYABACA",
         "PIURA",
         -4.977111853,
         -79.6717142
        ],
        [
         130901,
         "HUAMACHUCO",
         "SANCHEZ CARRION",
         "LA LIBERTAD",
         -7.801775394,
         -78.02046548
        ],
        [
         80705,
         "LIVITACA",
         "CHUMBIVILCAS",
         "CUSCO",
         -14.37100163,
         -71.65171051
        ],
        [
         151023,
         "PUTINZA",
         "YAUYOS",
         "LIMA",
         -12.66828823,
         -75.94944763
        ],
        [
         61308,
         "SAUCEPAMPA",
         "SANTA CRUZ",
         "CAJAMARCA",
         -6.681337833,
         -78.8866806
        ],
        [
         130302,
         "BAMBAMARCA",
         "BOLIVAR",
         "LA LIBERTAD",
         -7.441461086,
         -77.69480133
        ],
        [
         150504,
         "CERRO AZUL",
         "CAÑETE",
         "LIMA",
         -12.99623044,
         -76.48145612
        ],
        [
         90114,
         "PALCA",
         "HUANCAVELICA",
         "HUANCAVELICA",
         -12.66360687,
         -74.97384618
        ],
        [
         220604,
         "PACHIZA",
         "MARISCAL CACERES",
         "SAN MARTÍN",
         -7.289594787,
         -76.79665484
        ],
        [
         22001,
         "YUNGAY",
         "YUNGAY",
         "ANCASH",
         -9.13832704,
         -77.73640363
        ],
        [
         210501,
         "ILAVE",
         "EL COLLAO",
         "PUNO",
         -16.12581476,
         -69.64507926
        ],
        [
         190110,
         "TICLACAYAN",
         "PASCO",
         "PASCO",
         -10.5635453,
         -76.13988671
        ],
        [
         50502,
         "ANCO",
         "LA MAR",
         "AYACUCHO",
         -13.02483749,
         -73.65667852
        ],
        [
         220913,
         "SAUCE",
         "SAN MARTÍN",
         "SAN MARTÍN",
         -6.698778629,
         -76.21750895
        ],
        [
         21506,
         "LACABAMBA",
         "PALLASCA",
         "ANCASH",
         -8.258423805,
         -77.89611053
        ],
        [
         90705,
         "COLCABAMBA",
         "TAYACAJA",
         "HUANCAVELICA",
         -12.40194287,
         -74.69001498
        ],
        [
         100101,
         "HUÁNUCO",
         "HUÁNUCO",
         "HUÁNUCO",
         -9.898016853,
         -76.24930328
        ],
        [
         80402,
         "COYA",
         "CALCA",
         "CUSCO",
         -13.40226798,
         -71.90010556
        ],
        [
         40608,
         "YANAQUIHUA",
         "CONDESUYOS",
         "AREQUIPA",
         -15.74686704,
         -72.9494291
        ],
        [
         90710,
         "ÑAHUIMPUQUIO",
         "TAYACAJA",
         "HUANCAVELICA",
         -12.32449961,
         -75.07333755
        ],
        [
         150720,
         "SAN JUAN DE TANTARANCHE",
         "HUAROCHIRI",
         "LIMA",
         -12.11347008,
         -76.18254852
        ],
        [
         200602,
         "BELLAVISTA",
         "SULLANA",
         "PIURA",
         -4.888760567,
         -80.67637634
        ],
        [
         90612,
         "SAN ISIDRO",
         "HUAYTARA",
         "HUANCAVELICA",
         -13.95720959,
         -75.24002075
        ],
        [
         90501,
         "CHURCAMPA",
         "CHURCAMPA",
         "HUANCAVELICA",
         -12.75394528,
         -74.3832234
        ],
        [
         10115,
         "MONTEVIDEO",
         "CHACHAPOYAS",
         "AMAZONAS",
         -6.626233101,
         -77.79276886
        ],
        [
         130807,
         "ONGON",
         "PATAZ",
         "LA LIBERTAD",
         -8.168911934,
         -76.96640015
        ],
        [
         20801,
         "CASMA",
         "CASMA",
         "ANCASH",
         -9.46087265,
         -78.31467438
        ],
        [
         120201,
         "CONCEPCION",
         "CONCEPCION",
         "JUNÍN",
         -11.90793174,
         -75.31312997
        ],
        [
         100904,
         "TOURNAVISTA",
         "PUERTO INCA",
         "HUÁNUCO",
         -8.936086337,
         -74.82889048
        ],
        [
         40129,
         "JOSE LUIS BUSTAMANTE Y RIVERO",
         "AREQUIPA",
         "AREQUIPA",
         -16.43457031,
         -71.51751709
        ],
        [
         140201,
         "FERREÑAFE",
         "FERREÑAFE",
         "LAMBAYEQUE",
         -6.619813347,
         -79.78938484
        ],
        [
         110105,
         "PACHACUTEC",
         "ICA",
         "ICA",
         -14.1600554,
         -75.67903233
        ],
        [
         110108,
         "SALAS",
         "ICA",
         "ICA",
         -13.91761527,
         -75.9165101
        ],
        [
         90101,
         "HUANCAVELICA",
         "HUANCAVELICA",
         "HUANCAVELICA",
         -12.79180384,
         -74.93290377
        ],
        [
         190206,
         "SANTA ANA DE TUSI",
         "DANIEL ALCIDES CARRION",
         "PASCO",
         -10.48126011,
         -76.32648621
        ],
        [
         230203,
         "CAMILACA",
         "CANDARAVE",
         "TACNA",
         -17.2879467,
         -70.40601921
        ],
        [
         40128,
         "YURA",
         "AREQUIPA",
         "AREQUIPA",
         -16.22446594,
         -71.61278076
        ],
        [
         40504,
         "CALLALLI",
         "CAYLLOMA",
         "AREQUIPA",
         -15.50729561,
         -71.44354248
        ],
        [
         90311,
         "SANTO TOMAS DE PATA",
         "ANGARAES",
         "HUANCAVELICA",
         -13.11374855,
         -74.4235611
        ],
        [
         30709,
         "SAN ANTONIO",
         "GRAU",
         "APURÍMAC",
         -14.1696682,
         -72.62304688
        ],
        [
         200210,
         "SUYO",
         "AYABACA",
         "PIURA",
         -4.514059067,
         -79.96037384
        ],
        [
         160112,
         "BELEN",
         "MAYNAS",
         "LORETO",
         -3.769276251,
         -73.23523013
        ],
        [
         190108,
         "SAN FRANCISCO DE ASIS DE YARUSYACAN",
         "PASCO",
         "PASCO",
         -10.55035782,
         -76.21807241
        ],
        [
         180103,
         "CUCHUMBAYA",
         "MARISCAL NIETO",
         "MOQUEGUA",
         -16.75521278,
         -70.70017242
        ],
        [
         10205,
         "IMAZA",
         "BAGUA",
         "AMAZONAS",
         -5.018767643,
         -78.3144455
        ],
        [
         100603,
         "HERMILIO VALDIZAN",
         "LEONCIO PRADO",
         "HUÁNUCO",
         -9.158470018,
         -75.82137626
        ],
        [
         150808,
         "PACCHO",
         "HUAURA",
         "LIMA",
         -10.95786142,
         -76.94326401
        ],
        [
         80203,
         "ACOS",
         "ACOMAYO",
         "CUSCO",
         -13.9384449,
         -71.72688293
        ],
        [
         10505,
         "CONILA",
         "LUYA",
         "AMAZONAS",
         -6.159256935,
         -78.14202881
        ],
        [
         130605,
         "HUARANCHAL",
         "OTUZCO",
         "LA LIBERTAD",
         -7.710122363,
         -78.46070506
        ],
        [
         210709,
         "SANTA LUCIA",
         "LAMPA",
         "PUNO",
         -15.69953304,
         -70.63996294
        ],
        [
         100204,
         "CONCHAMARCA",
         "AMBO",
         "HUÁNUCO",
         -10.04863578,
         -76.23004675
        ],
        [
         50106,
         "OCROS",
         "HUAMANGA",
         "AYACUCHO",
         -13.42009576,
         -73.9264094
        ],
        [
         90304,
         "CCOCHACCASA",
         "ANGARAES",
         "HUANCAVELICA",
         -12.92669487,
         -74.78046163
        ],
        [
         240201,
         "ZORRITOS",
         "CONTRALMIRANTE VILLAR",
         "TUMBES",
         -3.68680199,
         -80.68441772
        ],
        [
         50618,
         "SAN PEDRO DE PALCO",
         "LUCANAS",
         "AYACUCHO",
         -14.39742708,
         -74.6195755
        ],
        [
         151018,
         "LARAOS",
         "YAUYOS",
         "LIMA",
         -12.34793091,
         -75.78671265
        ],
        [
         140112,
         "PIMENTEL",
         "CHICLAYO",
         "LAMBAYEQUE",
         -6.795802999,
         -79.8942131
        ],
        [
         140310,
         "SALAS",
         "LAMBAYEQUE",
         "LAMBAYEQUE",
         -6.243088414,
         -79.58954127
        ],
        [
         60702,
         "CHUGUR",
         "HUALGAYOC",
         "CAJAMARCA",
         -6.669491212,
         -78.71934764
        ],
        [
         60905,
         "NAMBALLE",
         "SAN IGNACIO",
         "CAJAMARCA",
         -5.072796643,
         -79.19164562
        ],
        [
         120607,
         "RIO NEGRO",
         "SATIPO",
         "JUNÍN",
         -11.16075773,
         -74.6733242
        ],
        [
         40514,
         "SAN ANTONIO DE CHUCA",
         "CAYLLOMA",
         "AREQUIPA",
         -15.87022305,
         -71.15375137
        ],
        [
         160110,
         "TORRES CAUSANA",
         "MAYNAS",
         "LORETO",
         -1.286996961,
         -74.90158463
        ],
        [
         210804,
         "LLALLI",
         "MELGAR",
         "PUNO",
         -14.9476347,
         -70.88034821
        ],
        [
         61305,
         "LA ESPERANZA",
         "SANTA CRUZ",
         "CAJAMARCA",
         -6.641823422,
         -78.83762082
        ],
        [
         80603,
         "COMBAPATA",
         "CANCHIS",
         "CUSCO",
         -14.08463128,
         -71.38799286
        ],
        [
         230303,
         "ITE",
         "JORGE BASADRE",
         "TACNA",
         -17.80624494,
         -70.9387755
        ],
        [
         50115,
         "JESUS NAZARENO",
         "HUAMANGA",
         "AYACUCHO",
         -13.13776398,
         -74.21422259
        ],
        [
         170303,
         "TAHUAMANU",
         "TAHUAMANU",
         "MADRE DE DIOS",
         -11.55671358,
         -69.27851105
        ],
        [
         120502,
         "CARHUAMAYO",
         "JUNÍN",
         "JUNÍN",
         -10.92908169,
         -76.0723877
        ],
        [
         150129,
         "SAN BARTOLO",
         "LIMA",
         "LIMA",
         -12.38234782,
         -76.77150917
        ],
        [
         21408,
         "SAN CRISTOBAL DE RAJAN",
         "OCROS",
         "ANCASH",
         -10.38610935,
         -77.21938324
        ],
        [
         100102,
         "AMARILIS",
         "HUÁNUCO",
         "HUÁNUCO",
         -9.9339594,
         -76.21342872
        ],
        [
         80606,
         "SAN PABLO",
         "CANCHIS",
         "CUSCO",
         -14.1829277,
         -71.2633812
        ],
        [
         50609,
         "LEONCIO PRADO",
         "LUCANAS",
         "AYACUCHO",
         -14.75419784,
         -74.66680908
        ],
        [
         80305,
         "HUAROCONDO",
         "ANTA",
         "CUSCO",
         -13.40157617,
         -72.20599784
        ],
        [
         180210,
         "UBINAS",
         "GENERAL SANCHEZ CERRO",
         "MOQUEGUA",
         -16.38616943,
         -70.8571167
        ],
        [
         221001,
         "TOCACHE",
         "TOCACHE",
         "SAN MARTÍN",
         -8.180403173,
         -76.52930641
        ],
        [
         20515,
         "TICLLOS",
         "BOLOGNESI",
         "ANCASH",
         -10.23057709,
         -77.18888245
        ],
        [
         30711,
         "TURPAY",
         "GRAU",
         "APURÍMAC",
         -14.22794056,
         -72.62226868
        ],
        [
         200402,
         "BUENOS AIRES",
         "MORROPON",
         "PIURA",
         -5.234137925,
         -79.97827981
        ],
        [
         20402,
         "ACOCHACA",
         "ASUNCION",
         "ANCASH",
         -9.102821032,
         -77.38044554
        ],
        [
         190109,
         "SIMON BOLIVAR",
         "PASCO",
         "PASCO",
         -10.72101325,
         -76.33466905
        ],
        [
         210503,
         "PILCUYO",
         "EL COLLAO",
         "PUNO",
         -16.12311148,
         -69.52010146
        ],
        [
         190105,
         "NINACACA",
         "PASCO",
         "PASCO",
         -10.8305436,
         -76.09196819
        ],
        [
         210403,
         "HUACULLANI",
         "CHUCUITO",
         "PUNO",
         -16.57173252,
         -69.36961365
        ],
        [
         101007,
         "SAN MIGUEL DE CAURI",
         "LAURICOCHA",
         "HUÁNUCO",
         -10.31515312,
         -76.68815308
        ],
        [
         160508,
         "SOPLIN",
         "REQUENA",
         "LORETO",
         -6.005060673,
         -73.69120789
        ],
        [
         60108,
         "LOS BAÑOS DEL INCA",
         "CAJAMARCA",
         "CAJAMARCA",
         -7.134971757,
         -78.47207682
        ],
        [
         90109,
         "LARIA",
         "HUANCAVELICA",
         "HUANCAVELICA",
         -12.55459293,
         -75.04722087
        ],
        [
         40123,
         "TIABAYA",
         "AREQUIPA",
         "AREQUIPA",
         -16.43562022,
         -71.59897267
        ],
        [
         10101,
         "CHACHAPOYAS",
         "CHACHAPOYAS",
         "AMAZONAS",
         -6.251183033,
         -77.88175117
        ],
        [
         120904,
         "HUACHAC",
         "CHUPACA",
         "JUNÍN",
         -12.03293678,
         -75.35168675
        ],
        [
         120701,
         "TARMA",
         "TARMA",
         "JUNÍN",
         -11.41952163,
         -75.70436096
        ],
        [
         90116,
         "VILCA",
         "HUANCAVELICA",
         "HUANCAVELICA",
         -12.47865963,
         -75.18691254
        ],
        [
         40508,
         "HUANCA",
         "CAYLLOMA",
         "AREQUIPA",
         -16.03286934,
         -71.87793732
        ],
        [
         130301,
         "BOLIVAR",
         "BOLIVAR",
         "LA LIBERTAD",
         -7.15473032,
         -77.70448303
        ],
        [
         30304,
         "JUAN ESPINOZA MEDRANO",
         "ANTABAMBA",
         "APURÍMAC",
         -14.42381001,
         -72.91679382
        ],
        [
         60408,
         "CONCHAN",
         "CHOTA",
         "CAJAMARCA",
         -6.453770161,
         -78.63775503
        ],
        [
         30605,
         "OCOBAMBA",
         "CHINCHEROS",
         "APURÍMAC",
         -13.51479607,
         -73.52989502
        ],
        [
         30409,
         "LUCRE",
         "AYMARAES",
         "APURÍMAC",
         -13.95033789,
         -73.23809433
        ],
        [
         21015,
         "SAN PEDRO DE CHANA",
         "HUARI",
         "ANCASH",
         -9.482297421,
         -77.00891749
        ],
        [
         150906,
         "PACHANGARA",
         "OYON",
         "LIMA",
         -10.82333231,
         -76.82237244
        ],
        [
         150132,
         "SAN JUAN DE LURIGANCHO",
         "LIMA",
         "LIMA",
         -12.02449894,
         -77.00263977
        ],
        [
         90606,
         "OCOYO",
         "HUAYTARA",
         "HUANCAVELICA",
         -14.01225527,
         -74.96825059
        ],
        [
         220904,
         "CHAZUTA",
         "SAN MARTÍN",
         "SAN MARTÍN",
         -6.574453379,
         -76.09427563
        ],
        [
         20109,
         "PAMPAS",
         "HUARAZ",
         "ANCASH",
         -9.635875463,
         -77.83973885
        ],
        [
         110501,
         "PISCO",
         "PISCO",
         "ICA",
         -13.69855613,
         -76.189466
        ],
        [
         150135,
         "SAN MARTÍN DE PORRES",
         "LIMA",
         "LIMA",
         -12.03038025,
         -77.04701233
        ],
        [
         210706,
         "PALCA",
         "LAMPA",
         "PUNO",
         -15.23883152,
         -70.57915497
        ],
        [
         40106,
         "CHIGUATA",
         "AREQUIPA",
         "AREQUIPA",
         -16.4025383,
         -71.3939209
        ],
        [
         211005,
         "SINA",
         "SAN ANTONIO DE PUTINA",
         "PUNO",
         -14.49673176,
         -69.27938843
        ],
        [
         110107,
         "PUEBLO NUEVO",
         "ICA",
         "ICA",
         -14.12417283,
         -75.6998427
        ],
        [
         60502,
         "CHILETE",
         "CONTUMAZA",
         "CAJAMARCA",
         -7.25189937,
         -78.82603505
        ],
        [
         210303,
         "AYAPATA",
         "CARABAYA",
         "PUNO",
         -13.74025263,
         -70.32287598
        ],
        [
         160505,
         "MAQUIA",
         "REQUENA",
         "LORETO",
         -5.768595139,
         -74.59875107
        ],
        [
         51012,
         "VILCANCHOS",
         "VICTOR FAJARDO",
         "AYACUCHO",
         -13.61378447,
         -74.51910718
        ],
        [
         90603,
         "CORDOVA",
         "HUAYTARA",
         "HUANCAVELICA",
         -13.99893665,
         -75.13951492
        ],
        [
         21907,
         "QUICHES",
         "SIHUAS",
         "ANCASH",
         -8.392878723,
         -77.51174774
        ],
        [
         10201,
         "BAGUA",
         "BAGUA",
         "AMAZONAS",
         -5.626817431,
         -78.49704306
        ],
        [
         220802,
         "AWAJUN",
         "RIOJA",
         "SAN MARTÍN",
         -5.799156401,
         -77.39257219
        ],
        [
         160101,
         "IQUITOS",
         "MAYNAS",
         "LORETO",
         -3.766208119,
         -73.35514662
        ],
        [
         80309,
         "ZURITE",
         "ANTA",
         "CUSCO",
         -13.47397505,
         -72.24211884
        ],
        [
         130602,
         "AGALLPAMPA",
         "OTUZCO",
         "LA LIBERTAD",
         -7.966463357,
         -78.50424528
        ],
        [
         50902,
         "BELEN",
         "SUCRE",
         "AYACUCHO",
         -13.80972004,
         -73.75798798
        ],
        [
         100404,
         "PINRA",
         "HUACAYBAMBA",
         "HUÁNUCO",
         -8.938013395,
         -77.03470612
        ],
        [
         120414,
         "LLOCLLAPAMPA",
         "JAUJA",
         "JUNÍN",
         -11.81894875,
         -75.62619019
        ],
        [
         220808,
         "YORONGOS",
         "RIOJA",
         "SAN MARTÍN",
         -6.13997736,
         -77.13986053
        ],
        [
         90507,
         "PAUCARBAMBA",
         "CHURCAMPA",
         "HUANCAVELICA",
         -12.55235806,
         -74.53391266
        ],
        [
         130805,
         "HUAYLILLAS",
         "PATAZ",
         "LA LIBERTAD",
         -8.208880067,
         -77.31709099
        ],
        [
         30201,
         "ANDAHUAYLAS",
         "ANDAHUAYLAS",
         "APURÍMAC",
         -13.69647952,
         -73.39354388
        ],
        [
         200501,
         "PAITA",
         "PAITA",
         "PIURA",
         -5.18926363,
         -81.12922363
        ],
        [
         211210,
         "SAN PEDRO DE PUTINA PUNCO",
         "SANDIA",
         "PUNO",
         -14.06351876,
         -68.97389412
        ],
        [
         230405,
         "SITAJARA",
         "TARATA",
         "TACNA",
         -17.38730621,
         -70.12337494
        ],
        [
         200409,
         "SANTO DOMINGO",
         "MORROPON",
         "PIURA",
         -5.019978364,
         -79.86866506
        ],
        [
         20304,
         "CHINGAS",
         "ANTONIO RAYMONDI",
         "ANCASH",
         -9.125803581,
         -77.01192122
        ],
        [
         60703,
         "HUALGAYOC",
         "HUALGAYOC",
         "CAJAMARCA",
         -6.745455041,
         -78.60736937
        ],
        [
         10105,
         "CHILIQUIN",
         "CHACHAPOYAS",
         "AMAZONAS",
         -6.073469957,
         -77.77877299
        ],
        [
         140117,
         "PATAPO",
         "CHICLAYO",
         "LAMBAYEQUE",
         -6.7388207,
         -79.60375155
        ],
        [
         130502,
         "CALAMARCA",
         "JULCAN",
         "LA LIBERTAD",
         -8.139234861,
         -78.38065592
        ],
        [
         120605,
         "PAMPA HERMOSA",
         "SATIPO",
         "JUNÍN",
         -11.36579151,
         -74.75769653
        ],
        [
         230205,
         "HUANUARA",
         "CANDARAVE",
         "TACNA",
         -17.32675044,
         -70.33855693
        ],
        [
         150124,
         "PUCUSANA",
         "LIMA",
         "LIMA",
         -12.462957,
         -76.78644791
        ],
        [
         40108,
         "LA JOYA",
         "AREQUIPA",
         "AREQUIPA",
         -16.53717436,
         -71.8419184
        ],
        [
         90409,
         "MOLLEPAMPA",
         "CASTROVIRREYNA",
         "HUANCAVELICA",
         -13.30550134,
         -75.4202652
        ],
        [
         80909,
         "VILCABAMBA",
         "LA CONVENCION",
         "CUSCO",
         -13.05131425,
         -72.96329699
        ],
        [
         90303,
         "CALLANMARCA",
         "ANGARAES",
         "HUANCAVELICA",
         -12.88983212,
         -74.6311203
        ],
        [
         50104,
         "CARMEN ALTO",
         "HUAMANGA",
         "AYACUCHO",
         -13.17635632,
         -74.22559357
        ],
        [
         90412,
         "TANTARA",
         "CASTROVIRREYNA",
         "HUANCAVELICA",
         -13.07424068,
         -75.64550018
        ],
        [
         60104,
         "COSPAN",
         "CAJAMARCA",
         "CAJAMARCA",
         -7.438993772,
         -78.50772858
        ],
        [
         160302,
         "PARINARI",
         "LORETO",
         "LORETO",
         -4.624797412,
         -74.3884855
        ],
        [
         90703,
         "ACRAQUIA",
         "TAYACAJA",
         "HUANCAVELICA",
         -12.39889921,
         -74.9216908
        ],
        [
         61003,
         "EDUARDO VILLANUEVA",
         "SAN MARCOS",
         "CAJAMARCA",
         -7.455127001,
         -78.14942837
        ],
        [
         100201,
         "AMBO",
         "AMBO",
         "HUÁNUCO",
         -10.12925885,
         -76.19010389
        ],
        [
         81106,
         "KOSÑIPATA",
         "PAUCARTAMBO",
         "CUSCO",
         -12.98929071,
         -71.39337285
        ],
        [
         200804,
         "CRISTO NOS VALGA",
         "SECHURA",
         "PIURA",
         -5.495821476,
         -80.73971748
        ],
        [
         20803,
         "COMANDANTE NOEL",
         "CASMA",
         "ANCASH",
         -9.43714538,
         -78.37110021
        ],
        [
         30601,
         "CHINCHEROS",
         "CHINCHEROS",
         "APURÍMAC",
         -13.53194631,
         -73.7379837
        ],
        [
         60601,
         "CUTERVO",
         "CUTERVO",
         "CAJAMARCA",
         -6.385787584,
         -78.84399274
        ],
        [
         61309,
         "SEXI",
         "SANTA CRUZ",
         "CAJAMARCA",
         -6.563547532,
         -79.02312342
        ],
        [
         150203,
         "PATIVILCA",
         "BARRANCA",
         "LIMA",
         -10.70265102,
         -77.77874088
        ],
        [
         21202,
         "HUALLANCA",
         "HUAYLAS",
         "ANCASH",
         -8.773782492,
         -77.9255085
        ],
        [
         210305,
         "CORANI",
         "CARABAYA",
         "PUNO",
         -13.88768355,
         -70.59680176
        ],
        [
         21905,
         "CHINGALPO",
         "SIHUAS",
         "ANCASH",
         -8.3394804,
         -77.59941101
        ],
        [
         220206,
         "SAN RAFAEL",
         "BELLAVISTA",
         "SAN MARTÍN",
         -7.019777565,
         -76.47852417
        ],
        [
         90306,
         "CONGALLA",
         "ANGARAES",
         "HUANCAVELICA",
         -12.95710979,
         -74.54981052
        ],
        [
         80802,
         "CONDOROMA",
         "ESPINAR",
         "CUSCO",
         -15.29105616,
         -71.14241982
        ],
        [
         140103,
         "ETEN",
         "CHICLAYO",
         "LAMBAYEQUE",
         -6.90503033,
         -79.84975815
        ],
        [
         20512,
         "MANGAS",
         "BOLOGNESI",
         "ANCASH",
         -10.36010933,
         -77.10990767
        ],
        [
         60808,
         "PUCARA",
         "JAEN",
         "CAJAMARCA",
         -6.038758755,
         -79.11485726
        ],
        [
         210215,
         "TIRAPATA",
         "AZANGARO",
         "PUNO",
         -14.95919156,
         -70.37532043
        ],
        [
         30401,
         "CHALHUANCA",
         "AYMARAES",
         "APURÍMAC",
         -14.29855429,
         -73.23634286
        ],
        [
         60410,
         "LAJAS",
         "CHOTA",
         "CAJAMARCA",
         -6.546735846,
         -78.73362758
        ],
        [
         150505,
         "CHILCA",
         "CAÑETE",
         "LIMA",
         -12.50222713,
         -76.74290227
        ],
        [
         130403,
         "PUEBLO NUEVO",
         "CHEPEN",
         "LA LIBERTAD",
         -7.205603361,
         -79.49537277
        ],
        [
         210104,
         "ATUNCOLLA",
         "PUNO",
         "PUNO",
         -15.67894003,
         -70.14174143
        ],
        [
         90207,
         "POMACOCHA",
         "ACOBAMBA",
         "HUANCAVELICA",
         -12.85862596,
         -74.52952685
        ],
        [
         40126,
         "YANAHUARA",
         "AREQUIPA",
         "AREQUIPA",
         -16.39525986,
         -71.55413055
        ],
        [
         220701,
         "PICOTA",
         "PICOTA",
         "SAN MARTÍN",
         -6.922444815,
         -76.32533334
        ],
        [
         200404,
         "LA MATANZA",
         "MORROPON",
         "PIURA",
         -5.215334155,
         -80.1006331
        ],
        [
         40501,
         "CHIVAY",
         "CAYLLOMA",
         "AREQUIPA",
         -15.6303872,
         -71.58992259
        ],
        [
         220907,
         "HUIMBAYOC",
         "SAN MARTÍN",
         "SAN MARTÍN",
         -6.425174356,
         -75.77823257
        ],
        [
         81103,
         "CHALLABAMBA",
         "PAUCARTAMBO",
         "CUSCO",
         -13.23010794,
         -71.63665517
        ],
        [
         120209,
         "MARISCAL CASTILLA",
         "CONCEPCION",
         "JUNÍN",
         -11.61606979,
         -75.09417725
        ],
        [
         60411,
         "LLAMA",
         "CHOTA",
         "CAJAMARCA",
         -6.554875374,
         -79.14549561
        ],
        [
         100205,
         "HUACAR",
         "AMBO",
         "HUÁNUCO",
         -10.17757064,
         -76.24732971
        ],
        [
         120117,
         "HUALHUAS",
         "HUANCAYO",
         "JUNÍN",
         -11.96898603,
         -75.25255203
        ],
        [
         120608,
         "RIO TAMBO",
         "SATIPO",
         "JUNÍN",
         -11.14593813,
         -73.99343142
        ],
        [
         60107,
         "LLACANORA",
         "CAJAMARCA",
         "CAJAMARCA",
         -7.193721839,
         -78.43672289
        ],
        [
         100606,
         "MARIANO DAMASO BERAUN",
         "LEONCIO PRADO",
         "HUÁNUCO",
         -9.355823612,
         -75.95340652
        ],
        [
         50505,
         "CHUNGUI",
         "LA MAR",
         "AYACUCHO",
         -13.18605518,
         -73.51942062
        ],
        [
         150514,
         "SAN LUIS",
         "CAÑETE",
         "LIMA",
         -13.0436458,
         -76.42150029
        ],
        [
         21010,
         "PAUCAS",
         "HUARI",
         "ANCASH",
         -9.151531724,
         -76.90886778
        ],
        [
         100505,
         "JIRCAN",
         "HUAMALIES",
         "HUÁNUCO",
         -9.250411314,
         -76.71608196
        ],
        [
         60902,
         "CHIRINOS",
         "SAN IGNACIO",
         "CAJAMARCA",
         -5.314303875,
         -78.88710954
        ],
        [
         60413,
         "PACCHA",
         "CHOTA",
         "CAJAMARCA",
         -6.525083542,
         -78.39794769
        ],
        [
         230108,
         "POCOLLAY",
         "TACNA",
         "TACNA",
         -17.98760382,
         -70.21348063
        ],
        [
         50509,
         "SAMUGARI",
         "LA MAR",
         "AYACUCHO",
         -12.79381847,
         -73.65138435
        ],
        [
         80905,
         "OCOBAMBA",
         "LA CONVENCION",
         "CUSCO",
         -12.8099054,
         -72.42137215
        ],
        [
         150810,
         "SANTA MARIA",
         "HUAURA",
         "LIMA",
         -11.08565267,
         -77.56754303
        ],
        [
         120424,
         "PANCAN",
         "JAUJA",
         "JUNÍN",
         -11.75588632,
         -75.49206543
        ],
        [
         21902,
         "ACOBAMBA",
         "SIHUAS",
         "ANCASH",
         -8.320329984,
         -77.57542928
        ],
        [
         50708,
         "UPAHUACHO",
         "PARINACOCHAS",
         "AYACUCHO",
         -14.87059053,
         -73.44638062
        ],
        [
         151007,
         "CARANIA",
         "YAUYOS",
         "LIMA",
         -12.34438896,
         -75.87068176
        ],
        [
         110111,
         "SANTIAGO",
         "ICA",
         "ICA",
         -14.22551034,
         -75.68864588
        ],
        [
         81301,
         "URUBAMBA",
         "URUBAMBA",
         "CUSCO",
         -13.283063,
         -72.144278
        ],
        [
         61302,
         "ANDABAMBA",
         "SANTA CRUZ",
         "CAJAMARCA",
         -6.662754854,
         -78.81275876
        ],
        [
         120213,
         "ORCOTUNA",
         "CONCEPCION",
         "JUNÍN",
         -11.96177912,
         -75.31416321
        ],
        [
         150713,
         "MARIATANA",
         "HUAROCHIRI",
         "LIMA",
         -12.23719215,
         -76.3258667
        ],
        [
         40704,
         "ISLAY",
         "ISLAY",
         "AREQUIPA",
         -16.99984741,
         -72.09805298
        ],
        [
         120709,
         "TAPO",
         "TARMA",
         "JUNÍN",
         -11.40831463,
         -75.55045905
        ],
        [
         110305,
         "VISTA ALEGRE",
         "NAZCA",
         "ICA",
         -14.89630731,
         -74.93950907
        ],
        [
         130812,
         "TAURIJA",
         "PATAZ",
         "LA LIBERTAD",
         -8.285010338,
         -77.42380778
        ],
        [
         150138,
         "SANTA MARIA DEL MAR",
         "LIMA",
         "LIMA",
         -12.40703106,
         -76.77371597
        ],
        [
         150802,
         "AMBAR",
         "HUAURA",
         "LIMA",
         -10.75636292,
         -77.2719574
        ],
        [
         50909,
         "SAN SALVADOR DE QUIJE",
         "SUCRE",
         "AYACUCHO",
         -13.9705286,
         -73.73140717
        ],
        [
         220202,
         "ALTO BIAVO",
         "BELLAVISTA",
         "SAN MARTÍN",
         -7.49287653,
         -76.38499146
        ],
        [
         250202,
         "SEPAHUA",
         "ATALAYA",
         "UCAYALI",
         -11.12151647,
         -73.05612659
        ],
        [
         80403,
         "LAMAY",
         "CALCA",
         "CUSCO",
         -13.34405216,
         -71.9015859
        ],
        [
         80911,
         "INKAWASI",
         "LA CONVENCION",
         "CUSCO",
         -13.28527451,
         -73.29410553
        ],
        [
         51003,
         "APONGO",
         "VICTOR FAJARDO",
         "AYACUCHO",
         -14.01485634,
         -73.93431091
        ],
        [
         131203,
         "GUADALUPITO",
         "VIRU",
         "LA LIBERTAD",
         -8.809240341,
         -78.64125443
        ],
        [
         200104,
         "CASTILLA",
         "PIURA",
         "PIURA",
         -5.11818924,
         -80.57196655
        ],
        [
         120805,
         "MOROCOCHA",
         "YAULI",
         "JUNÍN",
         -11.59547833,
         -76.09701756
        ],
        [
         40509,
         "ICHUPAMPA",
         "CAYLLOMA",
         "AREQUIPA",
         -15.64698855,
         -71.69337209
        ],
        [
         20907,
         "YUPAN",
         "CORONGO",
         "ANCASH",
         -8.615263939,
         -77.96617889
        ],
        [
         150117,
         "LOS OLIVOS",
         "LIMA",
         "LIMA",
         -11.98293877,
         -77.06958008
        ],
        [
         120106,
         "CHICCHE",
         "HUANCAYO",
         "JUNÍN",
         -12.30169153,
         -75.32032394
        ],
        [
         150610,
         "SANTA CRUZ DE ANDAMARCA",
         "HUARAL",
         "LIMA",
         -11.16776609,
         -76.62911987
        ],
        [
         50613,
         "OTOCA",
         "LUCANAS",
         "AYACUCHO",
         -14.51438745,
         -74.69782511
        ],
        [
         61111,
         "SAN SILVESTRE DE COCHAN",
         "SAN MIGUEL",
         "CAJAMARCA",
         -6.969765186,
         -78.77559771
        ],
        [
         90510,
         "PACHAMARCA",
         "CHURCAMPA",
         "HUANCAVELICA",
         -12.51451921,
         -74.51956558
        ],
        [
         130705,
         "SAN JOSE",
         "PACASMAYO",
         "LA LIBERTAD",
         -7.344844038,
         -79.43516575
        ],
        [
         180106,
         "TORATA",
         "MARISCAL NIETO",
         "MOQUEGUA",
         -17.06535695,
         -70.80950962
        ],
        [
         110114,
         "YAUCA DEL ROSARIO",
         "ICA",
         "ICA",
         -14.07916737,
         -75.43997955
        ],
        [
         151004,
         "AYAVIRI",
         "YAUYOS",
         "LIMA",
         -12.38243294,
         -76.13722992
        ],
        [
         160603,
         "PADRE MARQUEZ",
         "UCAYALI",
         "LORETO",
         -7.877267933,
         -74.87630615
        ],
        [
         50403,
         "HUAMANGUILLA",
         "HUANTA",
         "AYACUCHO",
         -13.01721752,
         -74.15668583
        ],
        [
         80408,
         "YANATILE",
         "CALCA",
         "CUSCO",
         -12.73809109,
         -72.199705
        ],
        [
         21707,
         "PAMPAS CHICO",
         "RECUAY",
         "ANCASH",
         -10.14213753,
         -77.36914291
        ],
        [
         61112,
         "TONGOD",
         "SAN MIGUEL",
         "CAJAMARCA",
         -6.743936857,
         -78.82565053
        ],
        [
         60612,
         "SANTO DOMINGO DE LA CAPILLA",
         "CUTERVO",
         "CAJAMARCA",
         -6.237812621,
         -78.85394124
        ],
        [
         131104,
         "SAYAPULLO",
         "GRAN CHIMU",
         "LA LIBERTAD",
         -7.580179294,
         -78.49298731
        ],
        [
         80506,
         "PAMPAMARCA",
         "CANAS",
         "CUSCO",
         -14.12929167,
         -71.44502422
        ],
        [
         120707,
         "PALCAMAYO",
         "TARMA",
         "JUNÍN",
         -11.29682854,
         -75.77696337
        ],
        [
         150729,
         "SANTIAGO DE ANCHUCAYA",
         "HUAROCHIRI",
         "LIMA",
         -12.09546089,
         -76.23042297
        ],
        [
         210112,
         "PLATERIA",
         "PUNO",
         "PUNO",
         -15.93117805,
         -69.8185185
        ],
        [
         60610,
         "SAN LUIS DE LUCMA",
         "CUTERVO",
         "CAJAMARCA",
         -6.273770173,
         -78.60352834
        ],
        [
         60311,
         "UTCO",
         "CELENDIN",
         "CAJAMARCA",
         -6.871576854,
         -78.08981105
        ],
        [
         40702,
         "COCACHACRA",
         "ISLAY",
         "AREQUIPA",
         -17.05561161,
         -71.71902084
        ],
        [
         220404,
         "PISCOYACU",
         "HUALLAGA",
         "SAN MARTÍN",
         -6.976921201,
         -76.76655769
        ],
        [
         150137,
         "SANTA ANITA",
         "LIMA",
         "LIMA",
         -12.04350853,
         -76.98526764
        ],
        [
         230104,
         "CIUDAD NUEVA",
         "TACNA",
         "TACNA",
         -17.97513771,
         -70.23852921
        ],
        [
         101001,
         "JESUS",
         "LAURICOCHA",
         "HUÁNUCO",
         -10.07205137,
         -76.6623586
        ],
        [
         110502,
         "HUANCANO",
         "PISCO",
         "ICA",
         -13.59972239,
         -75.60849762
        ],
        [
         60101,
         "CAJAMARCA",
         "CAJAMARCA",
         "CAJAMARCA",
         -7.132993802,
         -78.53947409
        ],
        [
         51108,
         "VISCHONGO",
         "VILCAS HUAMAN",
         "AYACUCHO",
         -13.60587815,
         -73.99228232
        ],
        [
         30407,
         "HUAYLLO",
         "AYMARAES",
         "APURÍMAC",
         -14.10728002,
         -73.25088692
        ],
        [
         90201,
         "ACOBAMBA",
         "ACOBAMBA",
         "HUANCAVELICA",
         -12.83048431,
         -74.57419037
        ],
        [
         110506,
         "SAN ANDRES",
         "PISCO",
         "ICA",
         -13.74013774,
         -76.175362
        ],
        [
         150119,
         "LURIN",
         "LIMA",
         "LIMA",
         -12.27349079,
         -76.84958172
        ],
        [
         220201,
         "BELLAVISTA",
         "BELLAVISTA",
         "SAN MARTÍN",
         -7.022615245,
         -76.59093059
        ],
        [
         21508,
         "PALLASCA",
         "PALLASCA",
         "ANCASH",
         -8.294633627,
         -78.02538586
        ],
        [
         21809,
         "NUEVO CHIMBOTE",
         "SANTA",
         "ANCASH",
         -9.131424308,
         -78.52632523
        ],
        [
         131005,
         "MOLLEPATA",
         "SANTIAGO DE CHUCO",
         "LA LIBERTAD",
         -8.171290398,
         -77.95321655
        ],
        [
         30219,
         "KAQUIABAMBA",
         "ANDAHUAYLAS",
         "APURÍMAC",
         -13.54214859,
         -73.28639221
        ],
        [
         50111,
         "SANTIAGO DE PISCHA",
         "HUAMANGA",
         "AYACUCHO",
         -13.05200895,
         -74.34718323
        ],
        [
         50105,
         "CHIARA",
         "HUAMANGA",
         "AYACUCHO",
         -13.43388128,
         -74.19892883
        ],
        [
         80607,
         "SAN PEDRO",
         "CANCHIS",
         "CUSCO",
         -14.18421865,
         -71.33965874
        ],
        [
         160202,
         "BALSAPUERTO",
         "ALTO AMAZONAS",
         "LORETO",
         -5.743264675,
         -76.54461956
        ],
        [
         10609,
         "OMIA",
         "RODRIGUEZ DE MENDOZA",
         "AMAZONAS",
         -6.445689551,
         -77.3521052
        ],
        [
         60109,
         "MAGDALENA",
         "CAJAMARCA",
         "CAJAMARCA",
         -7.249719322,
         -78.63692665
        ],
        [
         210904,
         "TILALI",
         "MOHO",
         "PUNO",
         -15.50954216,
         -69.35651849
        ],
        [
         220601,
         "JUANJUI",
         "MARISCAL CACERES",
         "SAN MARTÍN",
         -7.179712631,
         -76.73376578
        ],
        [
         10503,
         "COCABAMBA",
         "LUYA",
         "AMAZONAS",
         -6.634172153,
         -78.01167755
        ],
        [
         10116,
         "OLLEROS",
         "CHACHAPOYAS",
         "AMAZONAS",
         -6.020827293,
         -77.68523407
        ],
        [
         151015,
         "HUANGASCAR",
         "YAUYOS",
         "LIMA",
         -12.89960384,
         -75.83113098
        ],
        [
         80804,
         "OCORURO",
         "ESPINAR",
         "CUSCO",
         -14.94407368,
         -71.20650482
        ],
        [
         81209,
         "MARCAPATA",
         "QUISPICANCHI",
         "CUSCO",
         -13.52977276,
         -70.92548752
        ],
        [
         30217,
         "TUMAY HUARACA",
         "ANDAHUAYLAS",
         "APURÍMAC",
         -14.05301857,
         -73.56603241
        ],
        [
         30706,
         "MICAELA BASTIDAS",
         "GRAU",
         "APURÍMAC",
         -14.11522102,
         -72.61440277
        ],
        [
         110301,
         "NAZCA",
         "NAZCA",
         "ICA",
         -14.82627613,
         -74.93761097
        ],
        [
         90301,
         "LIRCAY",
         "ANGARAES",
         "HUANCAVELICA",
         -13.08130347,
         -74.71265132
        ],
        [
         110202,
         "ALTO LARAN",
         "CHINCHA",
         "ICA",
         -13.45313553,
         -76.10175323
        ],
        [
         80306,
         "LIMATAMBO",
         "ANTA",
         "CUSCO",
         -13.47868712,
         -72.44631195
        ],
        [
         130804,
         "HUANCASPATA",
         "PATAZ",
         "LA LIBERTAD",
         -8.459953444,
         -77.26396724
        ],
        [
         21103,
         "CULEBRAS",
         "HUARMEY",
         "ANCASH",
         -9.94454689,
         -78.21295929
        ],
        [
         101101,
         "CHAVINILLO",
         "YAROWILCA",
         "HUÁNUCO",
         -9.859212786,
         -76.59799981
        ],
        [
         240302,
         "AGUAS VERDES",
         "ZARUMILLA",
         "TUMBES",
         -3.50833199,
         -80.24496765
        ],
        [
         50610,
         "LLAUTA",
         "LUCANAS",
         "AYACUCHO",
         -14.2436676,
         -74.92008209
        ],
        [
         150902,
         "ANDAJES",
         "OYON",
         "LIMA",
         -10.80468249,
         -76.88586807
        ],
        [
         130907,
         "SARIN",
         "SANCHEZ CARRION",
         "LA LIBERTAD",
         -7.937389493,
         -77.92457199
        ],
        [
         40402,
         "ANDAGUA",
         "CASTILLA",
         "AREQUIPA",
         -15.49894905,
         -72.35562134
        ],
        [
         211306,
         "TINICACHI",
         "YUNGUYO",
         "PUNO",
         -16.1985054,
         -68.96205139
        ],
        [
         30712,
         "VILCABAMBA",
         "GRAU",
         "APURÍMAC",
         -14.07782555,
         -72.62507629
        ],
        [
         21806,
         "NEPEÑA",
         "SANTA",
         "ANCASH",
         -9.182925311,
         -78.33552343
        ],
        [
         210204,
         "ASILLO",
         "AZANGARO",
         "PUNO",
         -14.75220927,
         -70.35189738
        ],
        [
         10305,
         "CUISPES",
         "BONGARA",
         "AMAZONAS",
         -5.914101887,
         -77.93677979
        ],
        [
         130610,
         "PARANDAY",
         "OTUZCO",
         "LA LIBERTAD",
         -7.886456649,
         -78.71057765
        ],
        [
         150702,
         "ANTIOQUIA",
         "HUAROCHIRI",
         "LIMA",
         -12.04437542,
         -76.62030029
        ],
        [
         120429,
         "SAN PEDRO DE CHUNAN",
         "JAUJA",
         "JUNÍN",
         -11.7247235,
         -75.48546092
        ],
        [
         120136,
         "VIQUES",
         "HUANCAYO",
         "JUNÍN",
         -12.1649278,
         -75.23249054
        ],
        [
         240104,
         "PAMPAS DE HOSPITAL",
         "TUMBES",
         "TUMBES",
         -3.709653689,
         -80.42817688
        ],
        [
         10605,
         "LIMABAMBA",
         "RODRIGUEZ DE MENDOZA",
         "AMAZONAS",
         -6.496166945,
         -77.54857635
        ],
        [
         80702,
         "CAPACMARCA",
         "CHUMBIVILCAS",
         "CUSCO",
         -14.05315447,
         -72.02258301
        ],
        [
         10612,
         "VISTA ALEGRE",
         "RODRIGUEZ DE MENDOZA",
         "AMAZONAS",
         -6.150550842,
         -77.30338287
        ],
        [
         20905,
         "LA PAMPA",
         "CORONGO",
         "ANCASH",
         -8.664652348,
         -77.89385033
        ],
        [
         50621,
         "SANTA LUCIA",
         "LUCANAS",
         "AYACUCHO",
         -15.047019,
         -74.50344849
        ],
        [
         60701,
         "BAMBAMARCA",
         "HUALGAYOC",
         "CAJAMARCA",
         -6.705860159,
         -78.50500103
        ],
        [
         150812,
         "VEGUETA",
         "HUAURA",
         "LIMA",
         -10.97310732,
         -77.6303385
        ],
        [
         130604,
         "CHARAT",
         "OTUZCO",
         "LA LIBERTAD",
         -7.807068793,
         -78.4721522
        ],
        [
         100104,
         "CHURUBAMBA",
         "HUÁNUCO",
         "HUÁNUCO",
         -9.777218773,
         -76.19377427
        ],
        [
         100804,
         "UMARI",
         "PACHITEA",
         "HUÁNUCO",
         -9.870718193,
         -76.0255427
        ],
        [
         20608,
         "SAN MIGUEL DE ACO",
         "CARHUAZ",
         "ANCASH",
         -9.362504959,
         -77.54742432
        ],
        [
         240106,
         "SAN JUAN DE LA VIRGEN",
         "TUMBES",
         "TUMBES",
         -3.632121146,
         -80.43078804
        ],
        [
         51006,
         "CAYARA",
         "VICTOR FAJARDO",
         "AYACUCHO",
         -13.79555035,
         -73.99067688
        ],
        [
         10403,
         "RIO SANTIAGO",
         "CONDORCANQUI",
         "AMAZONAS",
         -3.889146268,
         -77.76084137
        ],
        [
         60308,
         "OXAMARCA",
         "CELENDIN",
         "CAJAMARCA",
         -7.055898094,
         -78.07916718
        ],
        [
         211302,
         "ANAPIA",
         "YUNGUYO",
         "PUNO",
         -16.32267857,
         -68.85256958
        ],
        [
         150108,
         "CHORRILLOS",
         "LIMA",
         "LIMA",
         -12.17442894,
         -77.02481842
        ],
        [
         250401,
         "PURUS",
         "PURUS",
         "UCAYALI",
         -9.772644043,
         -70.7098465
        ],
        [
         10307,
         "JAZAN",
         "BONGARA",
         "AMAZONAS",
         -5.948590922,
         -77.98728714
        ],
        [
         200114,
         "TAMBO GRANDE",
         "PIURA",
         "PIURA",
         -4.901598444,
         -80.35227306
        ],
        [
         60112,
         "SAN JUAN",
         "CAJAMARCA",
         "CAJAMARCA",
         -7.277516286,
         -78.50002755
        ],
        [
         50108,
         "QUINUA",
         "HUAMANGA",
         "AYACUCHO",
         -13.06832635,
         -74.14218998
        ],
        [
         100208,
         "TOMAY KICHWA",
         "AMBO",
         "HUÁNUCO",
         -10.07056537,
         -76.20315431
        ],
        [
         110210,
         "SUNAMPE",
         "CHINCHA",
         "ICA",
         -13.43095452,
         -76.16747611
        ],
        [
         131002,
         "ANGASMARCA",
         "SANTIAGO DE CHUCO",
         "LA LIBERTAD",
         -8.122242791,
         -78.0538123
        ],
        [
         40311,
         "LOMAS",
         "CARAVELI",
         "AREQUIPA",
         -15.40094471,
         -74.89516068
        ],
        [
         40303,
         "ATICO",
         "CARAVELI",
         "AREQUIPA",
         -16.22471237,
         -73.62120438
        ],
        [
         160801,
         "PUTUMAYO",
         "PUTUMAYO",
         "LORETO",
         -2.449649811,
         -72.65561676
        ],
        [
         150111,
         "EL AGUSTINO",
         "LIMA",
         "LIMA",
         -12.0434618,
         -76.99877167
        ],
        [
         150103,
         "ATE",
         "LIMA",
         "LIMA",
         -12.02571964,
         -76.92420959
        ],
        [
         21001,
         "HUARI",
         "HUARI",
         "ANCASH",
         -9.315368921,
         -77.17545295
        ],
        [
         150502,
         "ASIA",
         "CAÑETE",
         "LIMA",
         -12.78118882,
         -76.58306998
        ],
        [
         10202,
         "ARAMANGO",
         "BAGUA",
         "AMAZONAS",
         -5.436345986,
         -78.43607003
        ],
        [
         200308,
         "SONDORILLO",
         "HUANCABAMBA",
         "PIURA",
         -5.340946198,
         -79.46687012
        ],
        [
         51103,
         "CARHUANCA",
         "VILCAS HUAMAN",
         "AYACUCHO",
         -13.74772406,
         -73.79711151
        ],
        [
         21709,
         "TAPACOCHA",
         "RECUAY",
         "ANCASH",
         -10.00441694,
         -77.57446671
        ],
        [
         210606,
         "ROSASPATA",
         "HUANCANE",
         "PUNO",
         -15.2159977,
         -69.47526932
        ],
        [
         61104,
         "CATILLUC",
         "SAN MIGUEL",
         "CAJAMARCA",
         -6.797559977,
         -78.76781845
        ],
        [
         50612,
         "OCAÑA",
         "LUCANAS",
         "AYACUCHO",
         -14.36834955,
         -74.80007935
        ],
        [
         200503,
         "ARENAL",
         "PAITA",
         "PIURA",
         -4.900835037,
         -81.02523041
        ],
        [
         90509,
         "SAN PEDRO DE CORIS",
         "CHURCAMPA",
         "HUANCAVELICA",
         -12.59532642,
         -74.41964467
        ],
        [
         120419,
         "MONOBAMBA",
         "JAUJA",
         "JUNÍN",
         -11.36067486,
         -75.32795715
        ],
        [
         200507,
         "VICHAYAL",
         "PAITA",
         "PIURA",
         -4.864456654,
         -81.07183075
        ],
        [
         160702,
         "CAHUAPANAS",
         "DATEM DEL MARAÑON",
         "LORETO",
         -5.344348907,
         -76.92145538
        ],
        [
         120422,
         "PACA",
         "JAUJA",
         "JUNÍN",
         -11.6919241,
         -75.52502136
        ],
        [
         40601,
         "CHUQUIBAMBA",
         "CONDESUYOS",
         "AREQUIPA",
         -15.83033895,
         -72.64692841
        ],
        [
         230408,
         "TICACO",
         "TARATA",
         "TACNA",
         -17.43707689,
         -70.04743958
        ],
        [
         240101,
         "TUMBES",
         "TUMBES",
         "TUMBES",
         -3.551926647,
         -80.41350664
        ],
        [
         250107,
         "MANANTAY",
         "CORONEL PORTILLO",
         "UCAYALI",
         -8.439033127,
         -74.53781281
        ],
        [
         101103,
         "CHACABAMBA",
         "YAROWILCA",
         "HUÁNUCO",
         -9.890237384,
         -76.61880366
        ],
        [
         50904,
         "CHILCAYOC",
         "SUCRE",
         "AYACUCHO",
         -13.88271713,
         -73.72753143
        ],
        [
         120412,
         "JULCAN",
         "JAUJA",
         "JUNÍN",
         -11.76405716,
         -75.43026733
        ],
        [
         40313,
         "YAUCA",
         "CARAVELI",
         "AREQUIPA",
         -15.66168118,
         -74.52744293
        ],
        [
         30212,
         "SAN ANTONIO DE CACHI",
         "ANDAHUAYLAS",
         "APURÍMAC",
         -13.79300626,
         -73.63239543
        ],
        [
         40403,
         "AYO",
         "CASTILLA",
         "AREQUIPA",
         -15.68237495,
         -72.27243042
        ],
        [
         40515,
         "SIBAYO",
         "CAYLLOMA",
         "AREQUIPA",
         -15.48657036,
         -71.4573822
        ],
        [
         220705,
         "PUCACACA",
         "PICOTA",
         "SAN MARTÍN",
         -6.858854793,
         -76.32522619
        ],
        [
         81208,
         "LUCRE",
         "QUISPICANCHI",
         "CUSCO",
         -13.61573452,
         -71.72674476
        ],
        [
         120604,
         "MAZAMARI",
         "SATIPO",
         "JUNÍN",
         -11.31867569,
         -74.50976389
        ],
        [
         200705,
         "LOS ORGANOS",
         "TALARA",
         "PIURA",
         -4.166741371,
         -81.12615128
        ],
        [
         51101,
         "VILCAS HUAMAN",
         "VILCAS HUAMAN",
         "AYACUCHO",
         -13.65184426,
         -73.93672434
        ],
        [
         50604,
         "CARMEN SALCEDO",
         "LUCANAS",
         "AYACUCHO",
         -14.38749409,
         -73.96214294
        ],
        [
         150118,
         "LURIGANCHO",
         "LIMA",
         "LIMA",
         -11.93741035,
         -76.70381165
        ],
        [
         30210,
         "PAMPACHIRI",
         "ANDAHUAYLAS",
         "APURÍMAC",
         -14.18707561,
         -73.54451752
        ],
        [
         21708,
         "PARARIN",
         "RECUAY",
         "ANCASH",
         -10.04658604,
         -77.67504501
        ],
        [
         30702,
         "CURPAHUASI",
         "GRAU",
         "APURÍMAC",
         -14.04315281,
         -72.63820267
        ],
        [
         150405,
         "LACHAQUI",
         "CANTA",
         "LIMA",
         -11.55290222,
         -76.62718201
        ],
        [
         120120,
         "HUASICANCHA",
         "HUANCAYO",
         "JUNÍN",
         -12.33185673,
         -75.28217316
        ],
        [
         230301,
         "LOCUMBA",
         "JORGE BASADRE",
         "TACNA",
         -17.61682268,
         -70.78694985
        ],
        [
         130401,
         "CHEPEN",
         "CHEPEN",
         "LA LIBERTAD",
         -7.270282355,
         -79.38622353
        ],
        [
         30101,
         "ABANCAY",
         "ABANCAY",
         "APURÍMAC",
         -13.63519508,
         -72.88523379
        ],
        [
         81303,
         "HUAYLLABAMBA",
         "URUBAMBA",
         "CUSCO",
         -13.34060367,
         -72.06556384
        ],
        [
         50402,
         "AYAHUANCO",
         "HUANTA",
         "AYACUCHO",
         -12.50474429,
         -74.39566612
        ],
        [
         220509,
         "SHANAO",
         "LAMAS",
         "SAN MARTÍN",
         -6.40060867,
         -76.58358903
        ],
        [
         200208,
         "SAPILLICA",
         "AYABACA",
         "PIURA",
         -4.821030736,
         -79.98479843
        ],
        [
         21504,
         "HUACASCHUQUE",
         "PALLASCA",
         "ANCASH",
         -8.298246225,
         -78.00176239
        ],
        [
         100502,
         "ARANCAY",
         "HUAMALIES",
         "HUÁNUCO",
         -9.171587944,
         -76.75021362
        ],
        [
         150303,
         "GORGOR",
         "CAJATAMBO",
         "LIMA",
         -10.62188435,
         -77.04139709
        ],
        [
         150703,
         "CALLAHUANCA",
         "HUAROCHIRI",
         "LIMA",
         -11.82647896,
         -76.61853027
        ],
        [
         120104,
         "CARHUACALLANGA",
         "HUANCAYO",
         "JUNÍN",
         -12.35455036,
         -75.20339203
        ],
        [
         20501,
         "CHIQUIAN",
         "BOLOGNESI",
         "ANCASH",
         -10.15235678,
         -77.16687063
        ],
        [
         50508,
         "TAMBO",
         "LA MAR",
         "AYACUCHO",
         -12.93864898,
         -74.00487913
        ],
        [
         150803,
         "CALETA DE CARQUIN",
         "HUAURA",
         "LIMA",
         -11.08925772,
         -77.62208939
        ],
        [
         170103,
         "LAS PIEDRAS",
         "TAMBOPATA",
         "MADRE DE DIOS",
         -12.4467183,
         -69.15975259
        ],
        [
         80901,
         "SANTA ANA",
         "LA CONVENCION",
         "CUSCO",
         -12.85916904,
         -72.7090067
        ],
        [
         50703,
         "CORONEL CASTAÑEDA",
         "PARINACOCHAS",
         "AYACUCHO",
         -14.77696466,
         -73.24024963
        ],
        [
         200502,
         "AMOTAPE",
         "PAITA",
         "PIURA",
         -4.887292067,
         -81.00992076
        ],
        [
         10603,
         "COCHAMAL",
         "RODRIGUEZ DE MENDOZA",
         "AMAZONAS",
         -6.390603185,
         -77.60173225
        ],
        [
         220807,
         "SAN FERNANDO",
         "RIOJA",
         "SAN MARTÍN",
         -5.884983957,
         -77.28002167
        ],
        [
         150732,
         "SURCO",
         "HUAROCHIRI",
         "LIMA",
         -11.88799604,
         -76.43903859
        ],
        [
         81002,
         "ACCHA",
         "PARURO",
         "CUSCO",
         -13.9583594,
         -71.84712219
        ],
        [
         10705,
         "JAMALCA",
         "UTCUBAMBA",
         "AMAZONAS",
         -5.92344042,
         -78.20279459
        ],
        [
         10402,
         "EL CENEPA",
         "CONDORCANQUI",
         "AMAZONAS",
         -4.448961449,
         -78.31537476
        ],
        [
         50101,
         "AYACUCHO",
         "HUAMANGA",
         "AYACUCHO",
         -13.15045977,
         -74.19748688
        ],
        [
         250101,
         "CALLERIA",
         "CORONEL PORTILLO",
         "UCAYALI",
         -8.322755857,
         -74.48606664
        ],
        [
         61102,
         "BOLIVAR",
         "SAN MIGUEL",
         "CAJAMARCA",
         -6.976809025,
         -79.17800903
        ],
        [
         61103,
         "CALQUIS",
         "SAN MIGUEL",
         "CAJAMARCA",
         -6.959455872,
         -78.85412598
        ],
        [
         20205,
         "SUCCHA",
         "AIJA",
         "ANCASH",
         -9.823254585,
         -77.65003204
        ],
        [
         110201,
         "CHINCHA ALTA",
         "CHINCHA",
         "ICA",
         -13.41759682,
         -76.13259125
        ],
        [
         90309,
         "JULCAMARCA",
         "ANGARAES",
         "HUANCAVELICA",
         -13.01515961,
         -74.44541168
        ],
        [
         180202,
         "CHOJATA",
         "GENERAL SANCHEZ CERRO",
         "MOQUEGUA",
         -16.42774487,
         -70.72272491
        ],
        [
         10111,
         "LEVANTO",
         "CHACHAPOYAS",
         "AMAZONAS",
         -6.308189869,
         -77.8992691
        ],
        [
         21301,
         "PISCOBAMBA",
         "MARISCAL LUZURIAGA",
         "ANCASH",
         -8.870290217,
         -77.3614691
        ],
        [
         30415,
         "TINTAY",
         "AYMARAES",
         "APURÍMAC",
         -13.90689581,
         -73.12446247
        ],
        [
         10606,
         "LONGAR",
         "RODRIGUEZ DE MENDOZA",
         "AMAZONAS",
         -6.366242019,
         -77.54387179
        ],
        [
         51005,
         "CANARIA",
         "VICTOR FAJARDO",
         "AYACUCHO",
         -13.96202219,
         -73.94275254
        ],
        [
         90108,
         "IZCUCHACA",
         "HUANCAVELICA",
         "HUANCAVELICA",
         -12.49995839,
         -75.00560414
        ],
        [
         40518,
         "TUTI",
         "CAYLLOMA",
         "AREQUIPA",
         -15.53282928,
         -71.54984283
        ],
        [
         50702,
         "CHUMPI",
         "PARINACOCHAS",
         "AYACUCHO",
         -15.13207245,
         -73.76943207
        ],
        [
         80504,
         "LANGUI",
         "CANAS",
         "CUSCO",
         -14.3783287,
         -71.32248383
        ],
        [
         30713,
         "VIRUNDO",
         "GRAU",
         "APURÍMAC",
         -14.25080013,
         -72.68077087
        ],
        [
         60402,
         "ANGUIA",
         "CHOTA",
         "CAJAMARCA",
         -6.334822416,
         -78.59800148
        ],
        [
         190102,
         "HUACHON",
         "PASCO",
         "PASCO",
         -10.63914967,
         -75.84277344
        ],
        [
         120699,
         "MAZAMARI-PANGOA",
         "SATIPO",
         "JUNÍN",
         -11.38693674,
         -74.45873084
        ],
        [
         40505,
         "CAYLLOMA",
         "CAYLLOMA",
         "AREQUIPA",
         -14.96718756,
         -71.852506
        ],
        [
         80608,
         "TINTA",
         "CANCHIS",
         "CUSCO",
         -14.14668894,
         -71.38959185
        ],
        [
         90302,
         "ANCHONGA",
         "ANGARAES",
         "HUANCAVELICA",
         -12.87830387,
         -74.69988905
        ],
        [
         100207,
         "SAN RAFAEL",
         "AMBO",
         "HUÁNUCO",
         -10.30658497,
         -76.14740684
        ],
        [
         160503,
         "CAPELO",
         "REQUENA",
         "LORETO",
         -5.353833993,
         -74.11344401
        ],
        [
         80503,
         "KUNTURKANKI",
         "CANAS",
         "CUSCO",
         -14.5332613,
         -71.30654144
        ],
        [
         50903,
         "CHALCOS",
         "SUCRE",
         "AYACUCHO",
         -13.84781933,
         -73.75348663
        ],
        [
         40307,
         "CHALA",
         "CARAVELI",
         "AREQUIPA",
         -15.85653162,
         -74.25025558
        ],
        [
         30603,
         "COCHARCAS",
         "CHINCHEROS",
         "APURÍMAC",
         -13.61102581,
         -73.73916626
        ],
        [
         40807,
         "QUECHUALLA",
         "LA UNION",
         "AREQUIPA",
         -15.27404118,
         -73.02204132
        ],
        [
         90102,
         "ACOBAMBILLA",
         "HUANCAVELICA",
         "HUANCAVELICA",
         -12.66774559,
         -75.3239212
        ],
        [
         160706,
         "ANDOAS",
         "DATEM DEL MARAÑON",
         "LORETO",
         -2.920539697,
         -76.45416133
        ],
        [
         10509,
         "LUYA",
         "LUYA",
         "AMAZONAS",
         -6.163862811,
         -77.98015849
        ],
        [
         21503,
         "CONCHUCOS",
         "PALLASCA",
         "ANCASH",
         -8.213106155,
         -77.67192586
        ],
        [
         210701,
         "LAMPA",
         "LAMPA",
         "PUNO",
         -15.36456856,
         -70.37980012
        ],
        [
         170102,
         "INAMBARI",
         "TAMBOPATA",
         "MADRE DE DIOS",
         -13.04527228,
         -70.30380031
        ],
        [
         21903,
         "ALFONSO UGARTE",
         "SIHUAS",
         "ANCASH",
         -8.455080032,
         -77.42923737
        ],
        [
         81203,
         "CAMANTI",
         "QUISPICANCHI",
         "CUSCO",
         -13.20674038,
         -70.64764786
        ],
        [
         150123,
         "PACHACAMAC",
         "LIMA",
         "LIMA",
         -12.22877216,
         -76.8598175
        ],
        [
         131008,
         "SITABAMBA",
         "SANTIAGO DE CHUCO",
         "LA LIBERTAD",
         -8.023310661,
         -77.73155212
        ],
        [
         180211,
         "YUNGA",
         "GENERAL SANCHEZ CERRO",
         "MOQUEGUA",
         -16.1950531,
         -70.67804718
        ],
        [
         100604,
         "JOSE CRESPO Y CASTILLO",
         "LEONCIO PRADO",
         "HUÁNUCO",
         -9.00498867,
         -76.06770192
        ],
        [
         80706,
         "LLUSCO",
         "CHUMBIVILCAS",
         "CUSCO",
         -14.40881616,
         -72.12405604
        ],
        [
         21901,
         "SIHUAS",
         "SIHUAS",
         "ANCASH",
         -8.540109673,
         -77.62646576
        ],
        [
         100507,
         "MONZON",
         "HUAMALIES",
         "HUÁNUCO",
         -9.226767921,
         -76.2512381
        ],
        [
         200603,
         "IGNACIO ESCUDERO",
         "SULLANA",
         "PIURA",
         -4.834612751,
         -80.88095016
        ],
        [
         10310,
         "SHIPASBAMBA",
         "BONGARA",
         "AMAZONAS",
         -5.893305779,
         -78.07580566
        ],
        [
         140120,
         "TUMAN",
         "CHICLAYO",
         "LAMBAYEQUE",
         -6.764205864,
         -79.68878174
        ],
        [
         130806,
         "HUAYO",
         "PATAZ",
         "LA LIBERTAD",
         -8.011818568,
         -77.61003198
        ],
        [
         150807,
         "LEONCIO PRADO",
         "HUAURA",
         "LIMA",
         -11.06017685,
         -76.92971802
        ],
        [
         120909,
         "YANACANCHA",
         "CHUPACA",
         "JUNÍN",
         -12.19415538,
         -75.39361572
        ],
        [
         10206,
         "LA PECA",
         "BAGUA",
         "AMAZONAS",
         -5.607651082,
         -78.43582604
        ],
        [
         210801,
         "AYAVIRI",
         "MELGAR",
         "PUNO",
         -14.90382259,
         -70.5989309
        ],
        [
         120304,
         "SAN LUIS DE SHUARO",
         "CHANCHAMAYO",
         "JUNÍN",
         -10.86385754,
         -75.26717486
        ],
        [
         80908,
         "SANTA TERESA",
         "LA CONVENCION",
         "CUSCO",
         -13.12764796,
         -72.64594269
        ],
        [
         150901,
         "OYON",
         "OYON",
         "LIMA",
         -10.69346476,
         -76.78327866
        ],
        [
         90608,
         "QUERCO",
         "HUAYTARA",
         "HUANCAVELICA",
         -13.97649908,
         -74.97551346
        ],
        [
         150511,
         "PACARAN",
         "CAÑETE",
         "LIMA",
         -12.87128282,
         -76.05287933
        ],
        [
         51004,
         "ASQUIPATA",
         "VICTOR FAJARDO",
         "AYACUCHO",
         -14.09213305,
         -73.94306374
        ],
        [
         90407,
         "HUACHOS",
         "CASTROVIRREYNA",
         "HUANCAVELICA",
         -13.22399378,
         -75.5273056
        ],
        [
         130105,
         "LA ESPERANZA",
         "TRUJILLO",
         "LA LIBERTAD",
         -8.078220367,
         -79.04547882
        ],
        [
         90202,
         "ANDABAMBA",
         "ACOBAMBA",
         "HUANCAVELICA",
         -12.68360825,
         -74.654422
        ],
        [
         130101,
         "TRUJILLO",
         "TRUJILLO",
         "LA LIBERTAD",
         -8.132503782,
         -79.01237161
        ],
        [
         60409,
         "HUAMBOS",
         "CHOTA",
         "CAJAMARCA",
         -6.438722079,
         -78.96587342
        ],
        [
         210402,
         "DESAGUADERO",
         "CHUCUITO",
         "PUNO",
         -16.57069244,
         -69.07029572
        ],
        [
         50608,
         "LARAMATE",
         "LUCANAS",
         "AYACUCHO",
         -14.28636265,
         -74.84278107
        ],
        [
         40401,
         "APLAO",
         "CASTILLA",
         "AREQUIPA",
         -16.04793634,
         -72.48604813
        ],
        [
         120801,
         "LA OROYA",
         "YAULI",
         "JUNÍN",
         -11.5723032,
         -75.90446014
        ],
        [
         100105,
         "MARGOS",
         "HUÁNUCO",
         "HUÁNUCO",
         -10.01187396,
         -76.50946426
        ],
        [
         20906,
         "YANAC",
         "CORONGO",
         "ANCASH",
         -8.617899895,
         -77.86361694
        ],
        [
         150608,
         "PACARAOS",
         "HUARAL",
         "LIMA",
         -11.18552494,
         -76.64726257
        ],
        [
         150724,
         "SAN PEDRO DE CASTA",
         "HUAROCHIRI",
         "LIMA",
         -11.75903702,
         -76.59638214
        ],
        [
         230107,
         "PALCA",
         "TACNA",
         "TACNA",
         -17.68337917,
         -69.77510262
        ],
        [
         80105,
         "SAN SEBASTIAN",
         "CUSCO",
         "CUSCO",
         -13.5376713,
         -71.92673747
        ],
        [
         20511,
         "LA PRIMAVERA",
         "BOLOGNESI",
         "ANCASH",
         -10.30492115,
         -77.11059697
        ],
        [
         210207,
         "JOSE DOMINGO CHOQUEHUANCA",
         "AZANGARO",
         "PUNO",
         -15.03694861,
         -70.33607265
        ],
        [
         60312,
         "LA LIBERTAD DE PALLAN",
         "CELENDIN",
         "CAJAMARCA",
         -6.7260777,
         -78.27274551
        ],
        [
         100311,
         "MARIAS",
         "DOS DE MAYO",
         "HUÁNUCO",
         -9.599035501,
         -76.56719589
        ],
        [
         40414,
         "VIRACO",
         "CASTILLA",
         "AREQUIPA",
         -15.65779781,
         -72.52481842
        ],
        [
         10401,
         "NIEVA",
         "CONDORCANQUI",
         "AMAZONAS",
         -4.715872701,
         -77.90502777
        ],
        [
         100901,
         "PUERTO INCA",
         "PUERTO INCA",
         "HUÁNUCO",
         -9.374256134,
         -75.00032425
        ],
        [
         60405,
         "CHIMBAN",
         "CHOTA",
         "CAJAMARCA",
         -6.289024512,
         -78.48083242
        ],
        [
         21808,
         "SANTA",
         "SANTA",
         "ANCASH",
         -8.987973966,
         -78.61823755
        ],
        [
         50804,
         "LAMPA",
         "PAUCAR DEL SARA SARA",
         "AYACUCHO",
         -15.22214142,
         -73.34530767
        ],
        [
         40104,
         "CERRO COLORADO",
         "AREQUIPA",
         "AREQUIPA",
         -16.36637524,
         -71.59156581
        ],
        [
         200107,
         "CURA MORI",
         "PIURA",
         "PIURA",
         -5.34400034,
         -80.66234016
        ],
        [
         210608,
         "VILQUE CHICO",
         "HUANCANE",
         "PUNO",
         -15.19450707,
         -69.6852612
        ],
        [
         220401,
         "SAPOSOA",
         "HUALLAGA",
         "SAN MARTÍN",
         -6.91633632,
         -76.80461953
        ],
        [
         150201,
         "BARRANCA",
         "BARRANCA",
         "LIMA",
         -10.74070442,
         -77.74349594
        ],
        [
         10311,
         "VALERA",
         "BONGARA",
         "AMAZONAS",
         -6.047410806,
         -77.90933482
        ],
        [
         150402,
         "ARAHUAY",
         "CANTA",
         "LIMA",
         -11.62125301,
         -76.67041016
        ],
        [
         40412,
         "UÑON",
         "CASTILLA",
         "AREQUIPA",
         -15.72852421,
         -72.43228912
        ],
        [
         100402,
         "CANCHABAMBA",
         "HUACAYBAMBA",
         "HUÁNUCO",
         -8.880148615,
         -77.12042345
        ],
        [
         130801,
         "TAYABAMBA",
         "PATAZ",
         "LA LIBERTAD",
         -8.268182975,
         -77.29759627
        ],
        [
         50704,
         "PACAPAUSA",
         "PARINACOCHAS",
         "AYACUCHO",
         -14.94924259,
         -73.36804962
        ],
        [
         120432,
         "TUNAN MARCA",
         "JAUJA",
         "JUNÍN",
         -11.73429966,
         -75.57807922
        ],
        [
         130201,
         "ASCOPE",
         "ASCOPE",
         "LA LIBERTAD",
         -7.719317118,
         -79.10303025
        ],
        [
         120134,
         "SICAYA",
         "HUANCAYO",
         "JUNÍN",
         -11.99824015,
         -75.28418308
        ],
        [
         120427,
         "RICRAN",
         "JAUJA",
         "JUNÍN",
         -11.53787613,
         -75.53803635
        ],
        [
         90305,
         "CHINCHO",
         "ANGARAES",
         "HUANCAVELICA",
         -12.98768663,
         -74.41838074
        ],
        [
         150127,
         "PUNTA NEGRA",
         "LIMA",
         "LIMA",
         -12.36626244,
         -76.79473114
        ],
        [
         100108,
         "SAN PEDRO DE CHAULAN",
         "HUÁNUCO",
         "HUÁNUCO",
         -10.05670071,
         -76.48558807
        ],
        [
         50908,
         "SAN PEDRO DE LARCAY",
         "SUCRE",
         "AYACUCHO",
         -14.1697588,
         -73.5760498
        ],
        [
         10304,
         "COROSHA",
         "BONGARA",
         "AMAZONAS",
         -5.827859436,
         -77.82378387
        ],
        [
         200701,
         "PARIÑAS",
         "TALARA",
         "PIURA",
         -4.576011521,
         -81.22252437
        ],
        [
         110503,
         "HUMAY",
         "PISCO",
         "ICA",
         -13.72696371,
         -75.92504883
        ],
        [
         120127,
         "QUICHUAY",
         "HUANCAYO",
         "JUNÍN",
         -11.88471341,
         -75.2798996
        ],
        [
         200307,
         "SONDOR",
         "HUANCABAMBA",
         "PIURA",
         -5.391553799,
         -79.39038086
        ],
        [
         40406,
         "CHOCO",
         "CASTILLA",
         "AREQUIPA",
         -15.57688808,
         -72.12906647
        ],
        [
         100802,
         "CHAGLLA",
         "PACHITEA",
         "HUÁNUCO",
         -9.78623422,
         -75.85422007
        ],
        [
         150107,
         "CHACLACAYO",
         "LIMA",
         "LIMA",
         -11.9783802,
         -76.76434326
        ],
        [
         40804,
         "HUAYNACOTAS",
         "LA UNION",
         "AREQUIPA",
         -15.12718201,
         -72.8103714
        ],
        [
         80304,
         "CHINCHAYPUJIO",
         "ANTA",
         "CUSCO",
         -13.60174322,
         -72.24177933
        ],
        [
         200203,
         "JILILI",
         "AYABACA",
         "PIURA",
         -4.587081909,
         -79.79982376
        ],
        [
         30701,
         "CHUQUIBAMBILLA",
         "GRAU",
         "APURÍMAC",
         -14.10753625,
         -72.71675518
        ],
        [
         21601,
         "POMABAMBA",
         "POMABAMBA",
         "ANCASH",
         -8.809633437,
         -77.46704853
        ],
        [
         210406,
         "POMATA",
         "CHUCUITO",
         "PUNO",
         -16.33605911,
         -69.25331301
        ],
        [
         10513,
         "OCUMAL",
         "LUYA",
         "AMAZONAS",
         -6.321867228,
         -78.19540215
        ],
        [
         110112,
         "SUBTANJALLA",
         "ICA",
         "ICA",
         -14.01962798,
         -75.7585362
        ],
        [
         40115,
         "QUEQUEÑA",
         "AREQUIPA",
         "AREQUIPA",
         -16.55432574,
         -71.46172333
        ],
        [
         210808,
         "SANTA ROSA",
         "MELGAR",
         "PUNO",
         -14.61666247,
         -70.81157837
        ],
        [
         120205,
         "COCHAS",
         "CONCEPCION",
         "JUNÍN",
         -11.64270926,
         -75.10634613
        ],
        [
         40519,
         "YANQUE",
         "CAYLLOMA",
         "AREQUIPA",
         -15.67331529,
         -71.57888985
        ],
        [
         30710,
         "SANTA ROSA",
         "GRAU",
         "APURÍMAC",
         -14.14001656,
         -72.65680695
        ],
        [
         10119,
         "SAN ISIDRO DE MAINO",
         "CHACHAPOYAS",
         "AMAZONAS",
         -6.336919785,
         -77.88015747
        ],
        [
         100605,
         "LUYANDO",
         "LEONCIO PRADO",
         "HUÁNUCO",
         -9.233384002,
         -75.9632173
        ],
        [
         90312,
         "SECCLLA",
         "ANGARAES",
         "HUANCAVELICA",
         -13.0504272,
         -74.51747704
        ],
        [
         60807,
         "POMAHUACA",
         "JAEN",
         "CAJAMARCA",
         -5.845823765,
         -79.15089874
        ],
        [
         150718,
         "SAN DAMIAN",
         "HUAROCHIRI",
         "LIMA",
         -12.01736164,
         -76.3917923
        ],
        [
         51010,
         "HUAYA",
         "VICTOR FAJARDO",
         "AYACUCHO",
         -13.86933002,
         -73.94456863
        ],
        [
         81204,
         "CCARHUAYO",
         "QUISPICANCHI",
         "CUSCO",
         -13.61771134,
         -71.33786556
        ],
        [
         210114,
         "TIQUILLACA",
         "PUNO",
         "PUNO",
         -15.76406956,
         -70.17563629
        ],
        [
         150705,
         "CHICLA",
         "HUAROCHIRI",
         "LIMA",
         -11.68234825,
         -76.25665792
        ],
        [
         80601,
         "SICUANI",
         "CANCHIS",
         "CUSCO",
         -14.25192421,
         -71.23283257
        ],
        [
         61001,
         "PEDRO GALVEZ",
         "SAN MARCOS",
         "CAJAMARCA",
         -7.337856948,
         -78.1575009
        ],
        [
         60403,
         "CHADIN",
         "CHOTA",
         "CAJAMARCA",
         -6.448125076,
         -78.41085663
        ],
        [
         22002,
         "CASCAPARA",
         "YUNGAY",
         "ANCASH",
         -9.417253017,
         -77.91073608
        ],
        [
         10508,
         "LONYA CHICO",
         "LUYA",
         "AMAZONAS",
         -6.212045431,
         -78.01874924
        ],
        [
         120406,
         "CURICACA",
         "JAUJA",
         "JUNÍN",
         -11.78437576,
         -75.62276001
        ],
        [
         200504,
         "COLAN",
         "PAITA",
         "PIURA",
         -4.915453196,
         -81.08880615
        ],
        [
         210113,
         "SAN ANTONIO",
         "PUNO",
         "PUNO",
         -16.14031792,
         -70.34382629
        ],
        [
         40201,
         "CAMANA",
         "CAMANA",
         "AREQUIPA",
         -16.62491417,
         -72.71160126
        ],
        [
         150141,
         "SURQUILLO",
         "LIMA",
         "LIMA",
         -12.11381817,
         -77.00811005
        ],
        [
         21906,
         "HUAYLLABAMBA",
         "SIHUAS",
         "ANCASH",
         -8.545394841,
         -77.55197233
        ],
        [
         210607,
         "TARACO",
         "HUANCANE",
         "PUNO",
         -15.29493414,
         -69.94781312
        ],
        [
         220505,
         "CUÑUMBUQUI",
         "LAMAS",
         "SAN MARTÍN",
         -6.590371052,
         -76.48159663
        ],
        [
         250301,
         "PADRE ABAD",
         "PADRE ABAD",
         "UCAYALI",
         -8.990778732,
         -75.49056854
        ],
        [
         120810,
         "YAULI",
         "YAULI",
         "JUNÍN",
         -11.68440342,
         -76.07778507
        ],
        [
         140311,
         "SAN JOSE",
         "LAMBAYEQUE",
         "LAMBAYEQUE",
         -6.76741298,
         -79.94330851
        ],
        [
         150701,
         "MATUCANA",
         "HUAROCHIRI",
         "LIMA",
         -11.85256715,
         -76.4053102
        ],
        [
         30107,
         "PICHIRHUA",
         "ABANCAY",
         "APURÍMAC",
         -13.77488056,
         -73.0164554
        ],
        [
         40802,
         "ALCA",
         "LA UNION",
         "AREQUIPA",
         -15.13005471,
         -72.7568531
        ],
        [
         120433,
         "YAULI",
         "JAUJA",
         "JUNÍN",
         -11.69379258,
         -75.46184158
        ],
        [
         211001,
         "PUTINA",
         "SAN ANTONIO DE PUTINA",
         "PUNO",
         -14.92139165,
         -69.86118317
        ],
        [
         21406,
         "CONGAS",
         "OCROS",
         "ANCASH",
         -10.3331543,
         -77.44284973
        ],
        [
         60611,
         "SANTA CRUZ",
         "CUTERVO",
         "CAJAMARCA",
         -6.097480456,
         -78.8429807
        ],
        [
         100501,
         "LLATA",
         "HUAMALIES",
         "HUÁNUCO",
         -9.56038739,
         -76.83011815
        ],
        [
         21206,
         "PAMPAROMAS",
         "HUAYLAS",
         "ANCASH",
         -9.093299389,
         -77.97507858
        ],
        [
         30103,
         "CIRCA",
         "ABANCAY",
         "APURÍMAC",
         -13.9015851,
         -72.89398193
        ],
        [
         120133,
         "SAPALLANGA",
         "HUANCAYO",
         "JUNÍN",
         -12.13454907,
         -75.17078345
        ],
        [
         230403,
         "ESTIQUE",
         "TARATA",
         "TACNA",
         -17.54179955,
         -70.01850891
        ],
        [
         10114,
         "MOLINOPAMPA",
         "CHACHAPOYAS",
         "AMAZONAS",
         -6.209237576,
         -77.61964162
        ],
        [
         150140,
         "SANTIAGO DE SURCO",
         "LIMA",
         "LIMA",
         -12.15073967,
         -77.00798798
        ],
        [
         20506,
         "CANIS",
         "BOLOGNESI",
         "ANCASH",
         -10.33405526,
         -77.18371073
        ],
        [
         131007,
         "SANTA CRUZ DE CHUCA",
         "SANTIAGO DE CHUCO",
         "LA LIBERTAD",
         -8.129298687,
         -78.13310432
        ],
        [
         190207,
         "TAPUC",
         "DANIEL ALCIDES CARRION",
         "PASCO",
         -10.41633039,
         -76.47061793
        ],
        [
         30106,
         "LAMBRAMA",
         "ABANCAY",
         "APURÍMAC",
         -13.83214664,
         -72.78351288
        ],
        [
         150401,
         "CANTA",
         "CANTA",
         "LIMA",
         -11.4605186,
         -76.61613941
        ],
        [
         101005,
         "RONDOS",
         "LAURICOCHA",
         "HUÁNUCO",
         -9.959838867,
         -76.6784984
        ],
        [
         100401,
         "HUACAYBAMBA",
         "HUACAYBAMBA",
         "HUÁNUCO",
         -9.027213573,
         -76.96909523
        ],
        [
         40117,
         "SACHACA",
         "AREQUIPA",
         "AREQUIPA",
         -16.43042692,
         -71.5806249
        ],
        [
         30218,
         "TURPO",
         "ANDAHUAYLAS",
         "APURÍMAC",
         -13.793854,
         -73.48386765
        ],
        [
         150512,
         "QUILMANA",
         "CAÑETE",
         "LIMA",
         -12.96512173,
         -76.38497049
        ],
        [
         150109,
         "CIENEGUILLA",
         "LIMA",
         "LIMA",
         -12.05494726,
         -76.73696232
        ],
        [
         90706,
         "DANIEL HERNANDEZ",
         "TAYACAJA",
         "HUANCAVELICA",
         -12.35862117,
         -74.83945974
        ],
        [
         110504,
         "INDEPENDENCIA",
         "PISCO",
         "ICA",
         -13.68669027,
         -76.02389043
        ],
        [
         151017,
         "HUAÑEC",
         "YAUYOS",
         "LIMA",
         -12.29271126,
         -76.13691711
        ],
        [
         60111,
         "NAMORA",
         "CAJAMARCA",
         "CAJAMARCA",
         -7.187294483,
         -78.31222449
        ],
        [
         80707,
         "QUIÑOTA",
         "CHUMBIVILCAS",
         "CUSCO",
         -14.27334762,
         -72.12141228
        ],
        [
         30704,
         "HUAYLLATI",
         "GRAU",
         "APURÍMAC",
         -13.923419,
         -72.48814774
        ],
        [
         190203,
         "GOYLLARISQUIZGA",
         "DANIEL ALCIDES CARRION",
         "PASCO",
         -10.4737463,
         -76.40859985
        ],
        [
         50601,
         "PUQUIO",
         "LUCANAS",
         "AYACUCHO",
         -14.69832172,
         -74.11862129
        ],
        [
         80902,
         "ECHARATE",
         "LA CONVENCION",
         "CUSCO",
         -12.43033412,
         -72.8585707
        ],
        [
         21308,
         "MUSGA",
         "MARISCAL LUZURIAGA",
         "ANCASH",
         -8.901290924,
         -77.34222707
        ],
        [
         50205,
         "PARAS",
         "CANGALLO",
         "AYACUCHO",
         -13.4775722,
         -74.75396919
        ],
        [
         230401,
         "TARATA",
         "TARATA",
         "TACNA",
         -17.47283088,
         -70.02388
        ],
        [
         211303,
         "COPANI",
         "YUNGUYO",
         "PUNO",
         -16.39865494,
         -69.05252838
        ],
        [
         10104,
         "CHETO",
         "CHACHAPOYAS",
         "AMAZONAS",
         -6.255577564,
         -77.70037842
        ],
        [
         20306,
         "SAN JUAN DE RONTOY",
         "ANTONIO RAYMONDI",
         "ANCASH",
         -9.219620705,
         -77.04418182
        ],
        [
         120418,
         "MOLINOS",
         "JAUJA",
         "JUNÍN",
         -11.57598972,
         -75.33297729
        ],
        [
         130207,
         "SANTIAGO DE CAO",
         "ASCOPE",
         "LA LIBERTAD",
         -7.925401324,
         -79.22233727
        ],
        [
         140302,
         "CHOCHOPE",
         "LAMBAYEQUE",
         "LAMBAYEQUE",
         -6.157775402,
         -79.64808655
        ],
        [
         130205,
         "PAIJAN",
         "ASCOPE",
         "LA LIBERTAD",
         -7.729897793,
         -79.31469932
        ],
        [
         60304,
         "HUASMIN",
         "CELENDIN",
         "CAJAMARCA",
         -6.82809999,
         -78.27765427
        ],
        [
         130703,
         "JEQUETEPEQUE",
         "PACASMAYO",
         "LA LIBERTAD",
         -7.338605819,
         -79.5400656
        ],
        [
         160605,
         "SARAYACU",
         "UCAYALI",
         "LORETO",
         -6.163691248,
         -74.97578267
        ],
        [
         21706,
         "MARCA",
         "RECUAY",
         "ANCASH",
         -10.12050465,
         -77.47691454
        ],
        [
         120111,
         "CHUPURO",
         "HUANCAYO",
         "JUNÍN",
         -12.161551,
         -75.25079536
        ],
        [
         160604,
         "PAMPA HERMOSA",
         "UCAYALI",
         "LORETO",
         -7.144608212,
         -75.26366577
        ],
        [
         21003,
         "CAJAY",
         "HUARI",
         "ANCASH",
         -9.324800264,
         -77.15343039
        ],
        [
         220506,
         "PINTO RECODO",
         "LAMAS",
         "SAN MARTÍN",
         -6.301500651,
         -76.65222579
        ],
        [
         80106,
         "SANTIAGO",
         "CUSCO",
         "CUSCO",
         -13.56733847,
         -71.98127937
        ],
        [
         50606,
         "CHIPAO",
         "LUCANAS",
         "AYACUCHO",
         -14.37569904,
         -73.87978554
        ],
        [
         150721,
         "SAN LORENZO DE QUINTI",
         "HUAROCHIRI",
         "LIMA",
         -12.14513588,
         -76.21260834
        ],
        [
         50506,
         "LUIS CARRANZA",
         "LA MAR",
         "AYACUCHO",
         -13.22884655,
         -73.89427948
        ]
       ],
       "datasetInfos": [],
       "dbfsResultPath": null,
       "isJsonSchema": true,
       "metadata": {},
       "overflow": true,
       "plotOptions": {
        "customPlotOptions": {},
        "displayType": "table",
        "pivotAggregation": null,
        "pivotColumns": null,
        "xColumns": null,
        "yColumns": null
       },
       "removedWidgets": [],
       "schema": [
        {
         "metadata": "{}",
         "name": "UBIGEO",
         "type": "\"integer\""
        },
        {
         "metadata": "{}",
         "name": "DISTRITO",
         "type": "\"string\""
        },
        {
         "metadata": "{}",
         "name": "PROVINCIA",
         "type": "\"string\""
        },
        {
         "metadata": "{}",
         "name": "DEPARTAMENTO",
         "type": "\"string\""
        },
        {
         "metadata": "{}",
         "name": "LATITUD",
         "type": "\"double\""
        },
        {
         "metadata": "{}",
         "name": "LONGITUD",
         "type": "\"double\""
        }
       ],
       "type": "table"
      }
     },
     "output_type": "display_data"
    }
   ],
   "source": [
    "display(df_ubigeo)"
   ]
  }
 ],
 "metadata": {
  "application/vnd.databricks.v1+notebook": {
   "dashboards": [],
   "language": "python",
   "notebookMetadata": {
    "pythonIndentUnit": 2
   },
   "notebookName": "2-Load-File",
   "notebookOrigID": 3583256976180960,
   "widgets": {}
  },
  "kernelspec": {
   "display_name": "Python 3 (ipykernel)",
   "language": "python",
   "name": "python3"
  },
  "language_info": {
   "codemirror_mode": {
    "name": "ipython",
    "version": 3
   },
   "file_extension": ".py",
   "mimetype": "text/x-python",
   "name": "python",
   "nbconvert_exporter": "python",
   "pygments_lexer": "ipython3",
   "version": "3.9.7"
  }
 },
 "nbformat": 4,
 "nbformat_minor": 1
}
